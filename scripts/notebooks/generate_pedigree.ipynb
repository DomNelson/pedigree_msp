{
 "cells": [
  {
   "cell_type": "code",
   "execution_count": 1,
   "metadata": {
    "collapsed": true
   },
   "outputs": [],
   "source": [
    "import numpy as np"
   ]
  },
  {
   "cell_type": "code",
   "execution_count": 6,
   "metadata": {
    "collapsed": true
   },
   "outputs": [],
   "source": [
    "a = [[1, 2], [3, 4]]"
   ]
  },
  {
   "cell_type": "code",
   "execution_count": 3,
   "metadata": {
    "collapsed": true
   },
   "outputs": [],
   "source": [
    "b = [\"a\", \"b\", \"b\"]"
   ]
  },
  {
   "cell_type": "code",
   "execution_count": 15,
   "metadata": {},
   "outputs": [
    {
     "data": {
      "text/plain": [
       "[2, 3, 4]"
      ]
     },
     "execution_count": 15,
     "metadata": {},
     "output_type": "execute_result"
    }
   ],
   "source": [
    "[i for j in a for i in j if i != 1]"
   ]
  },
  {
   "cell_type": "code",
   "execution_count": 46,
   "metadata": {},
   "outputs": [],
   "source": [
    "class Individual:\n",
    "    def __init__(self, ID, parents=None):\n",
    "        self.ID = ID\n",
    "        self.parents = [None, None]\n",
    "        if parents is not None:\n",
    "            self.parents = parents\n",
    "        \n",
    "    def get_tmrca(self, other):\n",
    "        ancs_self = set([self])\n",
    "        ancs_other = set([other])\n",
    "        common_ancs = ancs_self.intersection(ancs_other)\n",
    "        tmrca = 1\n",
    "        while len(ancs_self) > 0 and len(ancs_other) > 0:\n",
    "            ancs_self = set([a for ancs in ancs_self for a in ancs.parents if a is not None])\n",
    "            ancs_other = set([a for ancs in ancs_other for a in ancs.parents if a is not None])\n",
    "            common_ancs = ancs_self.intersection(ancs_other)\n",
    "            \n",
    "            if len(common_ancs) > 0:\n",
    "                return tmrca\n",
    "            \n",
    "            tmrca += 1\n",
    "            \n",
    "        return None"
   ]
  },
  {
   "cell_type": "code",
   "execution_count": 47,
   "metadata": {
    "collapsed": true
   },
   "outputs": [],
   "source": [
    "a = Individual(3)"
   ]
  },
  {
   "cell_type": "code",
   "execution_count": 48,
   "metadata": {
    "collapsed": true
   },
   "outputs": [],
   "source": [
    "b = Individual(4)"
   ]
  },
  {
   "cell_type": "code",
   "execution_count": 49,
   "metadata": {
    "collapsed": true
   },
   "outputs": [],
   "source": [
    "c = Individual(1, [a, b])\n",
    "d = Individual(2, [a, b])"
   ]
  },
  {
   "cell_type": "code",
   "execution_count": 50,
   "metadata": {},
   "outputs": [
    {
     "data": {
      "text/plain": [
       "1"
      ]
     },
     "execution_count": 50,
     "metadata": {},
     "output_type": "execute_result"
    }
   ],
   "source": [
    "c.get_tmrca(d)"
   ]
  },
  {
   "cell_type": "code",
   "execution_count": 159,
   "metadata": {
    "collapsed": true
   },
   "outputs": [],
   "source": [
    "class PedWriter:\n",
    "    def __init__(self, ninds, ngens=None):\n",
    "        self.ninds = np.array(ninds).astype(int)\n",
    "        if hasattr(ninds, '__iter__'):\n",
    "            self.ngens = len(ninds)\n",
    "        else:\n",
    "            assert ngens is not None\n",
    "            self.ngens = ngens\n",
    "            self.ninds = [ninds] * ngens\n",
    "            \n",
    "        max_inds_per_gen = max([n + 1 for n in self.ninds])\n",
    "        self.gen_id_digit = 10 ** (np.floor(np.log10(max_inds_per_gen)) + 1)\n",
    "        self.ped_list = []\n",
    "        \n",
    "    def build_ped_list(self, monogamous=False):\n",
    "        for i in range(self.ngens - 1):\n",
    "            inds = np.arange(1, self.ninds[i] + 1) + self.gen_id_digit * i\n",
    "            parents = np.arange(1, self.ninds[i + 1] + 1) + self.gen_id_digit * (i + 1)\n",
    "            \n",
    "            if monogamous is True:\n",
    "                couples = np.random.choice(parents, size=(self.ninds[i] // 2, 2), replace=False)\n",
    "                parent_choices_idx = np.random.choice(range(couples.shape[0]), size=self.ninds[i])\n",
    "                parent_choices = couples[parent_choices_idx]\n",
    "            else:\n",
    "                parent_choices = np.random.choice(parents, size=(self.ninds[i], 2))\n",
    "            \n",
    "            for j in range(len(inds)):\n",
    "                self.ped_list.append([inds[j], parent_choices[j][0], parent_choices[j][1]])\n",
    "                \n",
    "        # Founders denoted by 0 for parents\n",
    "        for p in set(parent_choices.ravel()):\n",
    "            self.ped_list.append([p, 0, 0])\n",
    "                \n",
    "    def write_ped(self, outfile):\n",
    "        with open(outfile, 'w') as f:\n",
    "            for row in self.ped_list:\n",
    "                line = '\\t'.join([str(int(x)) for x in row])\n",
    "                f.write(line + '\\n')\n",
    "                \n",
    "            \n",
    "            \n",
    "        "
   ]
  },
  {
   "cell_type": "code",
   "execution_count": 160,
   "metadata": {},
   "outputs": [],
   "source": [
    "BALSAC_ninds = [8000 * np.exp(0.32 * t) for t in range(17)]\n",
    "pw = PedWriter(BALSAC_ninds)"
   ]
  },
  {
   "cell_type": "code",
   "execution_count": 161,
   "metadata": {},
   "outputs": [],
   "source": [
    "pw.build_ped_list(monogamous=True)"
   ]
  },
  {
   "cell_type": "code",
   "execution_count": 162,
   "metadata": {
    "collapsed": true
   },
   "outputs": [],
   "source": [
    "pw.write_ped('/Users/dnelson/temp/test_ped_monogamous.txt')"
   ]
  },
  {
   "cell_type": "code",
   "execution_count": 1,
   "metadata": {},
   "outputs": [],
   "source": [
    "import pandas as pd\n",
    "import matplotlib.pyplot as plt"
   ]
  },
  {
   "cell_type": "code",
   "execution_count": 7,
   "metadata": {},
   "outputs": [],
   "source": [
    "df1 = pd.read_csv('/home/dnelson/project/wf_coalescent/results/pedigrees/sfs_Quebec_dtwf.csv')\n",
    "df2 = pd.read_csv('/home/dnelson/project/wf_coalescent/results/pedigrees/sfs_dtwf_only.csv')\n",
    "df3 = pd.read_csv('/home/dnelson/project/wf_coalescent/results/pedigrees/sfs_dtwf_only_monogamous.csv')"
   ]
  },
  {
   "cell_type": "code",
   "execution_count": 8,
   "metadata": {},
   "outputs": [
    {
     "data": {
      "image/png": "[encoded data removed]",
      "text/plain": [
       "<Figure size 360x288 with 1 Axes>"
      ]
     },
     "metadata": {
      "needs_background": "light"
     },
     "output_type": "display_data"
    }
   ],
   "source": [
    "fig, ax = plt.subplots(figsize=(5, 4))\n",
    "\n",
    "df1.plot('Frequency', 'Count', ax=ax, label='Quebec')\n",
    "df2.plot('Frequency', 'Count', ax=ax, label='DTWF')\n",
    "df3.plot('Frequency', 'Count', ax=ax, label='DTWF (Monogamous)')\n",
    "\n",
    "plt.title('SFS in real genealogy vs Wright-Fisher\\npopulation of same size')\n",
    "plt.xlim(1, 10)\n",
    "plt.show()"
   ]
  },
  {
   "cell_type": "code",
   "execution_count": 126,
   "metadata": {},
   "outputs": [],
   "source": [
    "df2.plot?"
   ]
  },
  {
   "cell_type": "code",
   "execution_count": null,
   "metadata": {
    "collapsed": true
   },
   "outputs": [],
   "source": []
  }
 ],
 "metadata": {
  "kernelspec": {
   "display_name": "Python 3",
   "language": "python",
   "name": "python3"
  },
  "language_info": {
   "codemirror_mode": {
    "name": "ipython",
    "version": 3
   },
   "file_extension": ".py",
   "mimetype": "text/x-python",
   "name": "python",
   "nbconvert_exporter": "python",
   "pygments_lexer": "ipython3",
   "version": "3.7.1"
  }
 },
 "nbformat": 4,
 "nbformat_minor": 2
}
