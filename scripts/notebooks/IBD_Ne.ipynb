{
 "cells": [
  {
   "cell_type": "code",
   "execution_count": 1,
   "metadata": {},
   "outputs": [],
   "source": [
    "import sys, os\n",
    "sys.path.append('/home/dnelson/project/msprime')\n",
    "import msprime"
   ]
  },
  {
   "cell_type": "code",
   "execution_count": null,
   "metadata": {},
   "outputs": [],
   "source": [
    "pedfile = '/home/dnelson/project/pedigree_msp/data/pedEx.txt'\n",
    "pedigree = msprime.Pedigree.read_txt(pedfile)\n",
    "max_ped_time = max(pedigree.time)\n",
    "\n",
    "population_configurations = [msprime.PopulationConfiguration(100)]\n",
    "demographic_events = [msprime.SimulationModelChange(max_ped_time, 'dtwf')]\n",
    "\n",
    "ts = msprime.simulate(100, Ne=100, pedigree=pedigree, model='wf_ped',\n",
    "                      demographic_events=demographic_events, length=1e6,\n",
    "                      recombination_rate=1e8)"
   ]
  },
  {
   "cell_type": "code",
   "execution_count": 20,
   "metadata": {},
   "outputs": [
    {
     "data": {
      "text/plain": [
       "1457.0"
      ]
     },
     "execution_count": 20,
     "metadata": {},
     "output_type": "execute_result"
    }
   ],
   "source": [
    "ts.max_root_time"
   ]
  },
  {
   "cell_type": "code",
   "execution_count": null,
   "metadata": {},
   "outputs": [],
   "source": []
  }
 ],
 "metadata": {
  "kernelspec": {
   "display_name": "Python 3",
   "language": "python",
   "name": "python3"
  },
  "language_info": {
   "codemirror_mode": {
    "name": "ipython",
    "version": 3
   },
   "file_extension": ".py",
   "mimetype": "text/x-python",
   "name": "python",
   "nbconvert_exporter": "python",
   "pygments_lexer": "ipython3",
   "version": "3.7.4"
  }
 },
 "nbformat": 4,
 "nbformat_minor": 2
}
