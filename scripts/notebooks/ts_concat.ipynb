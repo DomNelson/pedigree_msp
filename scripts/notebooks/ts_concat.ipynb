{
 "cells": [
  {
   "cell_type": "code",
   "execution_count": 14,
   "metadata": {},
   "outputs": [],
   "source": [
    "import sys, os\n",
    "sys.path.append('/home/dnelson/project/msprime')\n",
    "import msprime\n",
    "import tskit"
   ]
  },
  {
   "cell_type": "code",
   "execution_count": 2,
   "metadata": {},
   "outputs": [
    {
     "name": "stdout",
     "output_type": "stream",
     "text": [
      "/home/dnelson/project/msprime/msprime/__init__.py\n"
     ]
    }
   ],
   "source": [
    "print(msprime.__file__)"
   ]
  },
  {
   "cell_type": "code",
   "execution_count": 49,
   "metadata": {},
   "outputs": [
    {
     "name": "stdout",
     "output_type": "stream",
     "text": [
      "Setting pedigree times...\n",
      "Step: 0\n",
      "Step: 1\n",
      "Step: 2\n",
      "Step: 3\n",
      "Step: 4\n",
      "Step: 5\n",
      "Step: 6\n",
      "Step: 7\n",
      "Step: 8\n",
      "Step: 9\n",
      "Step: 10\n",
      "Step: 11\n",
      "Step: 12\n",
      "Step: 13\n",
      "Step: 14\n",
      "Step: 15\n",
      "Step: 16\n",
      "Step: 17\n",
      "Step: 18\n",
      "Step: 19\n",
      "Step: 20\n",
      "Step: 21\n",
      "Step: 22\n",
      "Step: 23\n",
      "Step: 24\n",
      "Step: 25\n",
      "Step: 26\n",
      "Step: 27\n",
      "Step: 28\n",
      "Step: 29\n",
      "Step: 30\n",
      "Step: 31\n",
      "Step: 32\n",
      "Step: 33\n",
      "Step: 34\n",
      "Step: 35\n",
      "Step: 36\n",
      "Step: 37\n",
      "Step: 38\n",
      "Step: 39\n",
      "Step: 40\n",
      "Step: 41\n",
      "Step: 42\n",
      "Step: 43\n",
      "Step: 44\n",
      "Step: 45\n",
      "Step: 46\n",
      "Step: 47\n",
      "Step: 48\n",
      "Step: 49\n",
      "Step: 50\n",
      "Step: 51\n",
      "Step: 52\n",
      "Step: 53\n",
      "Step: 54\n",
      "Step: 55\n",
      "Step: 56\n",
      "Step: 57\n",
      "Step: 58\n",
      "Step: 59\n",
      "Step: 60\n",
      "Step: 61\n",
      "Step: 62\n",
      "Step: 63\n",
      "Step: 64\n",
      "Step: 65\n",
      "Step: 66\n",
      "Step: 67\n",
      "Step: 68\n",
      "Step: 69\n",
      "Step: 70\n",
      "Step: 71\n",
      "Step: 72\n",
      "Step: 73\n",
      "Step: 74\n",
      "Step: 75\n",
      "Step: 76\n",
      "Step: 77\n",
      "Step: 78\n",
      "Step: 79\n",
      "Step: 80\n",
      "Step: 81\n",
      "Step: 82\n",
      "Step: 83\n",
      "Step: 84\n",
      "Step: 85\n",
      "Step: 86\n",
      "Step: 87\n",
      "Step: 88\n",
      "Step: 89\n",
      "Step: 90\n",
      "Step: 91\n",
      "Step: 92\n",
      "Step: 93\n",
      "Step: 94\n",
      "Step: 95\n",
      "Step: 96\n",
      "Step: 97\n",
      "Step: 98\n",
      "Step: 99\n"
     ]
    }
   ],
   "source": [
    "pedfile = '/home/dnelson/project/pedigree_msp/data/wf_ped_2Ne_100gens.txt'\n",
    "p = msprime.Pedigree.read_txt(pedfile)"
   ]
  },
  {
   "cell_type": "code",
   "execution_count": 50,
   "metadata": {},
   "outputs": [],
   "source": [
    "ts = msprime.simulate(2, pedigree=p, model='wf_ped', length=100)\n",
    "ts2 = msprime.simulate(2, pedigree=p, model='wf_ped', length=50)"
   ]
  },
  {
   "cell_type": "code",
   "execution_count": 51,
   "metadata": {},
   "outputs": [
    {
     "data": {
      "text/plain": [
       "100.0"
      ]
     },
     "execution_count": 51,
     "metadata": {},
     "output_type": "execute_result"
    }
   ],
   "source": [
    "ts.sequence_length"
   ]
  },
  {
   "cell_type": "code",
   "execution_count": 52,
   "metadata": {},
   "outputs": [
    {
     "data": {
      "text/plain": [
       "1.0"
      ]
     },
     "execution_count": 52,
     "metadata": {},
     "output_type": "execute_result"
    }
   ],
   "source": [
    "min([n.time for n in ts.nodes() if n.time != 0])"
   ]
  },
  {
   "cell_type": "code",
   "execution_count": 53,
   "metadata": {},
   "outputs": [],
   "source": [
    "tables_collection = ts.dump_tables()\n",
    "tables_collection2 = ts2.dump_tables()"
   ]
  },
  {
   "cell_type": "code",
   "execution_count": 54,
   "metadata": {},
   "outputs": [
    {
     "data": {
      "text/plain": [
       "13"
      ]
     },
     "execution_count": 54,
     "metadata": {},
     "output_type": "execute_result"
    }
   ],
   "source": [
    "tables_collection.ll_tables.individuals.num_rows"
   ]
  },
  {
   "cell_type": "code",
   "execution_count": 55,
   "metadata": {},
   "outputs": [
    {
     "data": {
      "text/plain": [
       "[{'id': 0, 'flags': 0, 'location': array([], dtype=float64), 'metadata': b'1', 'nodes': array([0, 1], dtype=int32)},\n",
       " {'id': 1, 'flags': 0, 'location': array([], dtype=float64), 'metadata': b'2', 'nodes': array([2, 3], dtype=int32)},\n",
       " {'id': 2, 'flags': 0, 'location': array([], dtype=float64), 'metadata': b'11', 'nodes': array([], dtype=int32)},\n",
       " {'id': 3, 'flags': 0, 'location': array([], dtype=float64), 'metadata': b'12', 'nodes': array([], dtype=int32)},\n",
       " {'id': 4, 'flags': 0, 'location': array([], dtype=float64), 'metadata': b'21', 'nodes': array([4], dtype=int32)},\n",
       " {'id': 5, 'flags': 0, 'location': array([], dtype=float64), 'metadata': b'22', 'nodes': array([], dtype=int32)},\n",
       " {'id': 6, 'flags': 0, 'location': array([], dtype=float64), 'metadata': b'32', 'nodes': array([5], dtype=int32)},\n",
       " {'id': 7, 'flags': 0, 'location': array([], dtype=float64), 'metadata': b'41', 'nodes': array([], dtype=int32)},\n",
       " {'id': 8, 'flags': 0, 'location': array([], dtype=float64), 'metadata': b'42', 'nodes': array([], dtype=int32)},\n",
       " {'id': 9, 'flags': 0, 'location': array([], dtype=float64), 'metadata': b'52', 'nodes': array([], dtype=int32)},\n",
       " {'id': 10, 'flags': 0, 'location': array([], dtype=float64), 'metadata': b'51', 'nodes': array([], dtype=int32)},\n",
       " {'id': 11, 'flags': 0, 'location': array([], dtype=float64), 'metadata': b'61', 'nodes': array([], dtype=int32)},\n",
       " {'id': 12, 'flags': 0, 'location': array([], dtype=float64), 'metadata': b'72', 'nodes': array([6], dtype=int32)}]"
      ]
     },
     "execution_count": 55,
     "metadata": {},
     "output_type": "execute_result"
    }
   ],
   "source": [
    "list(ts.individuals())"
   ]
  },
  {
   "cell_type": "code",
   "execution_count": 62,
   "metadata": {},
   "outputs": [
    {
     "data": {
      "text/plain": [
       "{'sequence_length': 100.0,\n",
       " 'individuals': {'flags': array([0, 0, 0, 0, 0, 0, 0, 0, 0, 0, 0, 0, 0], dtype=uint32),\n",
       "  'location': array([], dtype=float64),\n",
       "  'location_offset': array([0, 0, 0, 0, 0, 0, 0, 0, 0, 0, 0, 0, 0, 0], dtype=uint32),\n",
       "  'metadata': array([49, 50, 49, 49, 49, 50, 50, 49, 50, 50, 51, 50, 52, 49, 52, 50, 53,\n",
       "         50, 53, 49, 54, 49, 55, 50], dtype=int8),\n",
       "  'metadata_offset': array([ 0,  1,  2,  4,  6,  8, 10, 12, 14, 16, 18, 20, 22, 24],\n",
       "        dtype=uint32)},\n",
       " 'nodes': {'time': array([0., 0., 0., 0., 1., 2., 6.]),\n",
       "  'flags': array([1, 1, 1, 1, 0, 0, 0], dtype=uint32),\n",
       "  'population': array([0, 0, 0, 0, 0, 0, 0], dtype=int32),\n",
       "  'individual': array([ 0,  0,  1,  1,  4,  6, 12], dtype=int32),\n",
       "  'metadata': array([], dtype=int8),\n",
       "  'metadata_offset': array([0, 0, 0, 0, 0, 0, 0, 0], dtype=uint32)},\n",
       " 'edges': {'left': array([0., 0., 0., 0., 0., 0.]),\n",
       "  'right': array([100., 100., 100., 100., 100., 100.]),\n",
       "  'parent': array([4, 4, 5, 5, 6, 6], dtype=int32),\n",
       "  'child': array([1, 3, 0, 4, 2, 5], dtype=int32)},\n",
       " 'migrations': {'left': array([], dtype=float64),\n",
       "  'right': array([], dtype=float64),\n",
       "  'node': array([], dtype=int32),\n",
       "  'source': array([], dtype=int32),\n",
       "  'dest': array([], dtype=int32),\n",
       "  'time': array([], dtype=float64)},\n",
       " 'sites': {'position': array([], dtype=float64),\n",
       "  'ancestral_state': array([], dtype=int8),\n",
       "  'ancestral_state_offset': array([0], dtype=uint32),\n",
       "  'metadata': array([], dtype=int8),\n",
       "  'metadata_offset': array([0], dtype=uint32)},\n",
       " 'mutations': {'site': array([], dtype=int32),\n",
       "  'node': array([], dtype=int32),\n",
       "  'derived_state': array([], dtype=int8),\n",
       "  'derived_state_offset': array([0], dtype=uint32),\n",
       "  'parent': array([], dtype=int32),\n",
       "  'metadata': array([], dtype=int8),\n",
       "  'metadata_offset': array([0], dtype=uint32)},\n",
       " 'populations': {'metadata': array([], dtype=int8),\n",
       "  'metadata_offset': array([0, 0], dtype=uint32)},\n",
       " 'provenances': {'record': array([123,  34, 115,  99, 104, 101, 109,  97,  95, 118, 101, 114, 115,\n",
       "         105, 111, 110,  34,  58,  32,  34,  49,  46,  48,  46,  48,  34,\n",
       "          44,  32,  34, 115, 111, 102, 116, 119,  97, 114, 101,  34,  58,\n",
       "          32, 123,  34, 110,  97, 109, 101,  34,  58,  32,  34, 109, 115,\n",
       "         112, 114, 105, 109, 101,  34,  44,  32,  34, 118, 101, 114, 115,\n",
       "         105, 111, 110,  34,  58,  32,  34,  48,  46,  55,  46,  53,  46,\n",
       "         100, 101, 118,  49,  43, 110, 103,  98,  48,  55,  52,  49,  99,\n",
       "          55,  46, 100,  50,  48,  49,  57,  49,  50,  48,  53,  34, 125,\n",
       "          44,  32,  34, 112,  97, 114,  97, 109, 101, 116, 101, 114, 115,\n",
       "          34,  58,  32, 123,  34,  99, 111, 109, 109,  97, 110, 100,  34,\n",
       "          58,  32,  34, 115, 105, 109, 117, 108,  97, 116, 101,  34,  44,\n",
       "          32,  34, 114,  97, 110, 100, 111, 109,  95, 115, 101, 101, 100,\n",
       "          34,  58,  32,  51,  50,  48,  50,  55,  55,  48,  48,  50,  53,\n",
       "          44,  32,  34,  84,  79,  68,  79,  34,  58,  32,  34,  97, 100,\n",
       "         100,  32, 111, 116, 104, 101, 114,  32, 115, 105, 109, 117, 108,\n",
       "          97, 116, 105, 111, 110,  32, 112,  97, 114,  97, 109, 101, 116,\n",
       "         101, 114, 115,  34, 125,  44,  32,  34, 101, 110, 118, 105, 114,\n",
       "         111, 110, 109, 101, 110, 116,  34,  58,  32, 123,  34, 111, 115,\n",
       "          34,  58,  32, 123,  34, 115, 121, 115, 116, 101, 109,  34,  58,\n",
       "          32,  34,  76, 105, 110, 117, 120,  34,  44,  32,  34, 110, 111,\n",
       "         100, 101,  34,  58,  32,  34, 100, 110, 101, 108, 115, 111, 110,\n",
       "          45,  77,  66,  80,  34,  44,  32,  34, 114, 101, 108, 101,  97,\n",
       "         115, 101,  34,  58,  32,  34,  53,  46,  51,  46,  48,  45,  50,\n",
       "          52,  45, 103, 101, 110, 101, 114, 105,  99,  34,  44,  32,  34,\n",
       "         118, 101, 114, 115, 105, 111, 110,  34,  58,  32,  34,  35,  50,\n",
       "          54,  45,  85,  98, 117, 110, 116, 117,  32,  83,  77,  80,  32,\n",
       "          84, 104, 117,  32,  78, 111, 118,  32,  49,  52,  32,  48,  49,\n",
       "          58,  51,  51,  58,  49,  56,  32,  85,  84,  67,  32,  50,  48,\n",
       "          49,  57,  34,  44,  32,  34, 109,  97,  99, 104, 105, 110, 101,\n",
       "          34,  58,  32,  34, 120,  56,  54,  95,  54,  52,  34, 125,  44,\n",
       "          32,  34, 112, 121, 116, 104, 111, 110,  34,  58,  32, 123,  34,\n",
       "         105, 109, 112, 108, 101, 109, 101, 110, 116,  97, 116, 105, 111,\n",
       "         110,  34,  58,  32,  34,  67,  80, 121, 116, 104, 111, 110,  34,\n",
       "          44,  32,  34, 118, 101, 114, 115, 105, 111, 110,  34,  58,  32,\n",
       "          34,  51,  46,  55,  46,  52,  34, 125,  44,  32,  34, 108, 105,\n",
       "          98, 114,  97, 114, 105, 101, 115,  34,  58,  32, 123,  34, 107,\n",
       "          97, 115, 116, 111, 114, 101,  34,  58,  32, 123,  34, 118, 101,\n",
       "         114, 115, 105, 111, 110,  34,  58,  32,  34,  49,  46,  48,  46,\n",
       "          48,  34, 125,  44,  32,  34, 116, 115, 107, 105, 116,  34,  58,\n",
       "          32, 123,  34, 118, 101, 114, 115, 105, 111, 110,  34,  58,  32,\n",
       "          34,  48,  46,  50,  46,  50,  34, 125,  44,  32,  34, 103, 115,\n",
       "         108,  34,  58,  32, 123,  34, 118, 101, 114, 115, 105, 111, 110,\n",
       "          34,  58,  32,  34,  50,  46,  53,  34, 125, 125, 125, 125],\n",
       "        dtype=int8),\n",
       "  'record_offset': array([  0, 558], dtype=uint32),\n",
       "  'timestamp': array([50, 48, 49, 57, 45, 49, 50, 45, 48, 57, 84, 49, 55, 58, 53, 50, 58,\n",
       "         50, 54, 46, 55, 48, 54, 52, 54, 54], dtype=int8),\n",
       "  'timestamp_offset': array([ 0, 26], dtype=uint32)}}"
      ]
     },
     "execution_count": 62,
     "metadata": {},
     "output_type": "execute_result"
    }
   ],
   "source": [
    "tables_collection.asdict()"
   ]
  },
  {
   "cell_type": "code",
   "execution_count": 61,
   "metadata": {},
   "outputs": [],
   "source": [
    "tskit.TableCollection."
   ]
  },
  {
   "cell_type": "code",
   "execution_count": null,
   "metadata": {},
   "outputs": [],
   "source": [
    "## Steps:\n",
    "# 1) Dump tables from each tree sequence\n",
    "# 2) Combine them somehow\n",
    "# 3) Load into tskit.TableCollection\n",
    "# 4) combined_ts = tskit.TableCollection.tree_sequence()\n",
    "#\n",
    "# Build node->individual dict (or vice versa?) to build common node/individual tables, map edges onto them"
   ]
  },
  {
   "cell_type": "code",
   "execution_count": 81,
   "metadata": {},
   "outputs": [],
   "source": [
    "def clean_individuals(tables_dict):\n",
    "    ninds = len(tables_dict['individuals']['flags'])\n",
    "    inds_with_node = tables_dict['nodes']['individual']\n",
    "    \n",
    "\n",
    "class TreeSequenceConcat:\n",
    "    def __init__(self, ts_list):\n",
    "        self.ts_list = ts_list\n",
    "        \n",
    "        self.initialize_tables()\n",
    "        \n",
    "    def initialize_tables(self):\n",
    "        first_ts = self.ts_list[0]\n",
    "        self.tables_dict = first_ts.dump_tables().asdict()\n",
    "#         self.tables_dict[\"individuals\"] = list(clean_individuals(first_ts))\n",
    "        \n",
    "\n",
    "        \n",
    "        \n",
    "    "
   ]
  },
  {
   "cell_type": "code",
   "execution_count": 82,
   "metadata": {},
   "outputs": [],
   "source": [
    "TSC = TreeSequenceConcat([ts, ts2])"
   ]
  },
  {
   "cell_type": "code",
   "execution_count": 83,
   "metadata": {},
   "outputs": [
    {
     "data": {
      "text/plain": [
       "{'sequence_length': 100.0,\n",
       " 'individuals': {'flags': array([0, 0, 0, 0, 0, 0, 0, 0, 0, 0, 0, 0, 0], dtype=uint32),\n",
       "  'location': array([], dtype=float64),\n",
       "  'location_offset': array([0, 0, 0, 0, 0, 0, 0, 0, 0, 0, 0, 0, 0, 0], dtype=uint32),\n",
       "  'metadata': array([49, 50, 49, 49, 49, 50, 50, 49, 50, 50, 51, 50, 52, 49, 52, 50, 53,\n",
       "         50, 53, 49, 54, 49, 55, 50], dtype=int8),\n",
       "  'metadata_offset': array([ 0,  1,  2,  4,  6,  8, 10, 12, 14, 16, 18, 20, 22, 24],\n",
       "        dtype=uint32)},\n",
       " 'nodes': {'time': array([0., 0., 0., 0., 1., 2., 6.]),\n",
       "  'flags': array([1, 1, 1, 1, 0, 0, 0], dtype=uint32),\n",
       "  'population': array([0, 0, 0, 0, 0, 0, 0], dtype=int32),\n",
       "  'individual': array([ 0,  0,  1,  1,  4,  6, 12], dtype=int32),\n",
       "  'metadata': array([], dtype=int8),\n",
       "  'metadata_offset': array([0, 0, 0, 0, 0, 0, 0, 0], dtype=uint32)},\n",
       " 'edges': {'left': array([0., 0., 0., 0., 0., 0.]),\n",
       "  'right': array([100., 100., 100., 100., 100., 100.]),\n",
       "  'parent': array([4, 4, 5, 5, 6, 6], dtype=int32),\n",
       "  'child': array([1, 3, 0, 4, 2, 5], dtype=int32)},\n",
       " 'migrations': {'left': array([], dtype=float64),\n",
       "  'right': array([], dtype=float64),\n",
       "  'node': array([], dtype=int32),\n",
       "  'source': array([], dtype=int32),\n",
       "  'dest': array([], dtype=int32),\n",
       "  'time': array([], dtype=float64)},\n",
       " 'sites': {'position': array([], dtype=float64),\n",
       "  'ancestral_state': array([], dtype=int8),\n",
       "  'ancestral_state_offset': array([0], dtype=uint32),\n",
       "  'metadata': array([], dtype=int8),\n",
       "  'metadata_offset': array([0], dtype=uint32)},\n",
       " 'mutations': {'site': array([], dtype=int32),\n",
       "  'node': array([], dtype=int32),\n",
       "  'derived_state': array([], dtype=int8),\n",
       "  'derived_state_offset': array([0], dtype=uint32),\n",
       "  'parent': array([], dtype=int32),\n",
       "  'metadata': array([], dtype=int8),\n",
       "  'metadata_offset': array([0], dtype=uint32)},\n",
       " 'populations': {'metadata': array([], dtype=int8),\n",
       "  'metadata_offset': array([0, 0], dtype=uint32)},\n",
       " 'provenances': {'record': array([123,  34, 115,  99, 104, 101, 109,  97,  95, 118, 101, 114, 115,\n",
       "         105, 111, 110,  34,  58,  32,  34,  49,  46,  48,  46,  48,  34,\n",
       "          44,  32,  34, 115, 111, 102, 116, 119,  97, 114, 101,  34,  58,\n",
       "          32, 123,  34, 110,  97, 109, 101,  34,  58,  32,  34, 109, 115,\n",
       "         112, 114, 105, 109, 101,  34,  44,  32,  34, 118, 101, 114, 115,\n",
       "         105, 111, 110,  34,  58,  32,  34,  48,  46,  55,  46,  53,  46,\n",
       "         100, 101, 118,  49,  43, 110, 103,  98,  48,  55,  52,  49,  99,\n",
       "          55,  46, 100,  50,  48,  49,  57,  49,  50,  48,  53,  34, 125,\n",
       "          44,  32,  34, 112,  97, 114,  97, 109, 101, 116, 101, 114, 115,\n",
       "          34,  58,  32, 123,  34,  99, 111, 109, 109,  97, 110, 100,  34,\n",
       "          58,  32,  34, 115, 105, 109, 117, 108,  97, 116, 101,  34,  44,\n",
       "          32,  34, 114,  97, 110, 100, 111, 109,  95, 115, 101, 101, 100,\n",
       "          34,  58,  32,  51,  50,  48,  50,  55,  55,  48,  48,  50,  53,\n",
       "          44,  32,  34,  84,  79,  68,  79,  34,  58,  32,  34,  97, 100,\n",
       "         100,  32, 111, 116, 104, 101, 114,  32, 115, 105, 109, 117, 108,\n",
       "          97, 116, 105, 111, 110,  32, 112,  97, 114,  97, 109, 101, 116,\n",
       "         101, 114, 115,  34, 125,  44,  32,  34, 101, 110, 118, 105, 114,\n",
       "         111, 110, 109, 101, 110, 116,  34,  58,  32, 123,  34, 111, 115,\n",
       "          34,  58,  32, 123,  34, 115, 121, 115, 116, 101, 109,  34,  58,\n",
       "          32,  34,  76, 105, 110, 117, 120,  34,  44,  32,  34, 110, 111,\n",
       "         100, 101,  34,  58,  32,  34, 100, 110, 101, 108, 115, 111, 110,\n",
       "          45,  77,  66,  80,  34,  44,  32,  34, 114, 101, 108, 101,  97,\n",
       "         115, 101,  34,  58,  32,  34,  53,  46,  51,  46,  48,  45,  50,\n",
       "          52,  45, 103, 101, 110, 101, 114, 105,  99,  34,  44,  32,  34,\n",
       "         118, 101, 114, 115, 105, 111, 110,  34,  58,  32,  34,  35,  50,\n",
       "          54,  45,  85,  98, 117, 110, 116, 117,  32,  83,  77,  80,  32,\n",
       "          84, 104, 117,  32,  78, 111, 118,  32,  49,  52,  32,  48,  49,\n",
       "          58,  51,  51,  58,  49,  56,  32,  85,  84,  67,  32,  50,  48,\n",
       "          49,  57,  34,  44,  32,  34, 109,  97,  99, 104, 105, 110, 101,\n",
       "          34,  58,  32,  34, 120,  56,  54,  95,  54,  52,  34, 125,  44,\n",
       "          32,  34, 112, 121, 116, 104, 111, 110,  34,  58,  32, 123,  34,\n",
       "         105, 109, 112, 108, 101, 109, 101, 110, 116,  97, 116, 105, 111,\n",
       "         110,  34,  58,  32,  34,  67,  80, 121, 116, 104, 111, 110,  34,\n",
       "          44,  32,  34, 118, 101, 114, 115, 105, 111, 110,  34,  58,  32,\n",
       "          34,  51,  46,  55,  46,  52,  34, 125,  44,  32,  34, 108, 105,\n",
       "          98, 114,  97, 114, 105, 101, 115,  34,  58,  32, 123,  34, 107,\n",
       "          97, 115, 116, 111, 114, 101,  34,  58,  32, 123,  34, 118, 101,\n",
       "         114, 115, 105, 111, 110,  34,  58,  32,  34,  49,  46,  48,  46,\n",
       "          48,  34, 125,  44,  32,  34, 116, 115, 107, 105, 116,  34,  58,\n",
       "          32, 123,  34, 118, 101, 114, 115, 105, 111, 110,  34,  58,  32,\n",
       "          34,  48,  46,  50,  46,  50,  34, 125,  44,  32,  34, 103, 115,\n",
       "         108,  34,  58,  32, 123,  34, 118, 101, 114, 115, 105, 111, 110,\n",
       "          34,  58,  32,  34,  50,  46,  53,  34, 125, 125, 125, 125],\n",
       "        dtype=int8),\n",
       "  'record_offset': array([  0, 558], dtype=uint32),\n",
       "  'timestamp': array([50, 48, 49, 57, 45, 49, 50, 45, 48, 57, 84, 49, 55, 58, 53, 50, 58,\n",
       "         50, 54, 46, 55, 48, 54, 52, 54, 54], dtype=int8),\n",
       "  'timestamp_offset': array([ 0, 26], dtype=uint32)}}"
      ]
     },
     "execution_count": 83,
     "metadata": {},
     "output_type": "execute_result"
    }
   ],
   "source": [
    "TSC.tables_dict"
   ]
  },
  {
   "cell_type": "code",
   "execution_count": 86,
   "metadata": {},
   "outputs": [],
   "source": [
    "TC = tskit.TableCollection.fromdict(ts.dump_tables().asdict())"
   ]
  },
  {
   "cell_type": "code",
   "execution_count": 93,
   "metadata": {},
   "outputs": [],
   "source": [
    "TC.individuals.clear()"
   ]
  },
  {
   "cell_type": "code",
   "execution_count": 95,
   "metadata": {},
   "outputs": [],
   "source": [
    "for ind in ts.individuals():\n",
    "    if len(ind.nodes) > 0:\n",
    "        TC.individuals.add_row(flags=ind.flags, location=ind.location, metadata=ind.metadata)"
   ]
  },
  {
   "cell_type": "code",
   "execution_count": 96,
   "metadata": {},
   "outputs": [
    {
     "data": {
      "text/plain": [
       "{'flags': array([0, 0, 0, 0, 0], dtype=uint32),\n",
       " 'location': array([], dtype=float64),\n",
       " 'location_offset': array([0, 0, 0, 0, 0, 0], dtype=uint32),\n",
       " 'metadata': array([49, 50, 50, 49, 51, 50, 55, 50], dtype=int8),\n",
       " 'metadata_offset': array([0, 1, 2, 4, 6, 8], dtype=uint32)}"
      ]
     },
     "execution_count": 96,
     "metadata": {},
     "output_type": "execute_result"
    }
   ],
   "source": [
    "TC.individuals.asdict()"
   ]
  },
  {
   "cell_type": "code",
   "execution_count": 97,
   "metadata": {},
   "outputs": [
    {
     "data": {
      "text/plain": [
       "{'time': array([0., 0., 0., 0., 1., 2., 6.]),\n",
       " 'flags': array([1, 1, 1, 1, 0, 0, 0], dtype=uint32),\n",
       " 'population': array([0, 0, 0, 0, 0, 0, 0], dtype=int32),\n",
       " 'individual': array([ 0,  0,  1,  1,  4,  6, 12], dtype=int32),\n",
       " 'metadata': array([], dtype=int8),\n",
       " 'metadata_offset': array([0, 0, 0, 0, 0, 0, 0, 0], dtype=uint32)}"
      ]
     },
     "execution_count": 97,
     "metadata": {},
     "output_type": "execute_result"
    }
   ],
   "source": [
    "TC.nodes.asdict()"
   ]
  },
  {
   "cell_type": "code",
   "execution_count": null,
   "metadata": {},
   "outputs": [],
   "source": []
  }
 ],
 "metadata": {
  "kernelspec": {
   "display_name": "Python 3",
   "language": "python",
   "name": "python3"
  },
  "language_info": {
   "codemirror_mode": {
    "name": "ipython",
    "version": 3
   },
   "file_extension": ".py",
   "mimetype": "text/x-python",
   "name": "python",
   "nbconvert_exporter": "python",
   "pygments_lexer": "ipython3",
   "version": "3.7.4"
  }
 },
 "nbformat": 4,
 "nbformat_minor": 2
}
