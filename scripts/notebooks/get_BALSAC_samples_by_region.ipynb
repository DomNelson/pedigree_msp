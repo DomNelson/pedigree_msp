{
 "cells": [
  {
   "cell_type": "code",
   "execution_count": 2,
   "metadata": {
    "collapsed": true
   },
   "outputs": [],
   "source": [
    "import numpy as np\n",
    "import pandas as pd\n",
    "import sys, os\n",
    "from collections import Counter, defaultdict"
   ]
  },
  {
   "cell_type": "code",
   "execution_count": 3,
   "metadata": {
    "collapsed": true
   },
   "outputs": [],
   "source": [
    "proband_regions_file = '/Users/dnelson/project/anc_finder/data/BALSAC_proband_regions.txt'"
   ]
  },
  {
   "cell_type": "code",
   "execution_count": 4,
   "metadata": {},
   "outputs": [],
   "source": [
    "df = pd.read_csv(proband_regions_file, sep='\\t', header=None, names=['proband', 'region'], skipinitialspace=True)"
   ]
  },
  {
   "cell_type": "code",
   "execution_count": 5,
   "metadata": {},
   "outputs": [
    {
     "data": {
      "text/plain": [
       "Counter({nan: 2947,\n",
       "         'COTE NORD': 12810,\n",
       "         'SAGUENAY (LAC ST JEAN)': 219559,\n",
       "         'BAS SAINT LAURENT': 61963,\n",
       "         'CHARLEVOIX': 12503,\n",
       "         'COTE DU SUD': 36496,\n",
       "         'REGION DE QUEBEC': 41299,\n",
       "         'QUEBEC (AGGLOMERATION)': 94750,\n",
       "         'ABITIBI': 21826,\n",
       "         'LANAUDIERE': 36037,\n",
       "         'OUTAOUAIS': 50992,\n",
       "         'ILES DE LA MADELEINE': 3039,\n",
       "         'BOIS FRANCS': 69938,\n",
       "         'RIVE NORD OUEST (MTL)': 25623,\n",
       "         'BEAUCE': 33418,\n",
       "         'COTE DE BEAUPRE': 7859,\n",
       "         'GASPESIE': 25942,\n",
       "         'ESTRIE': 88498,\n",
       "         'TEMISCAMINGUE': 15469,\n",
       "         'ILE DE MONTREAL': 437729,\n",
       "         'MAURICIE': 74627,\n",
       "         'RESTE DU QUEBEC': 1491,\n",
       "         'RIVE SUD (MTL)': 31182,\n",
       "         'LAURENTIDES': 30932,\n",
       "         'RICHELIEU': 67221})"
      ]
     },
     "execution_count": 5,
     "metadata": {},
     "output_type": "execute_result"
    }
   ],
   "source": [
    "Counter(df['region'].values)"
   ]
  },
  {
   "cell_type": "code",
   "execution_count": 6,
   "metadata": {
    "collapsed": true
   },
   "outputs": [],
   "source": [
    "region_counts = Counter(df['region'].values)"
   ]
  },
  {
   "cell_type": "code",
   "execution_count": 7,
   "metadata": {},
   "outputs": [],
   "source": [
    "total_samples = 1000\n",
    "total_num_probands = df.shape[0]\n",
    "region_target_num_samples = {k: (v / total_num_probands) * total_samples for k, v in region_counts.items()}\n",
    "region_target_num_samples[np.nan] = 0"
   ]
  },
  {
   "cell_type": "code",
   "execution_count": 8,
   "metadata": {},
   "outputs": [
    {
     "data": {
      "text/plain": [
       "{nan: 0,\n",
       " 'COTE NORD': 8.516437855267094,\n",
       " 'SAGUENAY (LAC ST JEAN)': 145.9688195991091,\n",
       " 'BAS SAINT LAURENT': 41.19469467805738,\n",
       " 'CHARLEVOIX': 8.31233587075757,\n",
       " 'COTE DU SUD': 24.263537546122397,\n",
       " 'REGION DE QUEBEC': 27.456703121364228,\n",
       " 'QUEBEC (AGGLOMERATION)': 62.99238772728784,\n",
       " 'ABITIBI': 14.510520892198251,\n",
       " 'LANAUDIERE': 23.958381810324767,\n",
       " 'OUTAOUAIS': 33.9008742479141,\n",
       " 'ILES DE LA MADELEINE': 2.0204101984509526,\n",
       " 'BOIS FRANCS': 46.49669248412725,\n",
       " 'RIVE NORD OUEST (MTL)': 17.03487019246751,\n",
       " 'BEAUCE': 22.21719908253831,\n",
       " 'COTE DE BEAUPRE': 5.224877837981585,\n",
       " 'GASPESIE': 17.2469501047103,\n",
       " 'ESTRIE': 58.8358873782535,\n",
       " 'TEMISCAMINGUE': 10.28421367549779,\n",
       " 'ILE DE MONTREAL': 291.0141940630921,\n",
       " 'MAURICIE': 49.61406774590301,\n",
       " 'RESTE DU QUEBEC': 0.9912575208589568,\n",
       " 'RIVE SUD (MTL)': 20.73064521490543,\n",
       " 'LAURENTIDES': 20.564438387128945,\n",
       " 'RICHELIEU': 44.690356679852414}"
      ]
     },
     "execution_count": 8,
     "metadata": {},
     "output_type": "execute_result"
    }
   ],
   "source": [
    "region_target_num_samples"
   ]
  },
  {
   "cell_type": "code",
   "execution_count": 11,
   "metadata": {},
   "outputs": [
    {
     "name": "stdout",
     "output_type": "stream",
     "text": [
      "0\n",
      "100000\n",
      "200000\n",
      "300000\n",
      "400000\n",
      "500000\n",
      "600000\n",
      "700000\n",
      "800000\n",
      "900000\n",
      "1000000\n",
      "1100000\n",
      "1200000\n",
      "1300000\n",
      "1400000\n",
      "1500000\n"
     ]
    }
   ],
   "source": [
    "region_sample_count = defaultdict(int)\n",
    "sampled_inds = []\n",
    "\n",
    "# Shuffle the rows of the dataframe\n",
    "df = df.sample(frac=1, replace=False).reset_index(drop=True)\n",
    "\n",
    "for i, row in df.iterrows():    \n",
    "    if i % 100000 == 0:\n",
    "        print(i)\n",
    "        \n",
    "    if region_sample_count[row.region] >= region_target_num_samples[row.region]:\n",
    "        continue\n",
    "\n",
    "        \n",
    "    sampled_inds.append(row.proband)\n",
    "    region_sample_count[row.region] += 1"
   ]
  },
  {
   "cell_type": "code",
   "execution_count": 12,
   "metadata": {},
   "outputs": [
    {
     "data": {
      "text/plain": [
       "1010"
      ]
     },
     "execution_count": 12,
     "metadata": {},
     "output_type": "execute_result"
    }
   ],
   "source": [
    "len(sampled_inds)"
   ]
  },
  {
   "cell_type": "code",
   "execution_count": 14,
   "metadata": {},
   "outputs": [],
   "source": [
    "sample_out_file = os.path.expanduser(\n",
    "    '~/project/pedigree_msp/data/BALasc_probands1930_1010probands_proportional_regions.txt')\n",
    "\n",
    "with open(sample_out_file, 'w') as f:\n",
    "    for ind in sampled_inds:\n",
    "        f.write(str(ind) + '\\n')"
   ]
  },
  {
   "cell_type": "code",
   "execution_count": null,
   "metadata": {
    "collapsed": true
   },
   "outputs": [],
   "source": []
  }
 ],
 "metadata": {
  "kernelspec": {
   "display_name": "Python 3",
   "language": "python",
   "name": "python3"
  },
  "language_info": {
   "codemirror_mode": {
    "name": "ipython",
    "version": 3
   },
   "file_extension": ".py",
   "mimetype": "text/x-python",
   "name": "python",
   "nbconvert_exporter": "python",
   "pygments_lexer": "ipython3",
   "version": "3.6.3"
  }
 },
 "nbformat": 4,
 "nbformat_minor": 2
}
