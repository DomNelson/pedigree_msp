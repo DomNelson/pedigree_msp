{
 "cells": [
  {
   "cell_type": "code",
   "execution_count": 147,
   "metadata": {},
   "outputs": [],
   "source": [
    "import sys\n",
    "sys.path.append('/home/dnelson/project/msprime')\n",
    "import msprime\n",
    "import dask\n",
    "import networkx as nx\n",
    "from collections import defaultdict\n",
    "import itertools\n",
    "import numpy as np\n",
    "import matplotlib.pyplot as plt\n",
    "import scipy.sparse\n",
    "import os\n",
    "from tqdm import tqdm\n",
    "        \n",
    "\n",
    "def digraph_kinship(G, samples, kinship, max_time=-1):\n",
    "    ancestors = defaultdict(dict)\n",
    "    climbers = {s: set([s]) for s in samples}\n",
    "    \n",
    "    i = 0\n",
    "    while len(climbers) > 0:\n",
    "        # Adding one only works if branch lengths are also == 1\n",
    "        # TODO: Make more flexible ^^\n",
    "        i += 1\n",
    "        next_climbers = defaultdict(set)\n",
    "        for sample, climbers in climbers.items():\n",
    "            for climber in climbers:\n",
    "                for anc in G.predecessors(climber):\n",
    "                    next_climbers[sample].add(anc)\n",
    "                    ancestors[anc][sample] = i\n",
    "\n",
    "                    # Add kinship with other descendants who\n",
    "                    # have reached this ancestor\n",
    "                    for descendant in ancestors[anc]:\n",
    "                        # print(\"Adding kinship between\", sample, \"and\", descendant)\n",
    "                        j = ancestors[anc][descendant]\n",
    "                        idx = tuple(sorted([sample, descendant]))\n",
    "                        kinship[idx] += 1 / (2 ** (i + j))\n",
    "                    \n",
    "        climbers = next_climbers\n",
    "                    \n",
    "    return kinship \n",
    "\n",
    "\n",
    "def tree_to_dict_of_dicts(tree):\n",
    "    dod = {}\n",
    "    for parent in tree.nodes():\n",
    "        dod[parent] = {}\n",
    "        for child in tree.children(parent):\n",
    "            dod[parent][child] = {\n",
    "                'branch_length': tree.branch_length(child)\n",
    "            }\n",
    "            \n",
    "    return dod\n",
    "\n",
    "\n",
    "class PedKinship:\n",
    "    def __init__(self, G):\n",
    "        self.G = G\n",
    "        self.samples = None\n",
    "        self.ancestor_dists = None\n",
    "        self.kinship = None\n",
    "        \n",
    "    @staticmethod\n",
    "    def from_array(pedarray):\n",
    "        G = PedKinship.ped_to_digraph(pedarray)\n",
    "        \n",
    "        return PedKinship(G)   \n",
    "        \n",
    "    @staticmethod\n",
    "    def from_txt(pedfile):\n",
    "        pedarray = np.genfromtxt(\n",
    "            os.path.expanduser(pedfile),\n",
    "            skip_header=True,\n",
    "            dtype=int)\n",
    "                \n",
    "        return PedKinship.from_array(pedarray)\n",
    "        \n",
    "    @staticmethod\n",
    "    def ped_to_digraph(pedarray):\n",
    "        G = nx.DiGraph()\n",
    "\n",
    "        for child, father, mother in pedarray[:, :3]:\n",
    "            if father > 0:\n",
    "                G.add_edge(father, child)\n",
    "            if mother > 0:\n",
    "                G.add_edge(mother, child)\n",
    "\n",
    "        return G\n",
    "    \n",
    "    def get_probands(self):\n",
    "        return [v for v, d in self.G.out_degree() if d == 0]\n",
    "    \n",
    "    def _set_samples(self, samples):\n",
    "        self.samples = samples\n",
    "        n = len(samples)\n",
    "        self.kinship = np.zeros((n, n))\n",
    "    \n",
    "    def _build_ancestor_dists(self, max_depth=7):\n",
    "        if self.samples is None:\n",
    "            raise ValueError(\"Samples not set\")\n",
    "            \n",
    "        # Each ancestor has a dict holding a list of path lengths\n",
    "        # keyed by child ID\n",
    "        self.ancestor_dists = defaultdict(lambda: defaultdict(list))\n",
    "        climbers = {x: set([s]) for x, s in enumerate(self.samples)}\n",
    "        \n",
    "        i = 0\n",
    "        while len(climbers) > 0:\n",
    "            if i > max_depth:\n",
    "                break\n",
    "\n",
    "            next_climbers = defaultdict(set)\n",
    "            for sample_ix, climbers in climbers.items():\n",
    "                for climber in climbers:\n",
    "                    self.ancestor_dists[climber][sample_ix].append(i)\n",
    "                    for anc in self.G.predecessors(climber):\n",
    "                        next_climbers[sample_ix].add(anc)\n",
    "\n",
    "            climbers = next_climbers\n",
    "            # Adding one only works if branch lengths are also == 1\n",
    "            # TODO: Make more flexible ^^\n",
    "            i += 1\n",
    "            \n",
    "    def compute_kinship(self, samples, max_depth=7):\n",
    "        self._set_samples(samples)\n",
    "        self._build_ancestor_dists(max_depth=max_depth)\n",
    "        \n",
    "        for anc, dists in tqdm(self.ancestor_dists.items(), total=len(self.ancestor_dists), smoothing=0.1):\n",
    "            children = list(self.G.successors(anc))\n",
    "            children_dists = [self.ancestor_dists[c] for c in children if c in self.ancestor_dists]\n",
    "\n",
    "            for paths1, paths2 in itertools.combinations(children_dists, 2):\n",
    "                for sample_idx1, lengths1 in paths1.items():\n",
    "                    for sample_idx2, lengths2 in paths2.items():\n",
    "                        for l1, l2 in itertools.product(lengths1, lengths2):\n",
    "                            self.kinship[sample_idx1, sample_idx2] += 1 / (2 ** (l1 + 1 + l2 + 1))"
   ]
  },
  {
   "cell_type": "code",
   "execution_count": 148,
   "metadata": {},
   "outputs": [],
   "source": [
    "# pedfile = '/home/dnelson/project/pedigree_msp/data/Luke/Genizon_4149gen_nov2019.txt'\n",
    "# PK = PedKinship.from_txt(pedfile)\n",
    "# G = PK.G"
   ]
  },
  {
   "cell_type": "code",
   "execution_count": 149,
   "metadata": {},
   "outputs": [],
   "source": [
    "PK = PedKinship(G)\n",
    "\n",
    "probands = PK.get_probands()\n",
    "# PK.set_samples(probands[:5000])\n",
    "# PK.build_ancestor_dists(max_depth=5)"
   ]
  },
  {
   "cell_type": "code",
   "execution_count": 150,
   "metadata": {},
   "outputs": [
    {
     "name": "stderr",
     "output_type": "stream",
     "text": [
      "100%|██████████| 145509/145509 [00:03<00:00, 41357.28it/s]\n"
     ]
    }
   ],
   "source": [
    "children = PK.compute_kinship(probands, max_depth=5)"
   ]
  },
  {
   "cell_type": "code",
   "execution_count": 140,
   "metadata": {},
   "outputs": [
    {
     "data": {
      "text/plain": [
       "0.51611328125"
      ]
     },
     "execution_count": 140,
     "metadata": {},
     "output_type": "execute_result"
    }
   ],
   "source": [
    "PK.kinship.max()"
   ]
  },
  {
   "cell_type": "code",
   "execution_count": 146,
   "metadata": {},
   "outputs": [
    {
     "data": {
      "text/plain": [
       "(0,)"
      ]
     },
     "execution_count": 146,
     "metadata": {},
     "output_type": "execute_result"
    }
   ],
   "source": [
    "np.where((PK.kinship < 0.5) & (PK.kinship > 0.4))[0].shape"
   ]
  },
  {
   "cell_type": "code",
   "execution_count": 76,
   "metadata": {},
   "outputs": [
    {
     "data": {
      "text/plain": [
       "199325"
      ]
     },
     "execution_count": 76,
     "metadata": {},
     "output_type": "execute_result"
    }
   ],
   "source": [
    "probands[38]"
   ]
  },
  {
   "cell_type": "code",
   "execution_count": 77,
   "metadata": {},
   "outputs": [
    {
     "data": {
      "text/plain": [
       "199329"
      ]
     },
     "execution_count": 77,
     "metadata": {},
     "output_type": "execute_result"
    }
   ],
   "source": [
    "probands[39]"
   ]
  },
  {
   "cell_type": "code",
   "execution_count": 80,
   "metadata": {},
   "outputs": [
    {
     "data": {
      "text/plain": [
       "91256"
      ]
     },
     "execution_count": 80,
     "metadata": {},
     "output_type": "execute_result"
    }
   ],
   "source": [
    "nx.lowest_common_ancestor(PK.G, 199325, 199329)"
   ]
  },
  {
   "cell_type": "code",
   "execution_count": 82,
   "metadata": {},
   "outputs": [
    {
     "data": {
      "text/plain": [
       "[199325, 199329]"
      ]
     },
     "execution_count": 82,
     "metadata": {},
     "output_type": "execute_result"
    }
   ],
   "source": [
    "list(PK.G.successors(91256))"
   ]
  },
  {
   "cell_type": "code",
   "execution_count": 101,
   "metadata": {},
   "outputs": [
    {
     "name": "stdout",
     "output_type": "stream",
     "text": [
      "     17            \n",
      "  +---+----+       \n",
      "  |       16       \n",
      "  |     +--+--+    \n",
      "  |     |    15    \n",
      "  |     |   +-+--+ \n",
      " 13     |   |   14 \n",
      "+-+-+   |   |   +++\n",
      "|  12   |   |   | |\n",
      "| +-++  |   |   | |\n",
      "| | 11  |  10   | |\n",
      "| | +++ | +-+-+ | |\n",
      "6 2 4 9 3 0 1 7 5 8\n",
      "\n"
     ]
    }
   ],
   "source": [
    "ts = msprime.simulate(10, mutation_rate=1e-8, length=1e8, Ne=10, model='dtwf')\n",
    "\n",
    "print(ts.first().draw(format='ascii'))"
   ]
  },
  {
   "cell_type": "code",
   "execution_count": 102,
   "metadata": {},
   "outputs": [],
   "source": [
    "samples = [7, 6]\n",
    "kinship = init_sparse_kinship(samples)\n",
    "\n",
    "for tree in ts.trees():\n",
    "    g = nx.DiGraph(tree_to_dict_of_dicts(ts.first()))\n",
    "    a = digraph_kinship(g, samples, kinship)"
   ]
  },
  {
   "cell_type": "code",
   "execution_count": 103,
   "metadata": {},
   "outputs": [
    {
     "data": {
      "text/plain": [
       "array([list([]), list([]), list([]), list([]), list([]), list([]),\n",
       "       list([0.75, 0.125]), list([0.9375])], dtype=object)"
      ]
     },
     "execution_count": 103,
     "metadata": {},
     "output_type": "execute_result"
    }
   ],
   "source": [
    "kinship.data"
   ]
  },
  {
   "cell_type": "code",
   "execution_count": 47,
   "metadata": {},
   "outputs": [
    {
     "data": {
      "text/plain": [
       "(array([6, 6, 7], dtype=int32), array([6, 7, 7], dtype=int32))"
      ]
     },
     "execution_count": 47,
     "metadata": {},
     "output_type": "execute_result"
    }
   ],
   "source": [
    "a.nonzero()"
   ]
  },
  {
   "cell_type": "code",
   "execution_count": 103,
   "metadata": {},
   "outputs": [
    {
     "data": {
      "text/plain": [
       "[76060, 77127]"
      ]
     },
     "execution_count": 103,
     "metadata": {},
     "output_type": "execute_result"
    }
   ],
   "source": [
    "list(g_ped.predecessors(79826))"
   ]
  },
  {
   "cell_type": "code",
   "execution_count": 114,
   "metadata": {},
   "outputs": [],
   "source": [
    "leaves = get_digraph_leaves(g_ped)"
   ]
  },
  {
   "cell_type": "code",
   "execution_count": 115,
   "metadata": {},
   "outputs": [
    {
     "data": {
      "text/plain": [
       "[79826, 99455]"
      ]
     },
     "execution_count": 115,
     "metadata": {},
     "output_type": "execute_result"
    }
   ],
   "source": [
    "leaves[:2]"
   ]
  },
  {
   "cell_type": "code",
   "execution_count": 119,
   "metadata": {},
   "outputs": [
    {
     "data": {
      "text/plain": [
       "[]"
      ]
     },
     "execution_count": 119,
     "metadata": {},
     "output_type": "execute_result"
    }
   ],
   "source": [
    "\n",
    "list(nx.all_simple_paths(g_ped, 79826, 99455, cutoff=15))"
   ]
  },
  {
   "cell_type": "code",
   "execution_count": null,
   "metadata": {},
   "outputs": [],
   "source": []
  },
  {
   "cell_type": "code",
   "execution_count": null,
   "metadata": {},
   "outputs": [],
   "source": []
  },
  {
   "cell_type": "code",
   "execution_count": null,
   "metadata": {},
   "outputs": [],
   "source": []
  },
  {
   "cell_type": "code",
   "execution_count": null,
   "metadata": {},
   "outputs": [],
   "source": []
  },
  {
   "cell_type": "code",
   "execution_count": 122,
   "metadata": {},
   "outputs": [],
   "source": [
    "ts = msprime.load('/home/dnelson/project/pedigree_msp/results/Luke/chrom1_4134samples_Ne10000.h5')\n",
    "pedfile = '/home/dnelson/project/pedigree_msp/data/Luke/Genizon_4149gen_nov2019.txt'\n",
    "ped = np.genfromtxt('/home/dnelson/project/pedigree_msp/data/Luke/Genizon_4149gen_nov2019.txt',\n",
    "                    skip_header=True, dtype=int)"
   ]
  },
  {
   "cell_type": "code",
   "execution_count": 5,
   "metadata": {},
   "outputs": [
    {
     "data": {
      "text/plain": [
       "(array([  4134, 146021,  39059,  19652,  11718,   7535,   4499,   2896,\n",
       "          2612]), array([0, 1, 2, 3, 4, 5, 6, 7, 8, 9]))"
      ]
     },
     "execution_count": 5,
     "metadata": {},
     "output_type": "execute_result"
    }
   ],
   "source": [
    "g_ped = ped_to_digraph(ped)\n",
    "\n",
    "\n",
    "np.histogram([d for v, d in g_ped.out_degree()], bins=range(10))"
   ]
  },
  {
   "cell_type": "code",
   "execution_count": 27,
   "metadata": {},
   "outputs": [],
   "source": [
    "leaves = [v for v, d in g_ped.out_degree() if d == 0]"
   ]
  },
  {
   "cell_type": "code",
   "execution_count": 41,
   "metadata": {},
   "outputs": [
    {
     "name": "stdout",
     "output_type": "stream",
     "text": [
      "2.71 ms ± 145 µs per loop (mean ± std. dev. of 7 runs, 100 loops each)\n"
     ]
    }
   ],
   "source": [
    "%timeit a = nx.ancestors(g_ped, 79826)"
   ]
  },
  {
   "cell_type": "code",
   "execution_count": 68,
   "metadata": {},
   "outputs": [
    {
     "name": "stderr",
     "output_type": "stream",
     "text": [
      "100%|██████████| 50/50 [00:00<00:00, 10667.64it/s]\n"
     ]
    }
   ],
   "source": [
    "nx.draw(g, with_labels=True)"
   ]
  },
  {
   "cell_type": "code",
   "execution_count": 69,
   "metadata": {},
   "outputs": [
    {
     "data": {
      "image/png": "[encoded data removed]",
      "text/plain": [
       "<Figure size 432x288 with 1 Axes>"
      ]
     },
     "metadata": {},
     "output_type": "display_data"
    }
   ],
   "source": [
    "plt.show()"
   ]
  },
  {
   "cell_type": "code",
   "execution_count": 27,
   "metadata": {},
   "outputs": [
    {
     "name": "stdout",
     "output_type": "stream",
     "text": [
      "{0: 7, 1: 6, 2: 0}\n"
     ]
    }
   ],
   "source": [
    "tree = ts.first()\n",
    "\n",
    "# a dictionary of dictionaries to represent our distance matrix\n",
    "dist_dod = collections.defaultdict(dict)\n",
    "for source, target in itertools.combinations(tree.samples(), 2):\n",
    "    dist_dod[source][target] = nx.shortest_path_length(\n",
    "        g, source=source, target=target, weight=\"branch_length\"\n",
    "    )\n",
    "    dist_dod[target][source] = dist_dod[source][target]\n",
    "\n",
    "# extract the nearest neighbor of nodes 0, 1, and 2\n",
    "nearest_neighbor_of = [min(dist_dod[u], key=dist_dod[u].get) for u in range(3)]\n",
    "\n",
    "print(dict(zip(range(3), nearest_neighbor_of)))"
   ]
  },
  {
   "cell_type": "code",
   "execution_count": 9,
   "metadata": {},
   "outputs": [
    {
     "name": "stdout",
     "output_type": "stream",
     "text": [
      "     18            \n",
      "  +---+---+        \n",
      "  |      17        \n",
      "  |    +--+-+      \n",
      "  |    |   16      \n",
      "  |    |  +-+--+   \n",
      " 15    |  |    |   \n",
      "+-++   |  |    |   \n",
      "|  |  14  |    |   \n",
      "|  |  +++ |    |   \n",
      "|  |  | | |   13   \n",
      "|  |  | | |  +-+-+ \n",
      "| 12  | | |  |  11 \n",
      "| +++ | | |  |  +++\n",
      "| | | | | | 10  | |\n",
      "| | | | | | +++ | |\n",
      "8 4 9 5 6 3 0 2 1 7\n",
      "\n"
     ]
    }
   ],
   "source": [
    "ts = msprime.simulate(10, mutation_rate=1e-8, length=1e8, Ne=10, model='dtwf')\n",
    "g = nx.Graph(tree_to_dict_of_dicts(ts.first()))\n",
    "print(ts.first().draw(format='ascii'))"
   ]
  },
  {
   "cell_type": "markdown",
   "metadata": {},
   "source": [
    "Taking the graph-based distance, weighted by branch lengths, how do we convert to kinship? $\\frac{1}{2 ^{(d / 2)}}$?"
   ]
  },
  {
   "cell_type": "code",
   "execution_count": 40,
   "metadata": {},
   "outputs": [
    {
     "name": "stdout",
     "output_type": "stream",
     "text": [
      "28 [79826, 76060, 75400, 763677, 760738, 69797, 69790, 153935, 146753, 764950, 146750, 76133, 99455]\n"
     ]
    }
   ],
   "source": [
    "for i, path in enumerate(nx.shortest_simple_paths(g_ped_undirected, leaves[0], leaves[1])):\n",
    "    if len(path) > 12:\n",
    "        print(i, path)\n",
    "        break"
   ]
  },
  {
   "cell_type": "code",
   "execution_count": 29,
   "metadata": {},
   "outputs": [],
   "source": [
    "g_ped_undirected = nx.Graph(g_ped)"
   ]
  },
  {
   "cell_type": "code",
   "execution_count": 42,
   "metadata": {},
   "outputs": [
    {
     "ename": "MemoryError",
     "evalue": "Unable to allocate array with shape (238902, 238902) and data type float64",
     "output_type": "error",
     "traceback": [
      "\u001b[0;31m---------------------------------------------------------------------------\u001b[0m",
      "\u001b[0;31mMemoryError\u001b[0m                               Traceback (most recent call last)",
      "\u001b[0;32m<ipython-input-42-3265a04d5237>\u001b[0m in \u001b[0;36m<module>\u001b[0;34m\u001b[0m\n\u001b[0;32m----> 1\u001b[0;31m \u001b[0mc\u001b[0m \u001b[0;34m=\u001b[0m \u001b[0mnx\u001b[0m\u001b[0;34m.\u001b[0m\u001b[0mcommunicability\u001b[0m\u001b[0;34m(\u001b[0m\u001b[0mg_ped_undirected\u001b[0m\u001b[0;34m)\u001b[0m\u001b[0;34m\u001b[0m\u001b[0;34m\u001b[0m\u001b[0m\n\u001b[0m",
      "\u001b[0;32m</home/dnelson/anaconda3/lib/python3.7/site-packages/decorator.py:decorator-gen-291>\u001b[0m in \u001b[0;36mcommunicability\u001b[0;34m(G)\u001b[0m\n",
      "\u001b[0;32m~/anaconda3/lib/python3.7/site-packages/networkx/utils/decorators.py\u001b[0m in \u001b[0;36m_not_implemented_for\u001b[0;34m(not_implement_for_func, *args, **kwargs)\u001b[0m\n\u001b[1;32m     80\u001b[0m             \u001b[0;32mraise\u001b[0m \u001b[0mnx\u001b[0m\u001b[0;34m.\u001b[0m\u001b[0mNetworkXNotImplemented\u001b[0m\u001b[0;34m(\u001b[0m\u001b[0mmsg\u001b[0m\u001b[0;34m)\u001b[0m\u001b[0;34m\u001b[0m\u001b[0;34m\u001b[0m\u001b[0m\n\u001b[1;32m     81\u001b[0m         \u001b[0;32melse\u001b[0m\u001b[0;34m:\u001b[0m\u001b[0;34m\u001b[0m\u001b[0;34m\u001b[0m\u001b[0m\n\u001b[0;32m---> 82\u001b[0;31m             \u001b[0;32mreturn\u001b[0m \u001b[0mnot_implement_for_func\u001b[0m\u001b[0;34m(\u001b[0m\u001b[0;34m*\u001b[0m\u001b[0margs\u001b[0m\u001b[0;34m,\u001b[0m \u001b[0;34m**\u001b[0m\u001b[0mkwargs\u001b[0m\u001b[0;34m)\u001b[0m\u001b[0;34m\u001b[0m\u001b[0;34m\u001b[0m\u001b[0m\n\u001b[0m\u001b[1;32m     83\u001b[0m     \u001b[0;32mreturn\u001b[0m \u001b[0m_not_implemented_for\u001b[0m\u001b[0;34m\u001b[0m\u001b[0;34m\u001b[0m\u001b[0m\n\u001b[1;32m     84\u001b[0m \u001b[0;34m\u001b[0m\u001b[0m\n",
      "\u001b[0;32m</home/dnelson/anaconda3/lib/python3.7/site-packages/decorator.py:decorator-gen-290>\u001b[0m in \u001b[0;36mcommunicability\u001b[0;34m(G)\u001b[0m\n",
      "\u001b[0;32m~/anaconda3/lib/python3.7/site-packages/networkx/utils/decorators.py\u001b[0m in \u001b[0;36m_not_implemented_for\u001b[0;34m(not_implement_for_func, *args, **kwargs)\u001b[0m\n\u001b[1;32m     80\u001b[0m             \u001b[0;32mraise\u001b[0m \u001b[0mnx\u001b[0m\u001b[0;34m.\u001b[0m\u001b[0mNetworkXNotImplemented\u001b[0m\u001b[0;34m(\u001b[0m\u001b[0mmsg\u001b[0m\u001b[0;34m)\u001b[0m\u001b[0;34m\u001b[0m\u001b[0;34m\u001b[0m\u001b[0m\n\u001b[1;32m     81\u001b[0m         \u001b[0;32melse\u001b[0m\u001b[0;34m:\u001b[0m\u001b[0;34m\u001b[0m\u001b[0;34m\u001b[0m\u001b[0m\n\u001b[0;32m---> 82\u001b[0;31m             \u001b[0;32mreturn\u001b[0m \u001b[0mnot_implement_for_func\u001b[0m\u001b[0;34m(\u001b[0m\u001b[0;34m*\u001b[0m\u001b[0margs\u001b[0m\u001b[0;34m,\u001b[0m \u001b[0;34m**\u001b[0m\u001b[0mkwargs\u001b[0m\u001b[0;34m)\u001b[0m\u001b[0;34m\u001b[0m\u001b[0;34m\u001b[0m\u001b[0m\n\u001b[0m\u001b[1;32m     83\u001b[0m     \u001b[0;32mreturn\u001b[0m \u001b[0m_not_implemented_for\u001b[0m\u001b[0;34m\u001b[0m\u001b[0;34m\u001b[0m\u001b[0m\n\u001b[1;32m     84\u001b[0m \u001b[0;34m\u001b[0m\u001b[0m\n",
      "\u001b[0;32m~/anaconda3/lib/python3.7/site-packages/networkx/algorithms/communicability_alg.py\u001b[0m in \u001b[0;36mcommunicability\u001b[0;34m(G)\u001b[0m\n\u001b[1;32m     80\u001b[0m     \u001b[0;32mimport\u001b[0m \u001b[0mscipy\u001b[0m\u001b[0;34m.\u001b[0m\u001b[0mlinalg\u001b[0m\u001b[0;34m\u001b[0m\u001b[0;34m\u001b[0m\u001b[0m\n\u001b[1;32m     81\u001b[0m     \u001b[0mnodelist\u001b[0m \u001b[0;34m=\u001b[0m \u001b[0mlist\u001b[0m\u001b[0;34m(\u001b[0m\u001b[0mG\u001b[0m\u001b[0;34m)\u001b[0m  \u001b[0;31m# ordering of nodes in matrix\u001b[0m\u001b[0;34m\u001b[0m\u001b[0;34m\u001b[0m\u001b[0m\n\u001b[0;32m---> 82\u001b[0;31m     \u001b[0mA\u001b[0m \u001b[0;34m=\u001b[0m \u001b[0mnx\u001b[0m\u001b[0;34m.\u001b[0m\u001b[0mto_numpy_matrix\u001b[0m\u001b[0;34m(\u001b[0m\u001b[0mG\u001b[0m\u001b[0;34m,\u001b[0m \u001b[0mnodelist\u001b[0m\u001b[0;34m)\u001b[0m\u001b[0;34m\u001b[0m\u001b[0;34m\u001b[0m\u001b[0m\n\u001b[0m\u001b[1;32m     83\u001b[0m     \u001b[0;31m# convert to 0-1 matrix\u001b[0m\u001b[0;34m\u001b[0m\u001b[0;34m\u001b[0m\u001b[0;34m\u001b[0m\u001b[0m\n\u001b[1;32m     84\u001b[0m     \u001b[0mA\u001b[0m\u001b[0;34m[\u001b[0m\u001b[0mA\u001b[0m \u001b[0;34m!=\u001b[0m \u001b[0;36m0.0\u001b[0m\u001b[0;34m]\u001b[0m \u001b[0;34m=\u001b[0m \u001b[0;36m1\u001b[0m\u001b[0;34m\u001b[0m\u001b[0;34m\u001b[0m\u001b[0m\n",
      "\u001b[0;32m~/anaconda3/lib/python3.7/site-packages/networkx/convert_matrix.py\u001b[0m in \u001b[0;36mto_numpy_matrix\u001b[0;34m(G, nodelist, dtype, order, multigraph_weight, weight, nonedge)\u001b[0m\n\u001b[1;32m    442\u001b[0m     A = to_numpy_array(G, nodelist=nodelist, dtype=dtype, order=order,\n\u001b[1;32m    443\u001b[0m                        \u001b[0mmultigraph_weight\u001b[0m\u001b[0;34m=\u001b[0m\u001b[0mmultigraph_weight\u001b[0m\u001b[0;34m,\u001b[0m \u001b[0mweight\u001b[0m\u001b[0;34m=\u001b[0m\u001b[0mweight\u001b[0m\u001b[0;34m,\u001b[0m\u001b[0;34m\u001b[0m\u001b[0;34m\u001b[0m\u001b[0m\n\u001b[0;32m--> 444\u001b[0;31m                        nonedge=nonedge)\n\u001b[0m\u001b[1;32m    445\u001b[0m     \u001b[0mM\u001b[0m \u001b[0;34m=\u001b[0m \u001b[0mnp\u001b[0m\u001b[0;34m.\u001b[0m\u001b[0masmatrix\u001b[0m\u001b[0;34m(\u001b[0m\u001b[0mA\u001b[0m\u001b[0;34m,\u001b[0m \u001b[0mdtype\u001b[0m\u001b[0;34m=\u001b[0m\u001b[0mdtype\u001b[0m\u001b[0;34m)\u001b[0m\u001b[0;34m\u001b[0m\u001b[0;34m\u001b[0m\u001b[0m\n\u001b[1;32m    446\u001b[0m     \u001b[0;32mreturn\u001b[0m \u001b[0mM\u001b[0m\u001b[0;34m\u001b[0m\u001b[0;34m\u001b[0m\u001b[0m\n",
      "\u001b[0;32m~/anaconda3/lib/python3.7/site-packages/networkx/convert_matrix.py\u001b[0m in \u001b[0;36mto_numpy_array\u001b[0;34m(G, nodelist, dtype, order, multigraph_weight, weight, nonedge)\u001b[0m\n\u001b[1;32m   1117\u001b[0m     \u001b[0;32melse\u001b[0m\u001b[0;34m:\u001b[0m\u001b[0;34m\u001b[0m\u001b[0;34m\u001b[0m\u001b[0m\n\u001b[1;32m   1118\u001b[0m         \u001b[0;31m# Graph or DiGraph, this is much faster than above\u001b[0m\u001b[0;34m\u001b[0m\u001b[0;34m\u001b[0m\u001b[0;34m\u001b[0m\u001b[0m\n\u001b[0;32m-> 1119\u001b[0;31m         \u001b[0mA\u001b[0m \u001b[0;34m=\u001b[0m \u001b[0mnp\u001b[0m\u001b[0;34m.\u001b[0m\u001b[0mfull\u001b[0m\u001b[0;34m(\u001b[0m\u001b[0;34m(\u001b[0m\u001b[0mnlen\u001b[0m\u001b[0;34m,\u001b[0m \u001b[0mnlen\u001b[0m\u001b[0;34m)\u001b[0m\u001b[0;34m,\u001b[0m \u001b[0mnp\u001b[0m\u001b[0;34m.\u001b[0m\u001b[0mnan\u001b[0m\u001b[0;34m,\u001b[0m \u001b[0morder\u001b[0m\u001b[0;34m=\u001b[0m\u001b[0morder\u001b[0m\u001b[0;34m)\u001b[0m\u001b[0;34m\u001b[0m\u001b[0;34m\u001b[0m\u001b[0m\n\u001b[0m\u001b[1;32m   1120\u001b[0m         \u001b[0;32mfor\u001b[0m \u001b[0mu\u001b[0m\u001b[0;34m,\u001b[0m \u001b[0mnbrdict\u001b[0m \u001b[0;32min\u001b[0m \u001b[0mG\u001b[0m\u001b[0;34m.\u001b[0m\u001b[0madjacency\u001b[0m\u001b[0;34m(\u001b[0m\u001b[0;34m)\u001b[0m\u001b[0;34m:\u001b[0m\u001b[0;34m\u001b[0m\u001b[0;34m\u001b[0m\u001b[0m\n\u001b[1;32m   1121\u001b[0m             \u001b[0;32mfor\u001b[0m \u001b[0mv\u001b[0m\u001b[0;34m,\u001b[0m \u001b[0md\u001b[0m \u001b[0;32min\u001b[0m \u001b[0mnbrdict\u001b[0m\u001b[0;34m.\u001b[0m\u001b[0mitems\u001b[0m\u001b[0;34m(\u001b[0m\u001b[0;34m)\u001b[0m\u001b[0;34m:\u001b[0m\u001b[0;34m\u001b[0m\u001b[0;34m\u001b[0m\u001b[0m\n",
      "\u001b[0;32m~/anaconda3/lib/python3.7/site-packages/numpy/core/numeric.py\u001b[0m in \u001b[0;36mfull\u001b[0;34m(shape, fill_value, dtype, order)\u001b[0m\n\u001b[1;32m    330\u001b[0m     \u001b[0;32mif\u001b[0m \u001b[0mdtype\u001b[0m \u001b[0;32mis\u001b[0m \u001b[0;32mNone\u001b[0m\u001b[0;34m:\u001b[0m\u001b[0;34m\u001b[0m\u001b[0;34m\u001b[0m\u001b[0m\n\u001b[1;32m    331\u001b[0m         \u001b[0mdtype\u001b[0m \u001b[0;34m=\u001b[0m \u001b[0marray\u001b[0m\u001b[0;34m(\u001b[0m\u001b[0mfill_value\u001b[0m\u001b[0;34m)\u001b[0m\u001b[0;34m.\u001b[0m\u001b[0mdtype\u001b[0m\u001b[0;34m\u001b[0m\u001b[0;34m\u001b[0m\u001b[0m\n\u001b[0;32m--> 332\u001b[0;31m     \u001b[0ma\u001b[0m \u001b[0;34m=\u001b[0m \u001b[0mempty\u001b[0m\u001b[0;34m(\u001b[0m\u001b[0mshape\u001b[0m\u001b[0;34m,\u001b[0m \u001b[0mdtype\u001b[0m\u001b[0;34m,\u001b[0m \u001b[0morder\u001b[0m\u001b[0;34m)\u001b[0m\u001b[0;34m\u001b[0m\u001b[0;34m\u001b[0m\u001b[0m\n\u001b[0m\u001b[1;32m    333\u001b[0m     \u001b[0mmultiarray\u001b[0m\u001b[0;34m.\u001b[0m\u001b[0mcopyto\u001b[0m\u001b[0;34m(\u001b[0m\u001b[0ma\u001b[0m\u001b[0;34m,\u001b[0m \u001b[0mfill_value\u001b[0m\u001b[0;34m,\u001b[0m \u001b[0mcasting\u001b[0m\u001b[0;34m=\u001b[0m\u001b[0;34m'unsafe'\u001b[0m\u001b[0;34m)\u001b[0m\u001b[0;34m\u001b[0m\u001b[0;34m\u001b[0m\u001b[0m\n\u001b[1;32m    334\u001b[0m     \u001b[0;32mreturn\u001b[0m \u001b[0ma\u001b[0m\u001b[0;34m\u001b[0m\u001b[0;34m\u001b[0m\u001b[0m\n",
      "\u001b[0;31mMemoryError\u001b[0m: Unable to allocate array with shape (238902, 238902) and data type float64"
     ]
    }
   ],
   "source": [
    "c = nx.communicability(g_ped_undirected)"
   ]
  },
  {
   "cell_type": "code",
   "execution_count": 105,
   "metadata": {},
   "outputs": [
    {
     "data": {
      "text/plain": [
       "773180"
      ]
     },
     "execution_count": 105,
     "metadata": {},
     "output_type": "execute_result"
    }
   ],
   "source": [
    "nx.lowest_common_ancestor(g_ped, leaves[0], leaves[1])"
   ]
  },
  {
   "cell_type": "code",
   "execution_count": null,
   "metadata": {},
   "outputs": [],
   "source": []
  }
 ],
 "metadata": {
  "kernelspec": {
   "display_name": "Python 3",
   "language": "python",
   "name": "python3"
  },
  "language_info": {
   "codemirror_mode": {
    "name": "ipython",
    "version": 3
   },
   "file_extension": ".py",
   "mimetype": "text/x-python",
   "name": "python",
   "nbconvert_exporter": "python",
   "pygments_lexer": "ipython3",
   "version": "3.7.4"
  }
 },
 "nbformat": 4,
 "nbformat_minor": 4
}
