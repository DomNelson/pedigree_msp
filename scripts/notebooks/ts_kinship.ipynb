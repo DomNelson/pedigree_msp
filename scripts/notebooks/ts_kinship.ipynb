{
 "cells": [
  {
   "cell_type": "code",
   "execution_count": 1,
   "metadata": {},
   "outputs": [],
   "source": [
    "import sys\n",
    "sys.path.append('/home/dnelson/project/msprime')\n",
    "import msprime\n",
    "import networkx as nx\n",
    "import itertools\n",
    "import numpy as np\n",
    "import matplotlib.pyplot as plt\n",
    "import os\n",
    "\n",
    "from tqdm import tqdm\n",
    "from collections import defaultdict\n",
    "        \n",
    "    \n",
    "# def compute_ind_kinship(self, ind1, ind2):\n",
    "#     if len(list(self.G.predecessors(ind1))) == 0:\n",
    "#         if ind1 == ind2:\n",
    "#             # Founder kinship with self\n",
    "#             return 0.5\n",
    "#         if len(list(self.G.predecessors(ind2))) == 0:\n",
    "#             # Founder kinship with other founder\n",
    "#             return 0\n",
    "\n",
    "#     if ind1 == ind2:\n",
    "#         parents = self.G.predecessors(ind1)\n",
    "#         return 0.5 * (1 + self.compute_ind_kinship(*parents))\n",
    "#     else:\n",
    "#         parents = self.G.predecessors(ind1)\n",
    "#         return 0.5 * sum(\n",
    "#             [self.compute_ind_kinship(ind2, p) for p in parents])\n",
    "\n",
    "# def compute_kinship_recursive(self, samples):\n",
    "#     n = len(samples)\n",
    "#     kinship = np.zeros((n, n))\n",
    "#     sample_idx_dict = dict(zip(samples, range(n)))\n",
    "\n",
    "#     for s1, s2 in itertools.combinations_with_replacement(samples, 2):\n",
    "#         sample_idx1 = sample_idx_dict[s1]\n",
    "#         sample_idx2 = sample_idx_dict[s2]\n",
    "#         sorted_idx = sorted([sample_idx1, sample_idx2])\n",
    "#         sorted_idx = tuple(sorted_idx)\n",
    "#         kinship[sorted_idx] = self.compute_ind_kinship(s1, s2)\n",
    "\n",
    "#     return kinship\n",
    "\n",
    "def digraph_kinship(G, samples, kinship, max_time=-1):\n",
    "    ancestors = defaultdict(dict)\n",
    "    climbers = {s: set([s]) for s in samples}\n",
    "    \n",
    "    i = 0\n",
    "    while len(climbers) > 0:\n",
    "        # Adding one only works if branch lengths are also == 1\n",
    "        # TODO: Make more flexible ^^\n",
    "        i += 1\n",
    "        next_climbers = defaultdict(set)\n",
    "        for sample, climbers in climbers.items():\n",
    "            for climber in climbers:\n",
    "                for anc in G.predecessors(climber):\n",
    "                    next_climbers[sample].add(anc)\n",
    "                    ancestors[anc][sample] = i\n",
    "\n",
    "                    # Add kinship with other descendants who\n",
    "                    # have reached this ancestor\n",
    "                    for descendant in ancestors[anc]:\n",
    "                        # print(\"Adding kinship between\", sample, \"and\", descendant)\n",
    "                        j = ancestors[anc][descendant]\n",
    "                        idx = tuple(sorted([sample, descendant]))\n",
    "                        kinship[idx] += 1 / (2 ** (i + j))\n",
    "                    \n",
    "        climbers = next_climbers\n",
    "                    \n",
    "    return kinship \n",
    "\n",
    "\n",
    "def tree_to_dict_of_dicts(tree):\n",
    "    dod = {}\n",
    "    for parent in tree.nodes():\n",
    "        dod[parent] = {}\n",
    "        for child in tree.children(parent):\n",
    "            dod[parent][child] = {\n",
    "                'branch_length': tree.branch_length(child)\n",
    "            }\n",
    "            \n",
    "    return dod\n",
    "\n",
    "\n",
    "class PedKinship:\n",
    "    def __init__(self, G):\n",
    "        self.G = G\n",
    "        self.samples = None\n",
    "        self.ancestor_dists = None\n",
    "        self.kinship = None\n",
    "        \n",
    "    @staticmethod\n",
    "    def from_array(pedarray):\n",
    "        G = PedKinship.ped_to_digraph(pedarray)\n",
    "        \n",
    "        return PedKinship(G)   \n",
    "        \n",
    "    @staticmethod\n",
    "    def from_txt(pedfile):\n",
    "        pedarray = np.genfromtxt(\n",
    "            os.path.expanduser(pedfile),\n",
    "            skip_header=True,\n",
    "            dtype=int)\n",
    "                \n",
    "        return PedKinship.from_array(pedarray)\n",
    "        \n",
    "    @staticmethod\n",
    "    def ped_to_digraph(pedarray):\n",
    "        G = nx.DiGraph()\n",
    "\n",
    "        for child, father, mother in pedarray[:, :3]:\n",
    "            if father > 0:\n",
    "                G.add_edge(father, child)\n",
    "            if mother > 0:\n",
    "                G.add_edge(mother, child)\n",
    "\n",
    "        return G\n",
    "    \n",
    "    def get_probands(self):\n",
    "        return [v for v, d in self.G.out_degree() if d == 0]\n",
    "    \n",
    "    def _set_samples(self, samples):\n",
    "        self.samples = samples\n",
    "        n = len(samples)\n",
    "        self.kinship = np.zeros((n, n))\n",
    "    \n",
    "    def _build_ancestor_dists(self, max_depth=7):\n",
    "        \"\"\"\n",
    "        Builds a dict of dicts. Outer dict links ancestors to probands,\n",
    "        inner dict holds list of path lengths between the two.\n",
    "        \"\"\"\n",
    "        if self.samples is None:\n",
    "            raise ValueError(\"Samples not set\")\n",
    "            \n",
    "        # Each ancestor has a dict holding a list of path lengths\n",
    "        # keyed by child ID\n",
    "        self.ancestor_dists = defaultdict(lambda: defaultdict(list))\n",
    "        climbers = {x: set([s]) for x, s in enumerate(self.samples)}\n",
    "        \n",
    "        i = 0\n",
    "        while len(climbers) > 0:\n",
    "            if i > max_depth:\n",
    "                break\n",
    "\n",
    "            next_climbers = defaultdict(set)\n",
    "            for sample_ix, climbers in climbers.items():\n",
    "                for climber in climbers:\n",
    "                    self.ancestor_dists[climber][sample_ix].append(i)\n",
    "                    for anc in self.G.predecessors(climber):\n",
    "                        next_climbers[sample_ix].add(anc)\n",
    "\n",
    "            climbers = next_climbers\n",
    "            # Adding one only works if branch lengths are also == 1\n",
    "            # TODO: Make more flexible ^^\n",
    "            i += 1\n",
    "\n",
    "    def compute_kinship(self, samples, max_depth=7):\n",
    "        self._set_samples(samples)\n",
    "        self._build_ancestor_dists(max_depth=max_depth)\n",
    "\n",
    "        for anc, dists in tqdm(self.ancestor_dists.items(),\n",
    "                               total=len(self.ancestor_dists),\n",
    "                               smoothing=0.1):\n",
    "            children = list(self.G.successors(anc))\n",
    "            children_dists = [self.ancestor_dists[c] for c in children\n",
    "                              if c in self.ancestor_dists]\n",
    "\n",
    "            for paths1, paths2 in itertools.combinations(children_dists, 2):\n",
    "                for sample_idx1, lengths1 in paths1.items():\n",
    "                    for sample_idx2, lengths2 in paths2.items():\n",
    "                        for l1, l2 in itertools.product(lengths1, lengths2):\n",
    "                            # Since we're looking at the path lengths to \n",
    "                            # children of the common ancestor, we add one\n",
    "                            # to each length\n",
    "                            kinship = 1 / (2 ** (1 + l1 + 1 + l2 + 1))\n",
    "\n",
    "                            # Make sure we're only filling upper-triangular\n",
    "                            # portion of matrix\n",
    "                            sorted_idx = sorted([sample_idx1, sample_idx2])\n",
    "                            sorted_idx = tuple(sorted_idx)\n",
    "\n",
    "                            self.kinship[sorted_idx] += kinship\n",
    "\n",
    "        return self.kinship\n",
    "\n",
    "\n",
    "    @staticmethod\n",
    "    def test_kinship(G=None, pedfile=None):\n",
    "        if ((G is None and pedfile is None) or \n",
    "            (G is not None and pedfile is not None)):\n",
    "            raise ValueError(\"Must provide either Graph or pedigree text file\")\n",
    "        \n",
    "        if G is not None:\n",
    "            PK = PedKinship(G)\n",
    "        else:\n",
    "            PK = PedKinship.from_txt(pedfile)\n",
    "            \n",
    "        probands = PK.get_probands()\n",
    "        kinship = PK.compute_kinship(probands[:10])\n",
    "        \n",
    "        return kinship\n",
    "    \n",
    "\n",
    "class TSKinship:\n",
    "    # TODO: Pull out individuals based on ID stored in\n",
    "    #       metadata\n",
    "    \n",
    "    @staticmethod\n",
    "    def get_sample_inds(ts):\n",
    "        # NOTE: This only checks if the first associated\n",
    "        #       node is a sample, which I think is enough\n",
    "        sample_inds = []\n",
    "        sample_nodes = set(ts.samples())\n",
    "        for ind in ts.individuals():\n",
    "            if len(ind.nodes) > 0:\n",
    "                if ind.nodes[0] in sample_nodes:\n",
    "                    sample_inds.append(ind)\n",
    "                    \n",
    "        return sample_inds\n",
    "    \n",
    "    @staticmethod\n",
    "    def build_sample_ind_idx_dict(ts, individuals):\n",
    "        ind_node_dict = {}\n",
    "        for i, ind in enumerate(individuals):\n",
    "            if ind.id in set(ts.samples()):\n",
    "                ind_node_dict.update({n: i for n in ind.nodes})\n",
    "                \n",
    "        return ind_node_dict\n",
    "        \n",
    "    @staticmethod\n",
    "    def compute_node_kinship(ts, sample_nodes, max_depth=5):\n",
    "        n = len(sample_nodes)\n",
    "\n",
    "        kinship = np.zeros((n, n))\n",
    "        sample_idx_dict = dict(zip(sample_nodes, range(n)))\n",
    "        \n",
    "        for tree in ts.trees():\n",
    "            L = tree.get_length()\n",
    "            for s1, s2 in itertools.combinations(sample_nodes, 2):\n",
    "                if tree.tmrca(s1, s2) > max_depth:\n",
    "                    continue\n",
    "                    \n",
    "                # Make sure we're only filling upper-triangular\n",
    "                # portion of matrix\n",
    "                s1_idx = sample_idx_dict[s1]\n",
    "                s2_idx = sample_idx_dict[s2]\n",
    "                sorted_idx = sorted([s1_idx, s2_idx])\n",
    "                sorted_idx = tuple(sorted_idx)\n",
    "                \n",
    "                kinship[sorted_idx] += L / ts.get_sequence_length()\n",
    "                \n",
    "        return kinship\n",
    "    \n",
    "    @staticmethod\n",
    "    def compute_ind_kinship(ts, individuals, max_depth=5):\n",
    "        n = len(individuals)\n",
    "        kinship = np.zeros((n, n))\n",
    "        min_tmrca = 1000\n",
    "        closest_pair = None\n",
    "        \n",
    "        sample_ind_idx_dict = TSKinship.build_sample_ind_idx_dict(ts, individuals)\n",
    "        sample_nodes = sample_ind_idx_dict.keys()\n",
    "        for k, v in sample_ind_idx_dict.items():\n",
    "            print(k, v)\n",
    "        \n",
    "        for tree in tqdm(ts.trees(), total=ts.num_trees):\n",
    "            L = tree.get_length()\n",
    "            for s1, s2 in itertools.combinations(sample_nodes, 2):\n",
    "\n",
    "                if tree.tmrca(s1, s2) > max_depth:\n",
    "                    continue\n",
    "                    \n",
    "#                 if np.abs(s2 - s1) > 1:\n",
    "#                     print(s1, s2)\n",
    "#                     print(tree.tmrca(s1, s2))\n",
    "#                     assert(1 == 2)\n",
    "                # Make sure we're only filling upper-triangular\n",
    "                # portion of matrix\n",
    "                s1_idx = sample_ind_idx_dict[s1]\n",
    "                s2_idx = sample_ind_idx_dict[s2]\n",
    "                sorted_idx = sorted([s1_idx, s2_idx])\n",
    "                sorted_idx = tuple(sorted_idx)\n",
    "                \n",
    "                if min_tmrca > tree.tmrca(s1, s2):\n",
    "                    min_tmrca = tree.tmrca(s1, s2)\n",
    "                    closest_pair = (s1_idx, s2_idx)\n",
    "                    \n",
    "                kinship[sorted_idx] += L / (4 * ts.get_sequence_length())\n",
    "#                 kinship[sorted_idx] += 1 / 2 ** (2 * tree.tmrca(s1, s2))\n",
    "    \n",
    "        print(min_tmrca, closest_pair)\n",
    "                \n",
    "        return kinship"
   ]
  },
  {
   "cell_type": "code",
   "execution_count": 2,
   "metadata": {},
   "outputs": [],
   "source": [
    "# pedfile = '/home/dnelson/project/pedigree_msp/data/small_test_ped.txt'\n",
    "# pedfile = '/home/dnelson/project/pedigree_msp/data/pedEx.txt'\n",
    "pedfile = '/home/dnelson/project/pedigree_msp/data/Luke/Genizon_4149gen_nov2019.txt'\n",
    "\n",
    "pedigree = msprime.Pedigree.read_txt(pedfile)                                                            \n",
    "\n",
    "popsize = 1\n",
    "num_samples = 5\n",
    "mu = 1e-8\n",
    "length = 10e8\n",
    "rho = 1e-8\n",
    "end_time = None\n",
    "model = 'dtwf'\n",
    "\n",
    "pedigree.set_samples(sample_IDs=[418677, 418682, 382315, 8701951, 574617])                           \n",
    "# pedigree.set_samples(num_samples=num_samples)                           \n",
    "                                                                            \n",
    "## Build demographic events for model changes after pedigree sims           \n",
    "des = []                                                                    \n",
    "if model is not None:                                                  \n",
    "    pedigree_end_time = max(pedigree.time)                                  \n",
    "    des.append(msprime.SimulationModelChange(pedigree_end_time, model))\n",
    "                                                                            \n",
    "## For testing, sometimes need to specify num_loci directly                 \n",
    "rm = msprime.RecombinationMap(                                              \n",
    "        [0, int(length)],                                              \n",
    "        [rho, 0], discrete=True)                                       \n",
    "                                                                            \n",
    "ts = msprime.simulate(                                              \n",
    "        num_samples, Ne=popsize, pedigree=pedigree,                    \n",
    "        model='wf_ped', mutation_rate=mu,                              \n",
    "        recombination_map=rm,                                               \n",
    "        end_time=end_time,                                             \n",
    "        demographic_events=des)             "
   ]
  },
  {
   "cell_type": "code",
   "execution_count": 3,
   "metadata": {},
   "outputs": [
    {
     "name": "stdout",
     "output_type": "stream",
     "text": [
      "/home/dnelson/project/msprime/msprime/__init__.py\n"
     ]
    }
   ],
   "source": [
    "print(msprime.__file__)"
   ]
  },
  {
   "cell_type": "code",
   "execution_count": 4,
   "metadata": {},
   "outputs": [],
   "source": [
    "# ts.dump('/home/dnelson/project/pedigree_msp/results/genizon_mismatch_inds.h5')"
   ]
  },
  {
   "cell_type": "code",
   "execution_count": 5,
   "metadata": {},
   "outputs": [
    {
     "name": "stderr",
     "output_type": "stream",
     "text": [
      "100%|██████████| 629/629 [00:00<00:00, 14651.88it/s]"
     ]
    },
    {
     "name": "stdout",
     "output_type": "stream",
     "text": [
      "[{'id': 0, 'flags': 0, 'location': array([], dtype=float64), 'metadata': b'382315', 'nodes': array([0, 1], dtype=int32)}, {'id': 1, 'flags': 0, 'location': array([], dtype=float64), 'metadata': b'418677', 'nodes': array([2, 3], dtype=int32)}, {'id': 2, 'flags': 0, 'location': array([], dtype=float64), 'metadata': b'418682', 'nodes': array([4, 5], dtype=int32)}, {'id': 3, 'flags': 0, 'location': array([], dtype=float64), 'metadata': b'574617', 'nodes': array([6, 7], dtype=int32)}, {'id': 4, 'flags': 0, 'location': array([], dtype=float64), 'metadata': b'8701951', 'nodes': array([8, 9], dtype=int32)}]\n",
      "[382315, 418677, 418682, 574617, 8701951]\n",
      "0 0\n",
      "1 0\n",
      "2 1\n",
      "3 1\n",
      "4 2\n",
      "5 2\n",
      "6 3\n",
      "7 3\n",
      "8 4\n",
      "9 4\n",
      "4.0 (2, 3)\n",
      "0.27600541100000003\n",
      "[[0.         0.0016902  0.016705   0.01145903 0.00150548]\n",
      " [0.         0.         0.01878822 0.018868   0.00604911]\n",
      " [0.         0.         0.         0.27600541 0.02433178]\n",
      " [0.         0.         0.         0.         0.03191785]\n",
      " [0.         0.         0.         0.         0.00071554]]\n"
     ]
    },
    {
     "name": "stderr",
     "output_type": "stream",
     "text": [
      "\n"
     ]
    }
   ],
   "source": [
    "# ts_inds = msprime.load('/home/dnelson/project/pedigree_msp/results/trees/small_BALSAC_1000inds.h5')\n",
    "# ts_inds = msprime.load('/home/dnelson/project/pedigree_msp/results/test/trees/small_test_ped.h5')\n",
    "sample_inds = TSKinship.get_sample_inds(ts)\n",
    "# sample_inds = sample_inds[:20]\n",
    "# sample_inds = [sample_inds[x] for x in [100, 101]]\n",
    "# sample_inds = [sample_inds[x] for x in [12, 19, 100, 41, 478, 101]]\n",
    "print(sample_inds)\n",
    "print([int(ind.metadata.decode('utf8')) for ind in sample_inds])\n",
    "\n",
    "kinship = TSKinship.compute_ind_kinship(ts, sample_inds, max_depth=7)\n",
    "print(kinship.max())\n",
    "if kinship.shape[0] < 10:\n",
    "    print(kinship)"
   ]
  },
  {
   "cell_type": "code",
   "execution_count": 130,
   "metadata": {},
   "outputs": [
    {
     "data": {
      "text/plain": [
       "array([ 0, 22, 21, 20, 18, 17, 16, 15, 23, 11, 12,  6,  5,  4, 10, 24,  1,\n",
       "        8,  7,  9,  3, 19,  2, 14, 13])"
      ]
     },
     "execution_count": 130,
     "metadata": {},
     "output_type": "execute_result"
    }
   ],
   "source": [
    "np.argsort(kinship.ravel())"
   ]
  },
  {
   "cell_type": "code",
   "execution_count": 131,
   "metadata": {},
   "outputs": [
    {
     "data": {
      "text/plain": [
       "array([22, 21, 20, 17,  5, 16, 15, 23, 11, 10, 24, 12,  6, 18, 19,  4,  0,\n",
       "        3,  8, 13, 14,  9,  2,  1,  7])"
      ]
     },
     "execution_count": 131,
     "metadata": {},
     "output_type": "execute_result"
    }
   ],
   "source": [
    "np.argsort(ped_kinship.ravel())"
   ]
  },
  {
   "cell_type": "code",
   "execution_count": 146,
   "metadata": {},
   "outputs": [
    {
     "data": {
      "text/plain": [
       "array([0.   , 0.001, 0.014, 0.001, 0.   , 0.   , 0.   , 0.018, 0.016,\n",
       "       0.005, 0.   , 0.   , 0.   , 0.247, 0.027, 0.   , 0.   , 0.   ,\n",
       "       0.   , 0.024, 0.   , 0.   , 0.   , 0.   , 0.   ])"
      ]
     },
     "execution_count": 146,
     "metadata": {},
     "output_type": "execute_result"
    }
   ],
   "source": [
    "kinship.ravel()"
   ]
  },
  {
   "cell_type": "code",
   "execution_count": 147,
   "metadata": {},
   "outputs": [
    {
     "data": {
      "text/plain": [
       "array([0.009, 0.042, 0.042, 0.011, 0.005, 0.   , 0.001, 0.251, 0.016,\n",
       "       0.031, 0.   , 0.   , 0.001, 0.016, 0.031, 0.   , 0.   , 0.   ,\n",
       "       0.002, 0.003, 0.   , 0.   , 0.   , 0.   , 0.   ])"
      ]
     },
     "execution_count": 147,
     "metadata": {},
     "output_type": "execute_result"
    }
   ],
   "source": [
    "ped_kinship.ravel()"
   ]
  },
  {
   "cell_type": "code",
   "execution_count": 157,
   "metadata": {},
   "outputs": [],
   "source": [
    "t = ts.first()"
   ]
  },
  {
   "cell_type": "code",
   "execution_count": 158,
   "metadata": {},
   "outputs": [
    {
     "name": "stdout",
     "output_type": "stream",
     "text": [
      "       50          \n",
      "   +----+---+      \n",
      "  48       49      \n",
      "+-+++-+ +-+-++---+ \n",
      "| | | | | | 11  12 \n",
      "| | | | | | +++ +++\n",
      "0 2 3 8 1 9 5 7 4 6\n",
      "\n"
     ]
    }
   ],
   "source": [
    "print(t.draw(format='ascii'))"
   ]
  },
  {
   "cell_type": "code",
   "execution_count": 100,
   "metadata": {},
   "outputs": [
    {
     "data": {
      "text/plain": [
       "18.0"
      ]
     },
     "execution_count": 100,
     "metadata": {},
     "output_type": "execute_result"
    }
   ],
   "source": [
    "t.tmrca(1, 2)"
   ]
  },
  {
   "cell_type": "code",
   "execution_count": 159,
   "metadata": {},
   "outputs": [
    {
     "data": {
      "text/plain": [
       "[(0, b'382315', array([0, 1], dtype=int32)),\n",
       " (1, b'418677', array([2, 3], dtype=int32)),\n",
       " (2, b'418682', array([4, 5], dtype=int32)),\n",
       " (3, b'574617', array([6, 7], dtype=int32)),\n",
       " (4, b'8701951', array([8, 9], dtype=int32)),\n",
       " (25, b'2614363', array([10], dtype=int32)),\n",
       " (26, b'2614364', array([11], dtype=int32)),\n",
       " (73, b'59471', array([12], dtype=int32)),\n",
       " (74, b'109661', array([13], dtype=int32)),\n",
       " (158, b'2720455', array([14], dtype=int32)),\n",
       " (159, b'2761185', array([15], dtype=int32)),\n",
       " (160, b'115548', array([16], dtype=int32)),\n",
       " (161, b'109265', array([17], dtype=int32)),\n",
       " (254, b'2972107', array([18], dtype=int32)),\n",
       " (317, b'758774', array([19], dtype=int32)),\n",
       " (320, b'761442', array([20], dtype=int32)),\n",
       " (427, b'769160', array([21], dtype=int32)),\n",
       " (631, b'3964877', array([24], dtype=int32)),\n",
       " (865, b'4043507', array([35, 36], dtype=int32)),\n",
       " (923, b'3948969', array([23], dtype=int32))]"
      ]
     },
     "execution_count": 159,
     "metadata": {},
     "output_type": "execute_result"
    }
   ],
   "source": [
    "[(ind.id, ind.metadata, ind.nodes) for ind in ts.individuals() if len(ind.nodes) > 0][:20]"
   ]
  },
  {
   "cell_type": "code",
   "execution_count": 160,
   "metadata": {},
   "outputs": [
    {
     "data": {
      "text/plain": [
       "[{'id': 0, 'time': 0.0, 'population': 0, 'individual': 0, 'metadata': b'', 'flags': 1},\n",
       " {'id': 1, 'time': 0.0, 'population': 0, 'individual': 0, 'metadata': b'', 'flags': 1},\n",
       " {'id': 2, 'time': 0.0, 'population': 0, 'individual': 1, 'metadata': b'', 'flags': 1},\n",
       " {'id': 3, 'time': 0.0, 'population': 0, 'individual': 1, 'metadata': b'', 'flags': 1},\n",
       " {'id': 4, 'time': 0.0, 'population': 0, 'individual': 2, 'metadata': b'', 'flags': 1},\n",
       " {'id': 5, 'time': 0.0, 'population': 0, 'individual': 2, 'metadata': b'', 'flags': 1},\n",
       " {'id': 6, 'time': 0.0, 'population': 0, 'individual': 3, 'metadata': b'', 'flags': 1},\n",
       " {'id': 7, 'time': 0.0, 'population': 0, 'individual': 3, 'metadata': b'', 'flags': 1},\n",
       " {'id': 8, 'time': 0.0, 'population': 0, 'individual': 4, 'metadata': b'', 'flags': 1},\n",
       " {'id': 9, 'time': 0.0, 'population': 0, 'individual': 4, 'metadata': b'', 'flags': 1},\n",
       " {'id': 10, 'time': 4.0, 'population': 0, 'individual': 25, 'metadata': b'', 'flags': 0},\n",
       " {'id': 11, 'time': 4.0, 'population': 0, 'individual': 26, 'metadata': b'', 'flags': 0},\n",
       " {'id': 12, 'time': 4.0, 'population': 0, 'individual': 73, 'metadata': b'', 'flags': 0},\n",
       " {'id': 13, 'time': 4.0, 'population': 0, 'individual': 74, 'metadata': b'', 'flags': 0},\n",
       " {'id': 14, 'time': 5.0, 'population': 0, 'individual': 158, 'metadata': b'', 'flags': 0},\n",
       " {'id': 15, 'time': 5.0, 'population': 0, 'individual': 159, 'metadata': b'', 'flags': 0},\n",
       " {'id': 16, 'time': 5.0, 'population': 0, 'individual': 160, 'metadata': b'', 'flags': 0},\n",
       " {'id': 17, 'time': 5.0, 'population': 0, 'individual': 161, 'metadata': b'', 'flags': 0},\n",
       " {'id': 18, 'time': 7.0, 'population': 0, 'individual': 254, 'metadata': b'', 'flags': 0},\n",
       " {'id': 19, 'time': 7.0, 'population': 0, 'individual': 317, 'metadata': b'', 'flags': 0},\n",
       " {'id': 20, 'time': 7.0, 'population': 0, 'individual': 320, 'metadata': b'', 'flags': 0},\n",
       " {'id': 21, 'time': 8.0, 'population': 0, 'individual': 427, 'metadata': b'', 'flags': 0},\n",
       " {'id': 22, 'time': 10.0, 'population': 0, 'individual': -1, 'metadata': b'', 'flags': 0},\n",
       " {'id': 23, 'time': 12.0, 'population': 0, 'individual': 923, 'metadata': b'', 'flags': 0},\n",
       " {'id': 24, 'time': 12.0, 'population': 0, 'individual': 631, 'metadata': b'', 'flags': 0},\n",
       " {'id': 25, 'time': 12.0, 'population': 0, 'individual': 924, 'metadata': b'', 'flags': 0},\n",
       " {'id': 26, 'time': 12.0, 'population': 0, 'individual': 925, 'metadata': b'', 'flags': 0},\n",
       " {'id': 27, 'time': 12.0, 'population': 0, 'individual': 974, 'metadata': b'', 'flags': 0},\n",
       " {'id': 28, 'time': 12.0, 'population': 0, 'individual': 976, 'metadata': b'', 'flags': 0},\n",
       " {'id': 29, 'time': 12.0, 'population': 0, 'individual': 977, 'metadata': b'', 'flags': 0},\n",
       " {'id': 30, 'time': 12.0, 'population': 0, 'individual': 974, 'metadata': b'', 'flags': 0},\n",
       " {'id': 31, 'time': 12.0, 'population': 0, 'individual': 1056, 'metadata': b'', 'flags': 0},\n",
       " {'id': 32, 'time': 13.0, 'population': 0, 'individual': 1108, 'metadata': b'', 'flags': 0},\n",
       " {'id': 33, 'time': 13.0, 'population': 0, 'individual': 1110, 'metadata': b'', 'flags': 0},\n",
       " {'id': 34, 'time': 13.0, 'population': 0, 'individual': 1108, 'metadata': b'', 'flags': 0},\n",
       " {'id': 35, 'time': 13.0, 'population': 0, 'individual': 865, 'metadata': b'', 'flags': 0},\n",
       " {'id': 36, 'time': 13.0, 'population': 0, 'individual': 865, 'metadata': b'', 'flags': 0},\n",
       " {'id': 37, 'time': 13.0, 'population': 0, 'individual': 992, 'metadata': b'', 'flags': 0},\n",
       " {'id': 38, 'time': 13.0, 'population': 0, 'individual': 1150, 'metadata': b'', 'flags': 0},\n",
       " {'id': 39, 'time': 13.0, 'population': 0, 'individual': 1149, 'metadata': b'', 'flags': 0},\n",
       " {'id': 40, 'time': 13.0, 'population': 0, 'individual': 973, 'metadata': b'', 'flags': 0},\n",
       " {'id': 41, 'time': 14.0, 'population': 0, 'individual': 1224, 'metadata': b'', 'flags': 0},\n",
       " {'id': 42, 'time': 14.0, 'population': 0, 'individual': 1225, 'metadata': b'', 'flags': 0},\n",
       " {'id': 43, 'time': 14.0, 'population': 0, 'individual': 1232, 'metadata': b'', 'flags': 0},\n",
       " {'id': 44, 'time': 14.0, 'population': 0, 'individual': 1136, 'metadata': b'', 'flags': 0},\n",
       " {'id': 45, 'time': 14.0, 'population': 0, 'individual': 1277, 'metadata': b'', 'flags': 0},\n",
       " {'id': 46, 'time': 14.0, 'population': 0, 'individual': 1278, 'metadata': b'', 'flags': 0},\n",
       " {'id': 47, 'time': 14.0, 'population': 0, 'individual': 1307, 'metadata': b'', 'flags': 0},\n",
       " {'id': 48, 'time': 18.0, 'population': 0, 'individual': -1, 'metadata': b'', 'flags': 0},\n",
       " {'id': 49, 'time': 18.0, 'population': 0, 'individual': -1, 'metadata': b'', 'flags': 0},\n",
       " {'id': 50, 'time': 19.0, 'population': 0, 'individual': -1, 'metadata': b'', 'flags': 0},\n",
       " {'id': 51, 'time': 19.0, 'population': 0, 'individual': -1, 'metadata': b'', 'flags': 0},\n",
       " {'id': 52, 'time': 20.0, 'population': 0, 'individual': -1, 'metadata': b'', 'flags': 0},\n",
       " {'id': 53, 'time': 20.0, 'population': 0, 'individual': -1, 'metadata': b'', 'flags': 0},\n",
       " {'id': 54, 'time': 21.0, 'population': 0, 'individual': -1, 'metadata': b'', 'flags': 0},\n",
       " {'id': 55, 'time': 21.0, 'population': 0, 'individual': -1, 'metadata': b'', 'flags': 0},\n",
       " {'id': 56, 'time': 22.0, 'population': 0, 'individual': -1, 'metadata': b'', 'flags': 0},\n",
       " {'id': 57, 'time': 22.0, 'population': 0, 'individual': -1, 'metadata': b'', 'flags': 0},\n",
       " {'id': 58, 'time': 24.0, 'population': 0, 'individual': -1, 'metadata': b'', 'flags': 0}]"
      ]
     },
     "execution_count": 160,
     "metadata": {},
     "output_type": "execute_result"
    }
   ],
   "source": [
    "list(ts.nodes())"
   ]
  },
  {
   "cell_type": "code",
   "execution_count": 36,
   "metadata": {},
   "outputs": [
    {
     "data": {
      "text/plain": [
       "[{'id': 12, 'flags': 0, 'location': array([], dtype=float64), 'metadata': b'214943', 'nodes': array([24, 25], dtype=int32)},\n",
       " {'id': 19, 'flags': 0, 'location': array([], dtype=float64), 'metadata': b'226757', 'nodes': array([38, 39], dtype=int32)},\n",
       " {'id': 100, 'flags': 0, 'location': array([], dtype=float64), 'metadata': b'418677', 'nodes': array([200, 201], dtype=int32)},\n",
       " {'id': 41, 'flags': 0, 'location': array([], dtype=float64), 'metadata': b'296053', 'nodes': array([82, 83], dtype=int32)},\n",
       " {'id': 478, 'flags': 0, 'location': array([], dtype=float64), 'metadata': b'8682142', 'nodes': array([956, 957], dtype=int32)},\n",
       " {'id': 101, 'flags': 0, 'location': array([], dtype=float64), 'metadata': b'418682', 'nodes': array([202, 203], dtype=int32)}]"
      ]
     },
     "execution_count": 36,
     "metadata": {},
     "output_type": "execute_result"
    }
   ],
   "source": [
    "sample_inds"
   ]
  },
  {
   "cell_type": "code",
   "execution_count": 114,
   "metadata": {},
   "outputs": [
    {
     "name": "stderr",
     "output_type": "stream",
     "text": [
      "\n",
      "100%|██████████| 620/620 [00:00<00:00, 137039.87it/s]\n"
     ]
    },
    {
     "data": {
      "text/plain": [
       "0.251007080078125"
      ]
     },
     "execution_count": 114,
     "metadata": {},
     "output_type": "execute_result"
    }
   ],
   "source": [
    "PK = PedKinship.from_txt(pedfile)\n",
    "probands = PK.get_probands()\n",
    "sample_ind_IDs = [int(ind.metadata.decode('utf8')) for ind in sample_inds]\n",
    "\n",
    "ped_kinship = PK.compute_kinship(sample_ind_IDs)\n",
    "ped_kinship.max()"
   ]
  },
  {
   "cell_type": "code",
   "execution_count": 120,
   "metadata": {},
   "outputs": [
    {
     "data": {
      "text/plain": [
       "array([[0.009, 0.042, 0.042, 0.011, 0.005],\n",
       "       [0.   , 0.001, 0.251, 0.016, 0.031],\n",
       "       [0.   , 0.   , 0.001, 0.016, 0.031],\n",
       "       [0.   , 0.   , 0.   , 0.002, 0.003],\n",
       "       [0.   , 0.   , 0.   , 0.   , 0.   ]])"
      ]
     },
     "execution_count": 120,
     "metadata": {},
     "output_type": "execute_result"
    }
   ],
   "source": [
    "np.set_printoptions(precision=3, suppress=True)\n",
    "ped_kinship"
   ]
  },
  {
   "cell_type": "code",
   "execution_count": 156,
   "metadata": {},
   "outputs": [
    {
     "data": {
      "text/plain": [
       "18.0"
      ]
     },
     "execution_count": 156,
     "metadata": {},
     "output_type": "execute_result"
    }
   ],
   "source": [
    "ts.first().get_tmrca(4, 5)"
   ]
  },
  {
   "cell_type": "code",
   "execution_count": 27,
   "metadata": {},
   "outputs": [
    {
     "name": "stderr",
     "output_type": "stream",
     "text": [
      "/home/dnelson/anaconda3/lib/python3.7/site-packages/ipykernel_launcher.py:4: UserWarning: Attempting to set identical left == right == 0 results in singular transformations; automatically expanding.\n",
      "  after removing the cwd from sys.path.\n"
     ]
    },
    {
     "data": {
      "text/plain": [
       "(0, 0.0006378173828125)"
      ]
     },
     "execution_count": 27,
     "metadata": {},
     "output_type": "execute_result"
    },
    {
     "data": {
      "image/png": "[encoded data removed]",
      "text/plain": [
       "<Figure size 432x288 with 1 Axes>"
      ]
     },
     "metadata": {
      "needs_background": "light"
     },
     "output_type": "display_data"
    }
   ],
   "source": [
    "mean_realized = np.mean(kinship, axis=1)\n",
    "mean_pedigree = np.mean(ped_kinship, axis=1)\n",
    "plt.scatter(mean_realized, mean_pedigree)\n",
    "plt.xlim(0, mean_realized.max())\n",
    "plt.ylim(0, mean_pedigree.max())"
   ]
  },
  {
   "cell_type": "code",
   "execution_count": 10,
   "metadata": {},
   "outputs": [
    {
     "data": {
      "text/plain": [
       "array([[0.00218201, 0.        , 0.        , 0.        ],\n",
       "       [0.        , 0.00039673, 0.00018311, 0.00024414],\n",
       "       [0.        , 0.        , 0.00054932, 0.        ],\n",
       "       [0.        , 0.        , 0.        , 0.00132751]])"
      ]
     },
     "execution_count": 10,
     "metadata": {},
     "output_type": "execute_result"
    }
   ],
   "source": [
    "ped_kinship[:10, :10]"
   ]
  },
  {
   "cell_type": "code",
   "execution_count": 14,
   "metadata": {},
   "outputs": [
    {
     "name": "stdout",
     "output_type": "stream",
     "text": [
      "         52        \n",
      "    +-----+-----+  \n",
      "    |          32  \n",
      "    |         +-++ \n",
      "   30         |  | \n",
      " +--+---+     |  | \n",
      " |     28     |  | \n",
      " |  +--++--+  |  | \n",
      " |  |  |  20  |  | \n",
      " |  |  |  +++ |  | \n",
      "16  |  |  | | |  | \n",
      "+++ |  |  | | |  | \n",
      "| | | 10  | | | 12 \n",
      "| | | +++ | | | +++\n",
      "0 8 6 1 3 5 9 2 4 7\n",
      "\n"
     ]
    }
   ],
   "source": [
    "ts = msprime.simulate(10, mutation_rate=1e-8, length=1e8, recombination_rate=1e-8, Ne=10, model='dtwf')\n",
    "\n",
    "print(ts.first().draw(format='ascii'))"
   ]
  },
  {
   "cell_type": "code",
   "execution_count": 72,
   "metadata": {},
   "outputs": [
    {
     "ename": "AttributeError",
     "evalue": "type object 'TSKinship' has no attribute 'compute_kinship'",
     "output_type": "error",
     "traceback": [
      "\u001b[0;31m---------------------------------------------------------------------------\u001b[0m",
      "\u001b[0;31mAttributeError\u001b[0m                            Traceback (most recent call last)",
      "\u001b[0;32m<ipython-input-72-e833898a2ec3>\u001b[0m in \u001b[0;36m<module>\u001b[0;34m\u001b[0m\n\u001b[0;32m----> 1\u001b[0;31m \u001b[0mTSKinship\u001b[0m\u001b[0;34m.\u001b[0m\u001b[0mcompute_kinship\u001b[0m\u001b[0;34m(\u001b[0m\u001b[0mts\u001b[0m\u001b[0;34m,\u001b[0m \u001b[0mts\u001b[0m\u001b[0;34m.\u001b[0m\u001b[0msamples\u001b[0m\u001b[0;34m(\u001b[0m\u001b[0;34m)\u001b[0m\u001b[0;34m)\u001b[0m\u001b[0;34m\u001b[0m\u001b[0;34m\u001b[0m\u001b[0m\n\u001b[0m",
      "\u001b[0;31mAttributeError\u001b[0m: type object 'TSKinship' has no attribute 'compute_kinship'"
     ]
    }
   ],
   "source": [
    "TSKinship.compute_kinship(ts, ts.samples())"
   ]
  },
  {
   "cell_type": "code",
   "execution_count": 10,
   "metadata": {},
   "outputs": [
    {
     "data": {
      "text/plain": [
       "[0, 1, 2, 3, 4, 5, 6, 7, 8, 9]"
      ]
     },
     "execution_count": 10,
     "metadata": {},
     "output_type": "execute_result"
    }
   ],
   "source": [
    "list(ts.samples())"
   ]
  },
  {
   "cell_type": "code",
   "execution_count": 224,
   "metadata": {},
   "outputs": [],
   "source": [
    "t = ts.first()"
   ]
  },
  {
   "cell_type": "code",
   "execution_count": 225,
   "metadata": {},
   "outputs": [
    {
     "data": {
      "text/plain": [
       "1502009.2856274692"
      ]
     },
     "execution_count": 225,
     "metadata": {},
     "output_type": "execute_result"
    }
   ],
   "source": [
    "t.get_length()"
   ]
  },
  {
   "cell_type": "code",
   "execution_count": 226,
   "metadata": {},
   "outputs": [
    {
     "data": {
      "text/plain": [
       "10000000.0"
      ]
     },
     "execution_count": 226,
     "metadata": {},
     "output_type": "execute_result"
    }
   ],
   "source": [
    "ts.get_sequence_length()"
   ]
  },
  {
   "cell_type": "code",
   "execution_count": null,
   "metadata": {},
   "outputs": [],
   "source": []
  },
  {
   "cell_type": "code",
   "execution_count": 192,
   "metadata": {},
   "outputs": [
    {
     "name": "stderr",
     "output_type": "stream",
     "text": [
      "100%|██████████| 1581/1581 [00:00<00:00, 98955.33it/s]\n"
     ]
    },
    {
     "data": {
      "text/plain": [
       "array([[0.00639343, 0.01106262, 0.00831604, 0.00363159, 0.00608826,\n",
       "        0.00590515, 0.00672913, 0.00411987, 0.00653076, 0.00184631],\n",
       "       [0.        , 0.00265503, 0.00498962, 0.00514221, 0.00437927,\n",
       "        0.00317383, 0.00283813, 0.00312805, 0.00372314, 0.00323486],\n",
       "       [0.        , 0.        , 0.00234985, 0.00688171, 0.01139832,\n",
       "        0.01063538, 0.01271057, 0.0038147 , 0.01091003, 0.00244141],\n",
       "       [0.        , 0.        , 0.        , 0.0057373 , 0.0078125 ,\n",
       "        0.00466919, 0.01490784, 0.00221252, 0.00488281, 0.00305176],\n",
       "       [0.        , 0.        , 0.        , 0.        , 0.01733398,\n",
       "        0.00434875, 0.03022766, 0.00224304, 0.00671387, 0.00186157],\n",
       "       [0.        , 0.        , 0.        , 0.        , 0.        ,\n",
       "        0.00213623, 0.00215149, 0.01075745, 0.00502014, 0.00106812],\n",
       "       [0.        , 0.        , 0.        , 0.        , 0.        ,\n",
       "        0.        , 0.00294495, 0.00213623, 0.00350952, 0.00221252],\n",
       "       [0.        , 0.        , 0.        , 0.        , 0.        ,\n",
       "        0.        , 0.        , 0.00154114, 0.01055908, 0.00170898],\n",
       "       [0.        , 0.        , 0.        , 0.        , 0.        ,\n",
       "        0.        , 0.        , 0.        , 0.00241089, 0.00140381],\n",
       "       [0.        , 0.        , 0.        , 0.        , 0.        ,\n",
       "        0.        , 0.        , 0.        , 0.        , 0.00050354]])"
      ]
     },
     "execution_count": 192,
     "metadata": {},
     "output_type": "execute_result"
    }
   ],
   "source": [
    "PedKinship.test_kinship(pedfile=pedfile)"
   ]
  },
  {
   "cell_type": "code",
   "execution_count": 74,
   "metadata": {},
   "outputs": [],
   "source": [
    "# pedfile = '/home/dnelson/project/pedigree_msp/data/Luke/Genizon_4149gen_nov2019.txt'\n",
    "# PK = PedKinship.from_txt(pedfile)\n",
    "# G = PK.G\n",
    "# PedKinship.test_kinship(pedfile=pedfile)"
   ]
  },
  {
   "cell_type": "code",
   "execution_count": null,
   "metadata": {},
   "outputs": [],
   "source": [
    "ts.get_s"
   ]
  },
  {
   "cell_type": "code",
   "execution_count": 149,
   "metadata": {},
   "outputs": [],
   "source": [
    "PK = PedKinship(G)\n",
    "\n",
    "probands = PK.get_probands()\n",
    "# PK.set_samples(probands[:5000])\n",
    "# PK.build_ancestor_dists(max_depth=5)"
   ]
  },
  {
   "cell_type": "code",
   "execution_count": 150,
   "metadata": {},
   "outputs": [
    {
     "name": "stderr",
     "output_type": "stream",
     "text": [
      "100%|██████████| 145509/145509 [00:03<00:00, 41357.28it/s]\n"
     ]
    }
   ],
   "source": [
    "children = PK.compute_kinship(probands, max_depth=5)"
   ]
  },
  {
   "cell_type": "code",
   "execution_count": 140,
   "metadata": {},
   "outputs": [
    {
     "data": {
      "text/plain": [
       "0.51611328125"
      ]
     },
     "execution_count": 140,
     "metadata": {},
     "output_type": "execute_result"
    }
   ],
   "source": [
    "PK.kinship.max()"
   ]
  },
  {
   "cell_type": "code",
   "execution_count": 146,
   "metadata": {},
   "outputs": [
    {
     "data": {
      "text/plain": [
       "(0,)"
      ]
     },
     "execution_count": 146,
     "metadata": {},
     "output_type": "execute_result"
    }
   ],
   "source": [
    "np.where((PK.kinship < 0.5) & (PK.kinship > 0.4))[0].shape"
   ]
  },
  {
   "cell_type": "code",
   "execution_count": 76,
   "metadata": {},
   "outputs": [
    {
     "data": {
      "text/plain": [
       "199325"
      ]
     },
     "execution_count": 76,
     "metadata": {},
     "output_type": "execute_result"
    }
   ],
   "source": [
    "probands[38]"
   ]
  },
  {
   "cell_type": "code",
   "execution_count": 77,
   "metadata": {},
   "outputs": [
    {
     "data": {
      "text/plain": [
       "199329"
      ]
     },
     "execution_count": 77,
     "metadata": {},
     "output_type": "execute_result"
    }
   ],
   "source": [
    "probands[39]"
   ]
  },
  {
   "cell_type": "code",
   "execution_count": 80,
   "metadata": {},
   "outputs": [
    {
     "data": {
      "text/plain": [
       "91256"
      ]
     },
     "execution_count": 80,
     "metadata": {},
     "output_type": "execute_result"
    }
   ],
   "source": [
    "nx.lowest_common_ancestor(PK.G, 199325, 199329)"
   ]
  },
  {
   "cell_type": "code",
   "execution_count": 82,
   "metadata": {},
   "outputs": [
    {
     "data": {
      "text/plain": [
       "[199325, 199329]"
      ]
     },
     "execution_count": 82,
     "metadata": {},
     "output_type": "execute_result"
    }
   ],
   "source": [
    "list(PK.G.successors(91256))"
   ]
  },
  {
   "cell_type": "code",
   "execution_count": 187,
   "metadata": {},
   "outputs": [],
   "source": [
    "TK = TSKinship(ts)"
   ]
  },
  {
   "cell_type": "code",
   "execution_count": 202,
   "metadata": {},
   "outputs": [
    {
     "data": {
      "text/plain": [
       "array([[0., 0., 1., 0., 0., 0., 0., 0., 0., 0.],\n",
       "       [0., 0., 0., 0., 0., 0., 0., 0., 0., 0.],\n",
       "       [0., 0., 0., 0., 0., 0., 0., 0., 0., 0.],\n",
       "       [0., 0., 0., 0., 1., 1., 0., 0., 1., 1.],\n",
       "       [0., 0., 0., 0., 0., 1., 0., 0., 1., 1.],\n",
       "       [0., 0., 0., 0., 0., 0., 0., 0., 1., 1.],\n",
       "       [0., 0., 0., 0., 0., 0., 0., 1., 0., 0.],\n",
       "       [0., 0., 0., 0., 0., 0., 0., 0., 0., 0.],\n",
       "       [0., 0., 0., 0., 0., 0., 0., 0., 0., 1.],\n",
       "       [0., 0., 0., 0., 0., 0., 0., 0., 0., 0.]])"
      ]
     },
     "execution_count": 202,
     "metadata": {},
     "output_type": "execute_result"
    }
   ],
   "source": [
    "TK.compute_kinship(ts.samples())"
   ]
  },
  {
   "cell_type": "code",
   "execution_count": 204,
   "metadata": {},
   "outputs": [
    {
     "data": {
      "text/plain": [
       "405"
      ]
     },
     "execution_count": 204,
     "metadata": {},
     "output_type": "execute_result"
    }
   ],
   "source": [
    "ts.num_trees"
   ]
  },
  {
   "cell_type": "code",
   "execution_count": 165,
   "metadata": {},
   "outputs": [],
   "source": [
    "t = ts.first()\n",
    "t."
   ]
  },
  {
   "cell_type": "code",
   "execution_count": 102,
   "metadata": {},
   "outputs": [],
   "source": [
    "samples = [7, 6]\n",
    "kinship = init_sparse_kinship(samples)\n",
    "\n",
    "for tree in ts.trees():\n",
    "    g = nx.DiGraph(tree_to_dict_of_dicts(ts.first()))\n",
    "    a = digraph_kinship(g, samples, kinship)"
   ]
  },
  {
   "cell_type": "code",
   "execution_count": 103,
   "metadata": {},
   "outputs": [
    {
     "data": {
      "text/plain": [
       "array([list([]), list([]), list([]), list([]), list([]), list([]),\n",
       "       list([0.75, 0.125]), list([0.9375])], dtype=object)"
      ]
     },
     "execution_count": 103,
     "metadata": {},
     "output_type": "execute_result"
    }
   ],
   "source": [
    "kinship.data"
   ]
  },
  {
   "cell_type": "code",
   "execution_count": 47,
   "metadata": {},
   "outputs": [
    {
     "data": {
      "text/plain": [
       "(array([6, 6, 7], dtype=int32), array([6, 7, 7], dtype=int32))"
      ]
     },
     "execution_count": 47,
     "metadata": {},
     "output_type": "execute_result"
    }
   ],
   "source": [
    "a.nonzero()"
   ]
  },
  {
   "cell_type": "code",
   "execution_count": 103,
   "metadata": {},
   "outputs": [
    {
     "data": {
      "text/plain": [
       "[76060, 77127]"
      ]
     },
     "execution_count": 103,
     "metadata": {},
     "output_type": "execute_result"
    }
   ],
   "source": [
    "list(g_ped.predecessors(79826))"
   ]
  },
  {
   "cell_type": "code",
   "execution_count": 114,
   "metadata": {},
   "outputs": [],
   "source": [
    "leaves = get_digraph_leaves(g_ped)"
   ]
  },
  {
   "cell_type": "code",
   "execution_count": 115,
   "metadata": {},
   "outputs": [
    {
     "data": {
      "text/plain": [
       "[79826, 99455]"
      ]
     },
     "execution_count": 115,
     "metadata": {},
     "output_type": "execute_result"
    }
   ],
   "source": [
    "leaves[:2]"
   ]
  },
  {
   "cell_type": "code",
   "execution_count": 119,
   "metadata": {},
   "outputs": [
    {
     "data": {
      "text/plain": [
       "[]"
      ]
     },
     "execution_count": 119,
     "metadata": {},
     "output_type": "execute_result"
    }
   ],
   "source": [
    "\n",
    "list(nx.all_simple_paths(g_ped, 79826, 99455, cutoff=15))"
   ]
  },
  {
   "cell_type": "code",
   "execution_count": null,
   "metadata": {},
   "outputs": [],
   "source": []
  },
  {
   "cell_type": "code",
   "execution_count": null,
   "metadata": {},
   "outputs": [],
   "source": []
  },
  {
   "cell_type": "code",
   "execution_count": null,
   "metadata": {},
   "outputs": [],
   "source": []
  },
  {
   "cell_type": "code",
   "execution_count": null,
   "metadata": {},
   "outputs": [],
   "source": []
  },
  {
   "cell_type": "code",
   "execution_count": 122,
   "metadata": {},
   "outputs": [],
   "source": [
    "ts = msprime.load('/home/dnelson/project/pedigree_msp/results/Luke/chrom1_4134samples_Ne10000.h5')\n",
    "pedfile = '/home/dnelson/project/pedigree_msp/data/Luke/Genizon_4149gen_nov2019.txt'\n",
    "ped = np.genfromtxt('/home/dnelson/project/pedigree_msp/data/Luke/Genizon_4149gen_nov2019.txt',\n",
    "                    skip_header=True, dtype=int)"
   ]
  },
  {
   "cell_type": "code",
   "execution_count": 5,
   "metadata": {},
   "outputs": [
    {
     "data": {
      "text/plain": [
       "(array([  4134, 146021,  39059,  19652,  11718,   7535,   4499,   2896,\n",
       "          2612]), array([0, 1, 2, 3, 4, 5, 6, 7, 8, 9]))"
      ]
     },
     "execution_count": 5,
     "metadata": {},
     "output_type": "execute_result"
    }
   ],
   "source": [
    "g_ped = ped_to_digraph(ped)\n",
    "\n",
    "\n",
    "np.histogram([d for v, d in g_ped.out_degree()], bins=range(10))"
   ]
  },
  {
   "cell_type": "code",
   "execution_count": 27,
   "metadata": {},
   "outputs": [],
   "source": [
    "leaves = [v for v, d in g_ped.out_degree() if d == 0]"
   ]
  },
  {
   "cell_type": "code",
   "execution_count": 41,
   "metadata": {},
   "outputs": [
    {
     "name": "stdout",
     "output_type": "stream",
     "text": [
      "2.71 ms ± 145 µs per loop (mean ± std. dev. of 7 runs, 100 loops each)\n"
     ]
    }
   ],
   "source": [
    "%timeit a = nx.ancestors(g_ped, 79826)"
   ]
  },
  {
   "cell_type": "code",
   "execution_count": 68,
   "metadata": {},
   "outputs": [
    {
     "name": "stderr",
     "output_type": "stream",
     "text": [
      "100%|██████████| 50/50 [00:00<00:00, 10667.64it/s]\n"
     ]
    }
   ],
   "source": [
    "nx.draw(g, with_labels=True)"
   ]
  },
  {
   "cell_type": "code",
   "execution_count": 69,
   "metadata": {},
   "outputs": [
    {
     "data": {
      "image/png": "[encoded data removed]",
      "text/plain": [
       "<Figure size 432x288 with 1 Axes>"
      ]
     },
     "metadata": {},
     "output_type": "display_data"
    }
   ],
   "source": [
    "plt.show()"
   ]
  },
  {
   "cell_type": "code",
   "execution_count": 27,
   "metadata": {},
   "outputs": [
    {
     "name": "stdout",
     "output_type": "stream",
     "text": [
      "{0: 7, 1: 6, 2: 0}\n"
     ]
    }
   ],
   "source": [
    "tree = ts.first()\n",
    "\n",
    "# a dictionary of dictionaries to represent our distance matrix\n",
    "dist_dod = collections.defaultdict(dict)\n",
    "for source, target in itertools.combinations(tree.samples(), 2):\n",
    "    dist_dod[source][target] = nx.shortest_path_length(\n",
    "        g, source=source, target=target, weight=\"branch_length\"\n",
    "    )\n",
    "    dist_dod[target][source] = dist_dod[source][target]\n",
    "\n",
    "# extract the nearest neighbor of nodes 0, 1, and 2\n",
    "nearest_neighbor_of = [min(dist_dod[u], key=dist_dod[u].get) for u in range(3)]\n",
    "\n",
    "print(dict(zip(range(3), nearest_neighbor_of)))"
   ]
  },
  {
   "cell_type": "code",
   "execution_count": 9,
   "metadata": {},
   "outputs": [
    {
     "name": "stdout",
     "output_type": "stream",
     "text": [
      "     18            \n",
      "  +---+---+        \n",
      "  |      17        \n",
      "  |    +--+-+      \n",
      "  |    |   16      \n",
      "  |    |  +-+--+   \n",
      " 15    |  |    |   \n",
      "+-++   |  |    |   \n",
      "|  |  14  |    |   \n",
      "|  |  +++ |    |   \n",
      "|  |  | | |   13   \n",
      "|  |  | | |  +-+-+ \n",
      "| 12  | | |  |  11 \n",
      "| +++ | | |  |  +++\n",
      "| | | | | | 10  | |\n",
      "| | | | | | +++ | |\n",
      "8 4 9 5 6 3 0 2 1 7\n",
      "\n"
     ]
    }
   ],
   "source": [
    "ts = msprime.simulate(10, mutation_rate=1e-8, length=1e8, Ne=10, model='dtwf')\n",
    "g = nx.Graph(tree_to_dict_of_dicts(ts.first()))\n",
    "print(ts.first().draw(format='ascii'))"
   ]
  },
  {
   "cell_type": "markdown",
   "metadata": {},
   "source": [
    "Taking the graph-based distance, weighted by branch lengths, how do we convert to kinship? $\\frac{1}{2 ^{(d / 2)}}$?"
   ]
  },
  {
   "cell_type": "code",
   "execution_count": 40,
   "metadata": {},
   "outputs": [
    {
     "name": "stdout",
     "output_type": "stream",
     "text": [
      "28 [79826, 76060, 75400, 763677, 760738, 69797, 69790, 153935, 146753, 764950, 146750, 76133, 99455]\n"
     ]
    }
   ],
   "source": [
    "for i, path in enumerate(nx.shortest_simple_paths(g_ped_undirected, leaves[0], leaves[1])):\n",
    "    if len(path) > 12:\n",
    "        print(i, path)\n",
    "        break"
   ]
  },
  {
   "cell_type": "code",
   "execution_count": 29,
   "metadata": {},
   "outputs": [],
   "source": [
    "g_ped_undirected = nx.Graph(g_ped)"
   ]
  },
  {
   "cell_type": "code",
   "execution_count": 42,
   "metadata": {},
   "outputs": [
    {
     "ename": "MemoryError",
     "evalue": "Unable to allocate array with shape (238902, 238902) and data type float64",
     "output_type": "error",
     "traceback": [
      "\u001b[0;31m---------------------------------------------------------------------------\u001b[0m",
      "\u001b[0;31mMemoryError\u001b[0m                               Traceback (most recent call last)",
      "\u001b[0;32m<ipython-input-42-3265a04d5237>\u001b[0m in \u001b[0;36m<module>\u001b[0;34m\u001b[0m\n\u001b[0;32m----> 1\u001b[0;31m \u001b[0mc\u001b[0m \u001b[0;34m=\u001b[0m \u001b[0mnx\u001b[0m\u001b[0;34m.\u001b[0m\u001b[0mcommunicability\u001b[0m\u001b[0;34m(\u001b[0m\u001b[0mg_ped_undirected\u001b[0m\u001b[0;34m)\u001b[0m\u001b[0;34m\u001b[0m\u001b[0;34m\u001b[0m\u001b[0m\n\u001b[0m",
      "\u001b[0;32m</home/dnelson/anaconda3/lib/python3.7/site-packages/decorator.py:decorator-gen-291>\u001b[0m in \u001b[0;36mcommunicability\u001b[0;34m(G)\u001b[0m\n",
      "\u001b[0;32m~/anaconda3/lib/python3.7/site-packages/networkx/utils/decorators.py\u001b[0m in \u001b[0;36m_not_implemented_for\u001b[0;34m(not_implement_for_func, *args, **kwargs)\u001b[0m\n\u001b[1;32m     80\u001b[0m             \u001b[0;32mraise\u001b[0m \u001b[0mnx\u001b[0m\u001b[0;34m.\u001b[0m\u001b[0mNetworkXNotImplemented\u001b[0m\u001b[0;34m(\u001b[0m\u001b[0mmsg\u001b[0m\u001b[0;34m)\u001b[0m\u001b[0;34m\u001b[0m\u001b[0;34m\u001b[0m\u001b[0m\n\u001b[1;32m     81\u001b[0m         \u001b[0;32melse\u001b[0m\u001b[0;34m:\u001b[0m\u001b[0;34m\u001b[0m\u001b[0;34m\u001b[0m\u001b[0m\n\u001b[0;32m---> 82\u001b[0;31m             \u001b[0;32mreturn\u001b[0m \u001b[0mnot_implement_for_func\u001b[0m\u001b[0;34m(\u001b[0m\u001b[0;34m*\u001b[0m\u001b[0margs\u001b[0m\u001b[0;34m,\u001b[0m \u001b[0;34m**\u001b[0m\u001b[0mkwargs\u001b[0m\u001b[0;34m)\u001b[0m\u001b[0;34m\u001b[0m\u001b[0;34m\u001b[0m\u001b[0m\n\u001b[0m\u001b[1;32m     83\u001b[0m     \u001b[0;32mreturn\u001b[0m \u001b[0m_not_implemented_for\u001b[0m\u001b[0;34m\u001b[0m\u001b[0;34m\u001b[0m\u001b[0m\n\u001b[1;32m     84\u001b[0m \u001b[0;34m\u001b[0m\u001b[0m\n",
      "\u001b[0;32m</home/dnelson/anaconda3/lib/python3.7/site-packages/decorator.py:decorator-gen-290>\u001b[0m in \u001b[0;36mcommunicability\u001b[0;34m(G)\u001b[0m\n",
      "\u001b[0;32m~/anaconda3/lib/python3.7/site-packages/networkx/utils/decorators.py\u001b[0m in \u001b[0;36m_not_implemented_for\u001b[0;34m(not_implement_for_func, *args, **kwargs)\u001b[0m\n\u001b[1;32m     80\u001b[0m             \u001b[0;32mraise\u001b[0m \u001b[0mnx\u001b[0m\u001b[0;34m.\u001b[0m\u001b[0mNetworkXNotImplemented\u001b[0m\u001b[0;34m(\u001b[0m\u001b[0mmsg\u001b[0m\u001b[0;34m)\u001b[0m\u001b[0;34m\u001b[0m\u001b[0;34m\u001b[0m\u001b[0m\n\u001b[1;32m     81\u001b[0m         \u001b[0;32melse\u001b[0m\u001b[0;34m:\u001b[0m\u001b[0;34m\u001b[0m\u001b[0;34m\u001b[0m\u001b[0m\n\u001b[0;32m---> 82\u001b[0;31m             \u001b[0;32mreturn\u001b[0m \u001b[0mnot_implement_for_func\u001b[0m\u001b[0;34m(\u001b[0m\u001b[0;34m*\u001b[0m\u001b[0margs\u001b[0m\u001b[0;34m,\u001b[0m \u001b[0;34m**\u001b[0m\u001b[0mkwargs\u001b[0m\u001b[0;34m)\u001b[0m\u001b[0;34m\u001b[0m\u001b[0;34m\u001b[0m\u001b[0m\n\u001b[0m\u001b[1;32m     83\u001b[0m     \u001b[0;32mreturn\u001b[0m \u001b[0m_not_implemented_for\u001b[0m\u001b[0;34m\u001b[0m\u001b[0;34m\u001b[0m\u001b[0m\n\u001b[1;32m     84\u001b[0m \u001b[0;34m\u001b[0m\u001b[0m\n",
      "\u001b[0;32m~/anaconda3/lib/python3.7/site-packages/networkx/algorithms/communicability_alg.py\u001b[0m in \u001b[0;36mcommunicability\u001b[0;34m(G)\u001b[0m\n\u001b[1;32m     80\u001b[0m     \u001b[0;32mimport\u001b[0m \u001b[0mscipy\u001b[0m\u001b[0;34m.\u001b[0m\u001b[0mlinalg\u001b[0m\u001b[0;34m\u001b[0m\u001b[0;34m\u001b[0m\u001b[0m\n\u001b[1;32m     81\u001b[0m     \u001b[0mnodelist\u001b[0m \u001b[0;34m=\u001b[0m \u001b[0mlist\u001b[0m\u001b[0;34m(\u001b[0m\u001b[0mG\u001b[0m\u001b[0;34m)\u001b[0m  \u001b[0;31m# ordering of nodes in matrix\u001b[0m\u001b[0;34m\u001b[0m\u001b[0;34m\u001b[0m\u001b[0m\n\u001b[0;32m---> 82\u001b[0;31m     \u001b[0mA\u001b[0m \u001b[0;34m=\u001b[0m \u001b[0mnx\u001b[0m\u001b[0;34m.\u001b[0m\u001b[0mto_numpy_matrix\u001b[0m\u001b[0;34m(\u001b[0m\u001b[0mG\u001b[0m\u001b[0;34m,\u001b[0m \u001b[0mnodelist\u001b[0m\u001b[0;34m)\u001b[0m\u001b[0;34m\u001b[0m\u001b[0;34m\u001b[0m\u001b[0m\n\u001b[0m\u001b[1;32m     83\u001b[0m     \u001b[0;31m# convert to 0-1 matrix\u001b[0m\u001b[0;34m\u001b[0m\u001b[0;34m\u001b[0m\u001b[0;34m\u001b[0m\u001b[0m\n\u001b[1;32m     84\u001b[0m     \u001b[0mA\u001b[0m\u001b[0;34m[\u001b[0m\u001b[0mA\u001b[0m \u001b[0;34m!=\u001b[0m \u001b[0;36m0.0\u001b[0m\u001b[0;34m]\u001b[0m \u001b[0;34m=\u001b[0m \u001b[0;36m1\u001b[0m\u001b[0;34m\u001b[0m\u001b[0;34m\u001b[0m\u001b[0m\n",
      "\u001b[0;32m~/anaconda3/lib/python3.7/site-packages/networkx/convert_matrix.py\u001b[0m in \u001b[0;36mto_numpy_matrix\u001b[0;34m(G, nodelist, dtype, order, multigraph_weight, weight, nonedge)\u001b[0m\n\u001b[1;32m    442\u001b[0m     A = to_numpy_array(G, nodelist=nodelist, dtype=dtype, order=order,\n\u001b[1;32m    443\u001b[0m                        \u001b[0mmultigraph_weight\u001b[0m\u001b[0;34m=\u001b[0m\u001b[0mmultigraph_weight\u001b[0m\u001b[0;34m,\u001b[0m \u001b[0mweight\u001b[0m\u001b[0;34m=\u001b[0m\u001b[0mweight\u001b[0m\u001b[0;34m,\u001b[0m\u001b[0;34m\u001b[0m\u001b[0;34m\u001b[0m\u001b[0m\n\u001b[0;32m--> 444\u001b[0;31m                        nonedge=nonedge)\n\u001b[0m\u001b[1;32m    445\u001b[0m     \u001b[0mM\u001b[0m \u001b[0;34m=\u001b[0m \u001b[0mnp\u001b[0m\u001b[0;34m.\u001b[0m\u001b[0masmatrix\u001b[0m\u001b[0;34m(\u001b[0m\u001b[0mA\u001b[0m\u001b[0;34m,\u001b[0m \u001b[0mdtype\u001b[0m\u001b[0;34m=\u001b[0m\u001b[0mdtype\u001b[0m\u001b[0;34m)\u001b[0m\u001b[0;34m\u001b[0m\u001b[0;34m\u001b[0m\u001b[0m\n\u001b[1;32m    446\u001b[0m     \u001b[0;32mreturn\u001b[0m \u001b[0mM\u001b[0m\u001b[0;34m\u001b[0m\u001b[0;34m\u001b[0m\u001b[0m\n",
      "\u001b[0;32m~/anaconda3/lib/python3.7/site-packages/networkx/convert_matrix.py\u001b[0m in \u001b[0;36mto_numpy_array\u001b[0;34m(G, nodelist, dtype, order, multigraph_weight, weight, nonedge)\u001b[0m\n\u001b[1;32m   1117\u001b[0m     \u001b[0;32melse\u001b[0m\u001b[0;34m:\u001b[0m\u001b[0;34m\u001b[0m\u001b[0;34m\u001b[0m\u001b[0m\n\u001b[1;32m   1118\u001b[0m         \u001b[0;31m# Graph or DiGraph, this is much faster than above\u001b[0m\u001b[0;34m\u001b[0m\u001b[0;34m\u001b[0m\u001b[0;34m\u001b[0m\u001b[0m\n\u001b[0;32m-> 1119\u001b[0;31m         \u001b[0mA\u001b[0m \u001b[0;34m=\u001b[0m \u001b[0mnp\u001b[0m\u001b[0;34m.\u001b[0m\u001b[0mfull\u001b[0m\u001b[0;34m(\u001b[0m\u001b[0;34m(\u001b[0m\u001b[0mnlen\u001b[0m\u001b[0;34m,\u001b[0m \u001b[0mnlen\u001b[0m\u001b[0;34m)\u001b[0m\u001b[0;34m,\u001b[0m \u001b[0mnp\u001b[0m\u001b[0;34m.\u001b[0m\u001b[0mnan\u001b[0m\u001b[0;34m,\u001b[0m \u001b[0morder\u001b[0m\u001b[0;34m=\u001b[0m\u001b[0morder\u001b[0m\u001b[0;34m)\u001b[0m\u001b[0;34m\u001b[0m\u001b[0;34m\u001b[0m\u001b[0m\n\u001b[0m\u001b[1;32m   1120\u001b[0m         \u001b[0;32mfor\u001b[0m \u001b[0mu\u001b[0m\u001b[0;34m,\u001b[0m \u001b[0mnbrdict\u001b[0m \u001b[0;32min\u001b[0m \u001b[0mG\u001b[0m\u001b[0;34m.\u001b[0m\u001b[0madjacency\u001b[0m\u001b[0;34m(\u001b[0m\u001b[0;34m)\u001b[0m\u001b[0;34m:\u001b[0m\u001b[0;34m\u001b[0m\u001b[0;34m\u001b[0m\u001b[0m\n\u001b[1;32m   1121\u001b[0m             \u001b[0;32mfor\u001b[0m \u001b[0mv\u001b[0m\u001b[0;34m,\u001b[0m \u001b[0md\u001b[0m \u001b[0;32min\u001b[0m \u001b[0mnbrdict\u001b[0m\u001b[0;34m.\u001b[0m\u001b[0mitems\u001b[0m\u001b[0;34m(\u001b[0m\u001b[0;34m)\u001b[0m\u001b[0;34m:\u001b[0m\u001b[0;34m\u001b[0m\u001b[0;34m\u001b[0m\u001b[0m\n",
      "\u001b[0;32m~/anaconda3/lib/python3.7/site-packages/numpy/core/numeric.py\u001b[0m in \u001b[0;36mfull\u001b[0;34m(shape, fill_value, dtype, order)\u001b[0m\n\u001b[1;32m    330\u001b[0m     \u001b[0;32mif\u001b[0m \u001b[0mdtype\u001b[0m \u001b[0;32mis\u001b[0m \u001b[0;32mNone\u001b[0m\u001b[0;34m:\u001b[0m\u001b[0;34m\u001b[0m\u001b[0;34m\u001b[0m\u001b[0m\n\u001b[1;32m    331\u001b[0m         \u001b[0mdtype\u001b[0m \u001b[0;34m=\u001b[0m \u001b[0marray\u001b[0m\u001b[0;34m(\u001b[0m\u001b[0mfill_value\u001b[0m\u001b[0;34m)\u001b[0m\u001b[0;34m.\u001b[0m\u001b[0mdtype\u001b[0m\u001b[0;34m\u001b[0m\u001b[0;34m\u001b[0m\u001b[0m\n\u001b[0;32m--> 332\u001b[0;31m     \u001b[0ma\u001b[0m \u001b[0;34m=\u001b[0m \u001b[0mempty\u001b[0m\u001b[0;34m(\u001b[0m\u001b[0mshape\u001b[0m\u001b[0;34m,\u001b[0m \u001b[0mdtype\u001b[0m\u001b[0;34m,\u001b[0m \u001b[0morder\u001b[0m\u001b[0;34m)\u001b[0m\u001b[0;34m\u001b[0m\u001b[0;34m\u001b[0m\u001b[0m\n\u001b[0m\u001b[1;32m    333\u001b[0m     \u001b[0mmultiarray\u001b[0m\u001b[0;34m.\u001b[0m\u001b[0mcopyto\u001b[0m\u001b[0;34m(\u001b[0m\u001b[0ma\u001b[0m\u001b[0;34m,\u001b[0m \u001b[0mfill_value\u001b[0m\u001b[0;34m,\u001b[0m \u001b[0mcasting\u001b[0m\u001b[0;34m=\u001b[0m\u001b[0;34m'unsafe'\u001b[0m\u001b[0;34m)\u001b[0m\u001b[0;34m\u001b[0m\u001b[0;34m\u001b[0m\u001b[0m\n\u001b[1;32m    334\u001b[0m     \u001b[0;32mreturn\u001b[0m \u001b[0ma\u001b[0m\u001b[0;34m\u001b[0m\u001b[0;34m\u001b[0m\u001b[0m\n",
      "\u001b[0;31mMemoryError\u001b[0m: Unable to allocate array with shape (238902, 238902) and data type float64"
     ]
    }
   ],
   "source": [
    "c = nx.communicability(g_ped_undirected)"
   ]
  },
  {
   "cell_type": "code",
   "execution_count": 105,
   "metadata": {},
   "outputs": [
    {
     "data": {
      "text/plain": [
       "773180"
      ]
     },
     "execution_count": 105,
     "metadata": {},
     "output_type": "execute_result"
    }
   ],
   "source": [
    "nx.lowest_common_ancestor(g_ped, leaves[0], leaves[1])"
   ]
  },
  {
   "cell_type": "code",
   "execution_count": null,
   "metadata": {},
   "outputs": [],
   "source": []
  }
 ],
 "metadata": {
  "kernelspec": {
   "display_name": "Python 3",
   "language": "python",
   "name": "python3"
  },
  "language_info": {
   "codemirror_mode": {
    "name": "ipython",
    "version": 3
   },
   "file_extension": ".py",
   "mimetype": "text/x-python",
   "name": "python",
   "nbconvert_exporter": "python",
   "pygments_lexer": "ipython3",
   "version": "3.7.4"
  }
 },
 "nbformat": 4,
 "nbformat_minor": 4
}
