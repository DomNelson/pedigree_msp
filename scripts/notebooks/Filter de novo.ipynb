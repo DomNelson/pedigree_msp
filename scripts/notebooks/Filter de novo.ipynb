{
 "cells": [
  {
   "cell_type": "code",
   "execution_count": 1,
   "metadata": {
    "collapsed": true
   },
   "outputs": [],
   "source": [
    "import msprime"
   ]
  },
  {
   "cell_type": "code",
   "execution_count": 4,
   "metadata": {
    "collapsed": true
   },
   "outputs": [],
   "source": [
    "ts = msprime.load('/Users/dnelson/temp/10fam.hdf5')"
   ]
  },
  {
   "cell_type": "code",
   "execution_count": 5,
   "metadata": {},
   "outputs": [
    {
     "data": {
      "text/plain": [
       "1461"
      ]
     },
     "execution_count": 5,
     "metadata": {},
     "output_type": "execute_result"
    }
   ],
   "source": [
    "ts.num_individuals"
   ]
  },
  {
   "cell_type": "code",
   "execution_count": 15,
   "metadata": {
    "collapsed": true
   },
   "outputs": [],
   "source": [
    "ind_nodes = set()\n",
    "for ind in ts.individuals():\n",
    "    if len(ind.nodes) > 0:\n",
    "        ind_nodes.update(ind.nodes)"
   ]
  },
  {
   "cell_type": "code",
   "execution_count": 7,
   "metadata": {
    "collapsed": true
   },
   "outputs": [],
   "source": [
    "likely_single_founder_nodes = set(ind_nodes.copy())\n",
    "for t in ts.trees():                                            \n",
    "    for n in ind_nodes:                                        \n",
    "        if t.get_parent(n) in ind_nodes:\n",
    "            if n in likely_single_founder_nodes:                              \n",
    "                likely_single_founder_nodes.remove(n)"
   ]
  },
  {
   "cell_type": "code",
   "execution_count": 19,
   "metadata": {},
   "outputs": [],
   "source": [
    "single_founder_mutations_filter_some_denovo = []\n",
    "for t in ts.trees():\n",
    "    for mut in t.mutations():\n",
    "        if mut.node in ind_nodes and t.get_parent(mut.node) not in ind_nodes:\n",
    "            single_founder_mutations_filter_some_denovo.append(mut)"
   ]
  },
  {
   "cell_type": "code",
   "execution_count": 14,
   "metadata": {},
   "outputs": [
    {
     "data": {
      "text/plain": [
       "[{'id': 0, 'site': 0, 'node': 21, 'derived_state': '1', 'parent': -1, 'metadata': b'', 'position': 22752.708017620258, 'index': 0},\n",
       " {'id': 1, 'site': 1, 'node': 1032, 'derived_state': '1', 'parent': -1, 'metadata': b'', 'position': 60877.58299498586, 'index': 1}]"
      ]
     },
     "execution_count": 14,
     "metadata": {},
     "output_type": "execute_result"
    }
   ],
   "source": [
    "single_founder_mutations_filter_some_denovo[:2]"
   ]
  },
  {
   "cell_type": "code",
   "execution_count": 20,
   "metadata": {},
   "outputs": [
    {
     "data": {
      "text/plain": [
       "1527"
      ]
     },
     "execution_count": 20,
     "metadata": {},
     "output_type": "execute_result"
    }
   ],
   "source": [
    "len(single_founder_mutations_filter_some_denovo)"
   ]
  },
  {
   "cell_type": "code",
   "execution_count": null,
   "metadata": {
    "collapsed": true
   },
   "outputs": [],
   "source": []
  }
 ],
 "metadata": {
  "kernelspec": {
   "display_name": "Python 3",
   "language": "python",
   "name": "python3"
  },
  "language_info": {
   "codemirror_mode": {
    "name": "ipython",
    "version": 3
   },
   "file_extension": ".py",
   "mimetype": "text/x-python",
   "name": "python",
   "nbconvert_exporter": "python",
   "pygments_lexer": "ipython3",
   "version": "3.6.3"
  }
 },
 "nbformat": 4,
 "nbformat_minor": 2
}
