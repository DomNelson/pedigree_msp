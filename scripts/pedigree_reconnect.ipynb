{
 "cells": [
  {
   "cell_type": "code",
   "execution_count": 1,
   "metadata": {},
   "outputs": [],
   "source": [
    "import sys, os\n",
    "sys.path.append('/home/dnelson/project/msprime')\n",
    "import msprime\n",
    "\n",
    "import pandas as pd\n",
    "import numpy as np\n",
    "from collections import Counter\n",
    "from tqdm import tqdm\n",
    "from collections import defaultdict"
   ]
  },
  {
   "cell_type": "code",
   "execution_count": 5,
   "metadata": {},
   "outputs": [],
   "source": []
  },
  {
   "cell_type": "code",
   "execution_count": 8,
   "metadata": {},
   "outputs": [
    {
     "data": {
      "text/html": [
       "<div>\n",
       "<style scoped>\n",
       "    .dataframe tbody tr th:only-of-type {\n",
       "        vertical-align: middle;\n",
       "    }\n",
       "\n",
       "    .dataframe tbody tr th {\n",
       "        vertical-align: top;\n",
       "    }\n",
       "\n",
       "    .dataframe thead th {\n",
       "        text-align: right;\n",
       "    }\n",
       "</style>\n",
       "<table border=\"1\" class=\"dataframe\">\n",
       "  <thead>\n",
       "    <tr style=\"text-align: right;\">\n",
       "      <th></th>\n",
       "      <th>ind</th>\n",
       "      <th>father</th>\n",
       "      <th>mother</th>\n",
       "      <th>sex</th>\n",
       "    </tr>\n",
       "  </thead>\n",
       "  <tbody>\n",
       "    <tr>\n",
       "      <th>0</th>\n",
       "      <td>10086</td>\n",
       "      <td>0</td>\n",
       "      <td>0</td>\n",
       "      <td>1</td>\n",
       "    </tr>\n",
       "    <tr>\n",
       "      <th>1</th>\n",
       "      <td>10087</td>\n",
       "      <td>0</td>\n",
       "      <td>0</td>\n",
       "      <td>2</td>\n",
       "    </tr>\n",
       "    <tr>\n",
       "      <th>2</th>\n",
       "      <td>10102</td>\n",
       "      <td>0</td>\n",
       "      <td>0</td>\n",
       "      <td>1</td>\n",
       "    </tr>\n",
       "    <tr>\n",
       "      <th>3</th>\n",
       "      <td>10103</td>\n",
       "      <td>0</td>\n",
       "      <td>0</td>\n",
       "      <td>2</td>\n",
       "    </tr>\n",
       "    <tr>\n",
       "      <th>4</th>\n",
       "      <td>10128</td>\n",
       "      <td>0</td>\n",
       "      <td>0</td>\n",
       "      <td>1</td>\n",
       "    </tr>\n",
       "  </tbody>\n",
       "</table>\n",
       "</div>"
      ],
      "text/plain": [
       "     ind  father  mother  sex\n",
       "0  10086       0       0    1\n",
       "1  10087       0       0    2\n",
       "2  10102       0       0    1\n",
       "3  10103       0       0    2\n",
       "4  10128       0       0    1"
      ]
     },
     "execution_count": 8,
     "metadata": {},
     "output_type": "execute_result"
    }
   ],
   "source": [
    "df.head()"
   ]
  },
  {
   "cell_type": "code",
   "execution_count": 89,
   "metadata": {},
   "outputs": [],
   "source": [
    "class PedFiller:\n",
    "    def __init__(self, ped_df):\n",
    "        self.ped_df = ped_df\n",
    "        self.min_ID = 0\n",
    "        self.probands = set()\n",
    "        # TODO: Would be good to have 'parent_cohorts' where\n",
    "        # we can choose from pre-existing couples rather than\n",
    "        # just random individuals from each cohort\n",
    "        self.node_cohorts = defaultdict(list)\n",
    "        self.founder_cohorts = defaultdict(list)\n",
    "\n",
    "    @staticmethod\n",
    "    def read_ped(pedfile, header=0, sep=' ', dtype=int):\n",
    "        df = pd.read_csv(pedfile, header=header, sep=sep, dtype=dtype)\n",
    "        for expected_col in ['ind', 'mother', 'father']:\n",
    "            assert(expected_col in df.columns)\n",
    "        \n",
    "        return PedFiller(df)\n",
    "\n",
    "    def partial_order_times(self):\n",
    "        ind_dict = dict(zip(self.ped_df['ind'], range(len(self.ped_df['ind']))))\n",
    "        not_mothers = set(self.ped_df['ind']).difference(self.ped_df['mother'])\n",
    "        self.probands = not_mothers.difference(self.ped_df['father'])\n",
    "\n",
    "        climbers = self.probands\n",
    "        times = np.zeros(len(self.ped_df['ind']))\n",
    "        t = 0\n",
    "        while len(climbers) > 0:\n",
    "            next_climbers = set()\n",
    "            for c in climbers:\n",
    "                idx = ind_dict[c]\n",
    "                time = times[idx]\n",
    "                if t > time:\n",
    "                    times[idx] = t\n",
    "\n",
    "                mother = self.ped_df['mother'][idx]\n",
    "                father = self.ped_df['father'][idx]\n",
    "                if mother != 0:\n",
    "                    next_climbers.add(mother)\n",
    "                if father != 0:\n",
    "                    next_climbers.add(father)\n",
    "\n",
    "            climbers = next_climbers\n",
    "            t += 1\n",
    "        \n",
    "        self.ped_df['time'] = times\n",
    "        \n",
    "    def build_cohorts(self):\n",
    "        for i, row in self.ped_df.iterrows():\n",
    "            if row.mother == 0 and row.father == 0:\n",
    "                self.founder_cohorts[row.time].append(int(row.ind))\n",
    "            else:\n",
    "                self.node_cohorts[row.time].append((row.ind))\n",
    "            \n",
    "    def get_wf_parents(self, n, N, min_ID, monogamous=True):\n",
    "        if monogamous is not True:\n",
    "            raise NotImplementedError\n",
    "            \n",
    "        num_couples = N / 2\n",
    "        mothers = np.arange(min_ID, min_ID + num_couples, dtype=int).reshape(-1, 1)\n",
    "        fathers = np.arange(min_ID + num_couples, min_ID + (num_couples * 2), dtype=int).reshape(-1, 1)\n",
    "        \n",
    "        if monogamous is True:\n",
    "            np.random.shuffle(fathers)\n",
    "            couple_indices = np.random.randint(0, num_couples, size=n)\n",
    "            couples = np.concatenate([mothers, fathers], axis=1)[couple_indices]\n",
    "            \n",
    "        return couples\n",
    "    \n",
    "    def complete_pedigree(self, N=100, reconnection_rate=0.05, max_gen_diff=1):\n",
    "        assert(len(self.founder_cohorts) > 0)\n",
    "        assert(len(self.node_cohorts) > 0)\n",
    "        \n",
    "        max_time = int(np.max(self.ped_df['time']))\n",
    "        max_ID = np.max(self.ped_df['ind'])\n",
    "        self.new_ped_rows = []\n",
    "        \n",
    "        \n",
    "        for time in range(max_time - 1):\n",
    "            founders = self.founder_cohorts[time]\n",
    "            if len(set(founders)) != len(founders):\n",
    "                print(\"Error at time\", time)\n",
    "                print(founders)\n",
    "                break\n",
    "            if len(founders) == 0:\n",
    "                continue\n",
    "                \n",
    "            possible_parents = []\n",
    "            for i in range(1, max_gen_diff + 1):\n",
    "                possible_parents.extend(self.node_cohorts[time + i])\n",
    "            assert(len(possible_parents) == len(set(possible_parents)))\n",
    "\n",
    "            num_to_reconnect = np.random.binomial(len(founders), reconnection_rate)\n",
    "            np.random.shuffle(founders)\n",
    "            to_reconnect = founders[:num_to_reconnect]\n",
    "            not_reconnected = founders[num_to_reconnect:]\n",
    "            \n",
    "            new_parents = self.get_wf_parents(len(not_reconnected), N, max_ID)\n",
    "            max_ID = np.max(new_parents)\n",
    "            for founder, parents in zip(not_reconnected, new_parents):\n",
    "                mother, father = parents\n",
    "                row = [founder, mother, father, time]\n",
    "                self.new_ped_rows.append(row)\n",
    "                \n",
    "            # Add new parents to next founder generation\n",
    "            self.founder_cohorts[time + 1].extend(set(list(new_parents.ravel())))\n",
    "                \n",
    "            for founder in to_reconnect:\n",
    "                mother, father = np.random.choice(possible_parents, size=2)\n",
    "                row = [founder, mother, father, time]\n",
    "                self.new_ped_rows.append(row)\n",
    "                \n",
    "        # Now make pandas dataframe out of new rows and merge/replace with original\n",
    "        # Drop rows with inds in new_ped_rows then just concatenate?\n"
   ]
  },
  {
   "cell_type": "code",
   "execution_count": null,
   "metadata": {},
   "outputs": [],
   "source": []
  },
  {
   "cell_type": "code",
   "execution_count": 90,
   "metadata": {},
   "outputs": [],
   "source": [
    "P = PedFiller.read_ped('/home/dnelson/project/ISGen/data/pedEx.txt')"
   ]
  },
  {
   "cell_type": "code",
   "execution_count": 91,
   "metadata": {},
   "outputs": [],
   "source": [
    "# P.get_wf_parents(10, 4, 0)"
   ]
  },
  {
   "cell_type": "code",
   "execution_count": 92,
   "metadata": {},
   "outputs": [],
   "source": [
    "P.partial_order_times()"
   ]
  },
  {
   "cell_type": "code",
   "execution_count": 93,
   "metadata": {},
   "outputs": [],
   "source": [
    "P.build_cohorts()"
   ]
  },
  {
   "cell_type": "code",
   "execution_count": 94,
   "metadata": {},
   "outputs": [],
   "source": [
    "P.complete_pedigree()"
   ]
  },
  {
   "cell_type": "code",
   "execution_count": 95,
   "metadata": {},
   "outputs": [],
   "source": [
    "new_df = pd.DataFrame(P.new_ped_rows, columns=['ind', 'father', 'mother', 'time']).set_index('ind')"
   ]
  },
  {
   "cell_type": "code",
   "execution_count": 96,
   "metadata": {},
   "outputs": [],
   "source": [
    "original_df = P.ped_df.set_index('ind')"
   ]
  },
  {
   "cell_type": "code",
   "execution_count": 97,
   "metadata": {},
   "outputs": [],
   "source": [
    "original_founders = original_df[(original_df.mother == 0) & (original_df.father == 0)]\n",
    "original_nodes = original_df[(original_df.mother != 0) | (original_df.father != 0)]"
   ]
  },
  {
   "cell_type": "code",
   "execution_count": 98,
   "metadata": {},
   "outputs": [],
   "source": [
    "original_founders = original_founders.sort_index()\n",
    "new_df = new_df.sort_index()"
   ]
  },
  {
   "cell_type": "code",
   "execution_count": 99,
   "metadata": {},
   "outputs": [
    {
     "ename": "StopIteration",
     "evalue": "",
     "output_type": "error",
     "traceback": [
      "\u001b[0;31m---------------------------------------------------------------------------\u001b[0m",
      "\u001b[0;31mStopIteration\u001b[0m                             Traceback (most recent call last)",
      "\u001b[0;32m<ipython-input-99-131194ba841b>\u001b[0m in \u001b[0;36m<module>\u001b[0;34m\u001b[0m\n\u001b[1;32m     10\u001b[0m         \u001b[0mmerged_rows\u001b[0m\u001b[0;34m.\u001b[0m\u001b[0mappend\u001b[0m\u001b[0;34m(\u001b[0m\u001b[0mnew_founder\u001b[0m\u001b[0;34m)\u001b[0m\u001b[0;34m\u001b[0m\u001b[0;34m\u001b[0m\u001b[0m\n\u001b[1;32m     11\u001b[0m \u001b[0;34m\u001b[0m\u001b[0m\n\u001b[0;32m---> 12\u001b[0;31m         \u001b[0moriginal_founder\u001b[0m\u001b[0;34m,\u001b[0m \u001b[0moriginal_row\u001b[0m \u001b[0;34m=\u001b[0m \u001b[0mnext\u001b[0m\u001b[0;34m(\u001b[0m\u001b[0moriginal_iter\u001b[0m\u001b[0;34m)\u001b[0m\u001b[0;34m\u001b[0m\u001b[0;34m\u001b[0m\u001b[0m\n\u001b[0m\u001b[1;32m     13\u001b[0m         \u001b[0mnew_founder\u001b[0m\u001b[0;34m,\u001b[0m \u001b[0mnew_row\u001b[0m \u001b[0;34m=\u001b[0m \u001b[0mnext\u001b[0m\u001b[0;34m(\u001b[0m\u001b[0mnew_iter\u001b[0m\u001b[0;34m)\u001b[0m\u001b[0;34m\u001b[0m\u001b[0;34m\u001b[0m\u001b[0m\n\u001b[1;32m     14\u001b[0m     \u001b[0;32melse\u001b[0m\u001b[0;34m:\u001b[0m\u001b[0;34m\u001b[0m\u001b[0;34m\u001b[0m\u001b[0m\n",
      "\u001b[0;31mStopIteration\u001b[0m: "
     ]
    }
   ],
   "source": [
    "original_iter = original_founders.iterrows()\n",
    "new_iter = new_df.iterrows()\n",
    "\n",
    "merged_rows = []\n",
    "unchanged_rows = []\n",
    "original_founder, original_row = next(original_iter)\n",
    "new_founder, new_row = next(new_iter)\n",
    "while True:\n",
    "    if original_founder == new_founder:\n",
    "        merged_rows.append(new_founder)\n",
    "        \n",
    "        original_founder, original_row = next(original_iter)\n",
    "        new_founder, new_row = next(new_iter)\n",
    "    else:\n",
    "        unchanged_rows.append([original_founder, original_row.father, original_row.mother, original_row.time])\n",
    "        original_founder, original_row = next(original_iter)\n",
    "\n",
    "    \n",
    "    "
   ]
  },
  {
   "cell_type": "code",
   "execution_count": 82,
   "metadata": {},
   "outputs": [
    {
     "data": {
      "text/plain": [
       "[[10276, 0.0, 0.0, 16.0],\n",
       " [10277, 0.0, 0.0, 16.0],\n",
       " [10278, 0.0, 0.0, 16.0],\n",
       " [10279, 0.0, 0.0, 16.0],\n",
       " [18314, 0.0, 0.0, 16.0],\n",
       " [18315, 0.0, 0.0, 16.0],\n",
       " [18316, 0.0, 0.0, 16.0],\n",
       " [18317, 0.0, 0.0, 16.0],\n",
       " [18318, 0.0, 0.0, 16.0],\n",
       " [18423, 0.0, 0.0, 16.0],\n",
       " [18424, 0.0, 0.0, 16.0],\n",
       " [18425, 0.0, 0.0, 16.0],\n",
       " [18426, 0.0, 0.0, 16.0],\n",
       " [18427, 0.0, 0.0, 16.0],\n",
       " [18428, 0.0, 0.0, 16.0],\n",
       " [18429, 0.0, 0.0, 16.0],\n",
       " [18430, 0.0, 0.0, 16.0],\n",
       " [18437, 0.0, 0.0, 16.0],\n",
       " [18438, 0.0, 0.0, 16.0],\n",
       " [18439, 0.0, 0.0, 16.0],\n",
       " [18440, 0.0, 0.0, 16.0],\n",
       " [18441, 0.0, 0.0, 16.0],\n",
       " [18442, 0.0, 0.0, 16.0],\n",
       " [18443, 0.0, 0.0, 16.0],\n",
       " [18444, 0.0, 0.0, 16.0],\n",
       " [18451, 0.0, 0.0, 16.0],\n",
       " [18452, 0.0, 0.0, 16.0],\n",
       " [18453, 0.0, 0.0, 16.0],\n",
       " [18454, 0.0, 0.0, 16.0],\n",
       " [18525, 0.0, 0.0, 17.0],\n",
       " [18526, 0.0, 0.0, 17.0],\n",
       " [18527, 0.0, 0.0, 17.0],\n",
       " [18528, 0.0, 0.0, 17.0],\n",
       " [18533, 0.0, 0.0, 16.0],\n",
       " [18534, 0.0, 0.0, 16.0],\n",
       " [18536, 0.0, 0.0, 16.0],\n",
       " [18539, 0.0, 0.0, 17.0],\n",
       " [18540, 0.0, 0.0, 17.0],\n",
       " [18724, 0.0, 0.0, 16.0],\n",
       " [18725, 0.0, 0.0, 16.0],\n",
       " [18726, 0.0, 0.0, 16.0],\n",
       " [18727, 0.0, 0.0, 16.0],\n",
       " [31163, 0.0, 0.0, 16.0],\n",
       " [31164, 0.0, 0.0, 16.0],\n",
       " [31259, 0.0, 0.0, 16.0],\n",
       " [31260, 0.0, 0.0, 16.0],\n",
       " [31265, 0.0, 0.0, 16.0],\n",
       " [31266, 0.0, 0.0, 16.0],\n",
       " [33558, 0.0, 0.0, 16.0],\n",
       " [33559, 0.0, 0.0, 16.0],\n",
       " [38257, 0.0, 0.0, 16.0],\n",
       " [38258, 0.0, 0.0, 16.0],\n",
       " [38259, 0.0, 0.0, 16.0],\n",
       " [38260, 0.0, 0.0, 16.0],\n",
       " [38261, 0.0, 0.0, 16.0],\n",
       " [38262, 0.0, 0.0, 16.0],\n",
       " [38726, 0.0, 0.0, 16.0],\n",
       " [38727, 0.0, 0.0, 16.0],\n",
       " [39374, 0.0, 0.0, 16.0],\n",
       " [39375, 0.0, 0.0, 16.0],\n",
       " [39376, 0.0, 0.0, 16.0],\n",
       " [39377, 0.0, 0.0, 16.0],\n",
       " [65384, 0.0, 0.0, 16.0],\n",
       " [65385, 0.0, 0.0, 16.0],\n",
       " [65387, 0.0, 0.0, 16.0],\n",
       " [65396, 0.0, 0.0, 17.0],\n",
       " [65397, 0.0, 0.0, 17.0],\n",
       " [70333, 0.0, 0.0, 16.0],\n",
       " [70334, 0.0, 0.0, 16.0],\n",
       " [70335, 0.0, 0.0, 16.0],\n",
       " [70336, 0.0, 0.0, 16.0],\n",
       " [76422, 0.0, 0.0, 17.0],\n",
       " [76423, 0.0, 0.0, 17.0],\n",
       " [133740, 0.0, 0.0, 16.0],\n",
       " [133741, 0.0, 0.0, 16.0],\n",
       " [213641, 0.0, 0.0, 16.0],\n",
       " [213642, 0.0, 0.0, 16.0],\n",
       " [213643, 0.0, 0.0, 16.0],\n",
       " [213644, 0.0, 0.0, 16.0],\n",
       " [291298, 0.0, 0.0, 16.0],\n",
       " [291299, 0.0, 0.0, 16.0],\n",
       " [675616, 0.0, 0.0, 16.0],\n",
       " [675617, 0.0, 0.0, 16.0]]"
      ]
     },
     "execution_count": 82,
     "metadata": {},
     "output_type": "execute_result"
    }
   ],
   "source": [
    "unchanged_rows"
   ]
  },
  {
   "cell_type": "code",
   "execution_count": null,
   "metadata": {},
   "outputs": [],
   "source": []
  },
  {
   "cell_type": "code",
   "execution_count": 76,
   "metadata": {},
   "outputs": [
    {
     "data": {
      "text/html": [
       "<div>\n",
       "<style scoped>\n",
       "    .dataframe tbody tr th:only-of-type {\n",
       "        vertical-align: middle;\n",
       "    }\n",
       "\n",
       "    .dataframe tbody tr th {\n",
       "        vertical-align: top;\n",
       "    }\n",
       "\n",
       "    .dataframe thead th {\n",
       "        text-align: right;\n",
       "    }\n",
       "</style>\n",
       "<table border=\"1\" class=\"dataframe\">\n",
       "  <thead>\n",
       "    <tr style=\"text-align: right;\">\n",
       "      <th></th>\n",
       "      <th>father</th>\n",
       "      <th>mother</th>\n",
       "      <th>sex</th>\n",
       "      <th>time</th>\n",
       "    </tr>\n",
       "    <tr>\n",
       "      <th>ind</th>\n",
       "      <th></th>\n",
       "      <th></th>\n",
       "      <th></th>\n",
       "      <th></th>\n",
       "    </tr>\n",
       "  </thead>\n",
       "  <tbody>\n",
       "    <tr>\n",
       "      <td>10086</td>\n",
       "      <td>0</td>\n",
       "      <td>0</td>\n",
       "      <td>1</td>\n",
       "      <td>9.0</td>\n",
       "    </tr>\n",
       "    <tr>\n",
       "      <td>10087</td>\n",
       "      <td>0</td>\n",
       "      <td>0</td>\n",
       "      <td>2</td>\n",
       "      <td>9.0</td>\n",
       "    </tr>\n",
       "    <tr>\n",
       "      <td>10102</td>\n",
       "      <td>0</td>\n",
       "      <td>0</td>\n",
       "      <td>1</td>\n",
       "      <td>7.0</td>\n",
       "    </tr>\n",
       "    <tr>\n",
       "      <td>10103</td>\n",
       "      <td>0</td>\n",
       "      <td>0</td>\n",
       "      <td>2</td>\n",
       "      <td>7.0</td>\n",
       "    </tr>\n",
       "    <tr>\n",
       "      <td>10128</td>\n",
       "      <td>0</td>\n",
       "      <td>0</td>\n",
       "      <td>1</td>\n",
       "      <td>8.0</td>\n",
       "    </tr>\n",
       "  </tbody>\n",
       "</table>\n",
       "</div>"
      ],
      "text/plain": [
       "       father  mother  sex  time\n",
       "ind                             \n",
       "10086       0       0    1   9.0\n",
       "10087       0       0    2   9.0\n",
       "10102       0       0    1   7.0\n",
       "10103       0       0    2   7.0\n",
       "10128       0       0    1   8.0"
      ]
     },
     "execution_count": 76,
     "metadata": {},
     "output_type": "execute_result"
    }
   ],
   "source": [
    "original_founders.head()"
   ]
  },
  {
   "cell_type": "code",
   "execution_count": 77,
   "metadata": {},
   "outputs": [
    {
     "data": {
      "text/html": [
       "<div>\n",
       "<style scoped>\n",
       "    .dataframe tbody tr th:only-of-type {\n",
       "        vertical-align: middle;\n",
       "    }\n",
       "\n",
       "    .dataframe tbody tr th {\n",
       "        vertical-align: top;\n",
       "    }\n",
       "\n",
       "    .dataframe thead th {\n",
       "        text-align: right;\n",
       "    }\n",
       "</style>\n",
       "<table border=\"1\" class=\"dataframe\">\n",
       "  <thead>\n",
       "    <tr style=\"text-align: right;\">\n",
       "      <th></th>\n",
       "      <th>father</th>\n",
       "      <th>mother</th>\n",
       "      <th>time</th>\n",
       "    </tr>\n",
       "    <tr>\n",
       "      <th>ind</th>\n",
       "      <th></th>\n",
       "      <th></th>\n",
       "      <th></th>\n",
       "    </tr>\n",
       "  </thead>\n",
       "  <tbody>\n",
       "    <tr>\n",
       "      <td>10086</td>\n",
       "      <td>901211.0</td>\n",
       "      <td>901250.0</td>\n",
       "      <td>9</td>\n",
       "    </tr>\n",
       "    <tr>\n",
       "      <td>10087</td>\n",
       "      <td>901195.0</td>\n",
       "      <td>901241.0</td>\n",
       "      <td>9</td>\n",
       "    </tr>\n",
       "    <tr>\n",
       "      <td>10102</td>\n",
       "      <td>900996.0</td>\n",
       "      <td>901055.0</td>\n",
       "      <td>7</td>\n",
       "    </tr>\n",
       "    <tr>\n",
       "      <td>10103</td>\n",
       "      <td>901004.0</td>\n",
       "      <td>901077.0</td>\n",
       "      <td>7</td>\n",
       "    </tr>\n",
       "    <tr>\n",
       "      <td>10128</td>\n",
       "      <td>901101.0</td>\n",
       "      <td>901170.0</td>\n",
       "      <td>8</td>\n",
       "    </tr>\n",
       "  </tbody>\n",
       "</table>\n",
       "</div>"
      ],
      "text/plain": [
       "         father    mother  time\n",
       "ind                            \n",
       "10086  901211.0  901250.0     9\n",
       "10087  901195.0  901241.0     9\n",
       "10102  900996.0  901055.0     7\n",
       "10103  901004.0  901077.0     7\n",
       "10128  901101.0  901170.0     8"
      ]
     },
     "execution_count": 77,
     "metadata": {},
     "output_type": "execute_result"
    }
   ],
   "source": [
    "new_df.head()"
   ]
  },
  {
   "cell_type": "code",
   "execution_count": null,
   "metadata": {},
   "outputs": [],
   "source": []
  },
  {
   "cell_type": "code",
   "execution_count": 70,
   "metadata": {},
   "outputs": [
    {
     "data": {
      "text/plain": [
       "(10086, father    0.0\n",
       " mother    0.0\n",
       " sex       1.0\n",
       " time      9.0\n",
       " Name: 10086, dtype: float64)"
      ]
     },
     "execution_count": 70,
     "metadata": {},
     "output_type": "execute_result"
    }
   ],
   "source": [
    "next(a)"
   ]
  },
  {
   "cell_type": "code",
   "execution_count": 47,
   "metadata": {},
   "outputs": [
    {
     "data": {
      "text/html": [
       "<div>\n",
       "<style scoped>\n",
       "    .dataframe tbody tr th:only-of-type {\n",
       "        vertical-align: middle;\n",
       "    }\n",
       "\n",
       "    .dataframe tbody tr th {\n",
       "        vertical-align: top;\n",
       "    }\n",
       "\n",
       "    .dataframe thead th {\n",
       "        text-align: right;\n",
       "    }\n",
       "</style>\n",
       "<table border=\"1\" class=\"dataframe\">\n",
       "  <thead>\n",
       "    <tr style=\"text-align: right;\">\n",
       "      <th></th>\n",
       "      <th>father</th>\n",
       "      <th>mother</th>\n",
       "      <th>time</th>\n",
       "    </tr>\n",
       "    <tr>\n",
       "      <th>ind</th>\n",
       "      <th></th>\n",
       "      <th></th>\n",
       "      <th></th>\n",
       "    </tr>\n",
       "  </thead>\n",
       "  <tbody>\n",
       "    <tr>\n",
       "      <td>863186</td>\n",
       "      <td>900554.0</td>\n",
       "      <td>900594.0</td>\n",
       "      <td>2</td>\n",
       "    </tr>\n",
       "    <tr>\n",
       "      <td>861893</td>\n",
       "      <td>900529.0</td>\n",
       "      <td>900572.0</td>\n",
       "      <td>2</td>\n",
       "    </tr>\n",
       "    <tr>\n",
       "      <td>136980</td>\n",
       "      <td>900551.0</td>\n",
       "      <td>900588.0</td>\n",
       "      <td>2</td>\n",
       "    </tr>\n",
       "    <tr>\n",
       "      <td>861894</td>\n",
       "      <td>900514.0</td>\n",
       "      <td>900556.0</td>\n",
       "      <td>2</td>\n",
       "    </tr>\n",
       "    <tr>\n",
       "      <td>454426</td>\n",
       "      <td>900510.0</td>\n",
       "      <td>900574.0</td>\n",
       "      <td>2</td>\n",
       "    </tr>\n",
       "  </tbody>\n",
       "</table>\n",
       "</div>"
      ],
      "text/plain": [
       "          father    mother  time\n",
       "ind                             \n",
       "863186  900554.0  900594.0     2\n",
       "861893  900529.0  900572.0     2\n",
       "136980  900551.0  900588.0     2\n",
       "861894  900514.0  900556.0     2\n",
       "454426  900510.0  900574.0     2"
      ]
     },
     "execution_count": 47,
     "metadata": {},
     "output_type": "execute_result"
    }
   ],
   "source": [
    "new_df.head()"
   ]
  },
  {
   "cell_type": "code",
   "execution_count": 50,
   "metadata": {},
   "outputs": [
    {
     "data": {
      "text/plain": [
       "True"
      ]
     },
     "execution_count": 50,
     "metadata": {},
     "output_type": "execute_result"
    }
   ],
   "source": [
    "10086 in new_df.index"
   ]
  },
  {
   "cell_type": "code",
   "execution_count": 26,
   "metadata": {},
   "outputs": [
    {
     "data": {
      "text/html": [
       "<div>\n",
       "<style scoped>\n",
       "    .dataframe tbody tr th:only-of-type {\n",
       "        vertical-align: middle;\n",
       "    }\n",
       "\n",
       "    .dataframe tbody tr th {\n",
       "        vertical-align: top;\n",
       "    }\n",
       "\n",
       "    .dataframe thead th {\n",
       "        text-align: right;\n",
       "    }\n",
       "</style>\n",
       "<table border=\"1\" class=\"dataframe\">\n",
       "  <thead>\n",
       "    <tr style=\"text-align: right;\">\n",
       "      <th></th>\n",
       "      <th>ind</th>\n",
       "      <th>father</th>\n",
       "      <th>mother</th>\n",
       "      <th>sex</th>\n",
       "      <th>time</th>\n",
       "    </tr>\n",
       "  </thead>\n",
       "  <tbody>\n",
       "    <tr>\n",
       "      <td>0</td>\n",
       "      <td>10086</td>\n",
       "      <td>0</td>\n",
       "      <td>0</td>\n",
       "      <td>1</td>\n",
       "      <td>9.0</td>\n",
       "    </tr>\n",
       "    <tr>\n",
       "      <td>1</td>\n",
       "      <td>10087</td>\n",
       "      <td>0</td>\n",
       "      <td>0</td>\n",
       "      <td>2</td>\n",
       "      <td>9.0</td>\n",
       "    </tr>\n",
       "    <tr>\n",
       "      <td>2</td>\n",
       "      <td>10102</td>\n",
       "      <td>0</td>\n",
       "      <td>0</td>\n",
       "      <td>1</td>\n",
       "      <td>7.0</td>\n",
       "    </tr>\n",
       "    <tr>\n",
       "      <td>3</td>\n",
       "      <td>10103</td>\n",
       "      <td>0</td>\n",
       "      <td>0</td>\n",
       "      <td>2</td>\n",
       "      <td>7.0</td>\n",
       "    </tr>\n",
       "    <tr>\n",
       "      <td>4</td>\n",
       "      <td>10128</td>\n",
       "      <td>0</td>\n",
       "      <td>0</td>\n",
       "      <td>1</td>\n",
       "      <td>8.0</td>\n",
       "    </tr>\n",
       "  </tbody>\n",
       "</table>\n",
       "</div>"
      ],
      "text/plain": [
       "     ind  father  mother  sex  time\n",
       "0  10086       0       0    1   9.0\n",
       "1  10087       0       0    2   9.0\n",
       "2  10102       0       0    1   7.0\n",
       "3  10103       0       0    2   7.0\n",
       "4  10128       0       0    1   8.0"
      ]
     },
     "execution_count": 26,
     "metadata": {},
     "output_type": "execute_result"
    }
   ],
   "source": [
    "P.ped_df.head()"
   ]
  },
  {
   "cell_type": "code",
   "execution_count": null,
   "metadata": {},
   "outputs": [],
   "source": []
  },
  {
   "cell_type": "code",
   "execution_count": null,
   "metadata": {},
   "outputs": [],
   "source": []
  },
  {
   "cell_type": "code",
   "execution_count": null,
   "metadata": {},
   "outputs": [],
   "source": []
  },
  {
   "cell_type": "code",
   "execution_count": null,
   "metadata": {},
   "outputs": [],
   "source": []
  },
  {
   "cell_type": "code",
   "execution_count": null,
   "metadata": {},
   "outputs": [],
   "source": []
  },
  {
   "cell_type": "code",
   "execution_count": null,
   "metadata": {},
   "outputs": [],
   "source": []
  },
  {
   "cell_type": "code",
   "execution_count": 15,
   "metadata": {
    "collapsed": true
   },
   "outputs": [],
   "source": [
    "cohorts = {}\n",
    "for i in range(20):\n",
    "    cohorts[i] = df['mother'][(df['cohort'] == i) & (df['mother'] != 0)]"
   ]
  },
  {
   "cell_type": "code",
   "execution_count": 16,
   "metadata": {},
   "outputs": [
    {
     "data": {
      "text/plain": [
       "[1504150,\n",
       " 615427,\n",
       " 339214,\n",
       " 215890,\n",
       " 143180,\n",
       " 93538,\n",
       " 59021,\n",
       " 37927,\n",
       " 24690,\n",
       " 15764,\n",
       " 9445,\n",
       " 5384,\n",
       " 2989,\n",
       " 1585,\n",
       " 457,\n",
       " 96,\n",
       " 9,\n",
       " 1,\n",
       " 0,\n",
       " 0]"
      ]
     },
     "execution_count": 16,
     "metadata": {},
     "output_type": "execute_result"
    }
   ],
   "source": [
    "[len(v) for v in cohorts.values()]"
   ]
  },
  {
   "cell_type": "code",
   "execution_count": 17,
   "metadata": {
    "collapsed": true
   },
   "outputs": [],
   "source": [
    "naive_partner = dict(zip(df['mother'], df['father']))"
   ]
  },
  {
   "cell_type": "code",
   "execution_count": 18,
   "metadata": {},
   "outputs": [
    {
     "data": {
      "text/plain": [
       "1868793"
      ]
     },
     "execution_count": 18,
     "metadata": {},
     "output_type": "execute_result"
    }
   ],
   "source": [
    "naive_partner[8232207]"
   ]
  },
  {
   "cell_type": "code",
   "execution_count": 19,
   "metadata": {},
   "outputs": [
    {
     "name": "stderr",
     "output_type": "stream",
     "text": [
      "100%|██████████| 3423179/3423179 [06:56<00:00, 8221.20it/s] \n"
     ]
    }
   ],
   "source": [
    "max_time = 12\n",
    "ped_list = []\n",
    "num_assigned = 0\n",
    "for i, row in tqdm(df.iterrows(), total=df.shape[0]):\n",
    "    mother = row.mother\n",
    "    father = row.father\n",
    "    if row.mother == 0 and row.cohort <= max_time:\n",
    "        num_assigned += 1\n",
    "        parent_choices = np.concatenate([cohorts[t] for t in range(int(row['first']), int(row['last'])+1)])\n",
    "        try:\n",
    "            mother = np.random.choice(parent_choices)\n",
    "        except:\n",
    "            print(i)\n",
    "            print(row)\n",
    "            raise\n",
    "        father = naive_partner[mother]\n",
    "        \n",
    "    ped_list.append([row.ind, mother, father])\n",
    "    "
   ]
  },
  {
   "cell_type": "code",
   "execution_count": null,
   "metadata": {
    "collapsed": true
   },
   "outputs": [],
   "source": []
  },
  {
   "cell_type": "code",
   "execution_count": 20,
   "metadata": {},
   "outputs": [
    {
     "data": {
      "text/plain": [
       "349601"
      ]
     },
     "execution_count": 20,
     "metadata": {},
     "output_type": "execute_result"
    }
   ],
   "source": [
    "num_assigned"
   ]
  },
  {
   "cell_type": "code",
   "execution_count": 21,
   "metadata": {},
   "outputs": [
    {
     "name": "stderr",
     "output_type": "stream",
     "text": [
      "100%|██████████| 3423179/3423179 [00:08<00:00, 394751.93it/s]\n"
     ]
    }
   ],
   "source": [
    "with open('/Users/dnelson/project/pedigree_msp/data/BALSAC/BALasc_probands1930_12gens_reconnected.txt', 'w') as f:\n",
    "    f.write('ind\\tfather\\tmother\\n')\n",
    "    for row in tqdm(ped_list, total=len(ped_list)):\n",
    "        f.write('\\t'.join([str(x) for x in row]) + '\\n')"
   ]
  },
  {
   "cell_type": "code",
   "execution_count": 22,
   "metadata": {},
   "outputs": [
    {
     "data": {
      "text/plain": [
       "[[2340939, 2331548, 2331549],\n",
       " [2750947, 2331548, 2385356],\n",
       " [2331548, 8232298, 2381228]]"
      ]
     },
     "execution_count": 22,
     "metadata": {},
     "output_type": "execute_result"
    }
   ],
   "source": [
    "[r for r in ped_list if 2331548 in r]"
   ]
  },
  {
   "cell_type": "code",
   "execution_count": 23,
   "metadata": {},
   "outputs": [
    {
     "data": {
      "text/plain": [
       "[[1104914, 2333034, 2333035], [1104916, 1104914, 1104915]]"
      ]
     },
     "execution_count": 23,
     "metadata": {},
     "output_type": "execute_result"
    }
   ],
   "source": [
    "[r for r in ped_list if 1104914 in r]"
   ]
  },
  {
   "cell_type": "code",
   "execution_count": 25,
   "metadata": {},
   "outputs": [
    {
     "data": {
      "text/plain": [
       "Counter({0: 1504150,\n",
       "         1: 825970,\n",
       "         2: 409270,\n",
       "         3: 246316,\n",
       "         4: 159167,\n",
       "         5: 101958,\n",
       "         6: 62748,\n",
       "         7: 39983,\n",
       "         8: 26434,\n",
       "         9: 17826,\n",
       "         10: 11239,\n",
       "         11: 6770,\n",
       "         12: 4389,\n",
       "         13: 3413,\n",
       "         14: 2533,\n",
       "         15: 817,\n",
       "         16: 176,\n",
       "         17: 18,\n",
       "         18: 2})"
      ]
     },
     "execution_count": 25,
     "metadata": {},
     "output_type": "execute_result"
    }
   ],
   "source": [
    "Counter(df['cohort'].values)"
   ]
  },
  {
   "cell_type": "code",
   "execution_count": null,
   "metadata": {
    "collapsed": true
   },
   "outputs": [],
   "source": []
  }
 ],
 "metadata": {
  "kernelspec": {
   "display_name": "Python 3",
   "language": "python",
   "name": "python3"
  },
  "language_info": {
   "codemirror_mode": {
    "name": "ipython",
    "version": 3
   },
   "file_extension": ".py",
   "mimetype": "text/x-python",
   "name": "python",
   "nbconvert_exporter": "python",
   "pygments_lexer": "ipython3",
   "version": "3.7.4"
  }
 },
 "nbformat": 4,
 "nbformat_minor": 2
}
