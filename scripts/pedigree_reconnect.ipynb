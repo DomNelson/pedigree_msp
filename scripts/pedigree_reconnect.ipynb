{
 "cells": [
  {
   "cell_type": "code",
   "execution_count": 1,
   "metadata": {
    "collapsed": true
   },
   "outputs": [],
   "source": [
    "import sys, os\n",
    "sys.path.append('/home/dnelson/project/msprime')\n",
    "import msprime\n",
    "\n",
    "import pandas as pd\n",
    "import numpy as np\n",
    "from collections import Counter\n",
    "from tqdm import tqdm\n",
    "from collections import defaultdict"
   ]
  },
  {
   "cell_type": "code",
   "execution_count": 5,
   "metadata": {
    "collapsed": true
   },
   "outputs": [],
   "source": []
  },
  {
   "cell_type": "code",
   "execution_count": 8,
   "metadata": {},
   "outputs": [
    {
     "data": {
      "text/html": [
       "<div>\n",
       "<style scoped>\n",
       "    .dataframe tbody tr th:only-of-type {\n",
       "        vertical-align: middle;\n",
       "    }\n",
       "\n",
       "    .dataframe tbody tr th {\n",
       "        vertical-align: top;\n",
       "    }\n",
       "\n",
       "    .dataframe thead th {\n",
       "        text-align: right;\n",
       "    }\n",
       "</style>\n",
       "<table border=\"1\" class=\"dataframe\">\n",
       "  <thead>\n",
       "    <tr style=\"text-align: right;\">\n",
       "      <th></th>\n",
       "      <th>ind</th>\n",
       "      <th>father</th>\n",
       "      <th>mother</th>\n",
       "      <th>sex</th>\n",
       "    </tr>\n",
       "  </thead>\n",
       "  <tbody>\n",
       "    <tr>\n",
       "      <th>0</th>\n",
       "      <td>10086</td>\n",
       "      <td>0</td>\n",
       "      <td>0</td>\n",
       "      <td>1</td>\n",
       "    </tr>\n",
       "    <tr>\n",
       "      <th>1</th>\n",
       "      <td>10087</td>\n",
       "      <td>0</td>\n",
       "      <td>0</td>\n",
       "      <td>2</td>\n",
       "    </tr>\n",
       "    <tr>\n",
       "      <th>2</th>\n",
       "      <td>10102</td>\n",
       "      <td>0</td>\n",
       "      <td>0</td>\n",
       "      <td>1</td>\n",
       "    </tr>\n",
       "    <tr>\n",
       "      <th>3</th>\n",
       "      <td>10103</td>\n",
       "      <td>0</td>\n",
       "      <td>0</td>\n",
       "      <td>2</td>\n",
       "    </tr>\n",
       "    <tr>\n",
       "      <th>4</th>\n",
       "      <td>10128</td>\n",
       "      <td>0</td>\n",
       "      <td>0</td>\n",
       "      <td>1</td>\n",
       "    </tr>\n",
       "  </tbody>\n",
       "</table>\n",
       "</div>"
      ],
      "text/plain": [
       "     ind  father  mother  sex\n",
       "0  10086       0       0    1\n",
       "1  10087       0       0    2\n",
       "2  10102       0       0    1\n",
       "3  10103       0       0    2\n",
       "4  10128       0       0    1"
      ]
     },
     "execution_count": 8,
     "metadata": {},
     "output_type": "execute_result"
    }
   ],
   "source": [
    "df.head()"
   ]
  },
  {
   "cell_type": "code",
   "execution_count": 359,
   "metadata": {},
   "outputs": [],
   "source": [
    "class PedFiller:\n",
    "    def __init__(self, ped_df):\n",
    "        self.ped_df = ped_df\n",
    "        self.min_ID = 0\n",
    "        self.probands = set()\n",
    "        self.new_ped = None\n",
    "        # TODO: Would be good to have 'parent_cohorts' where\n",
    "        # we can choose from pre-existing couples rather than\n",
    "        # just random individuals from each cohort\n",
    "        # - could build cohorts by collecting parents who had a\n",
    "        #   child at the given time, that way the generation time\n",
    "        #   is chosen automatically from the pedigree itself.\n",
    "        self.node_cohorts = defaultdict(list)\n",
    "        self.founder_cohorts = defaultdict(list)\n",
    "\n",
    "    @staticmethod\n",
    "    def read_ped(pedfile, header=0, sep=' ', dtype=int, usecols=(0, 1, 2)):\n",
    "        df = pd.read_csv(pedfile, header=header, sep=sep, dtype=dtype, usecols=usecols)\n",
    "        for expected_col in ['ind', 'mother', 'father']:\n",
    "            assert(expected_col in df.columns)\n",
    "        \n",
    "        return PedFiller(df)\n",
    "\n",
    "    def partial_order_times(self):\n",
    "        ind_dict = dict(zip(self.ped_df['ind'], range(len(self.ped_df['ind']))))\n",
    "        not_mothers = set(self.ped_df['ind']).difference(self.ped_df['mother'])\n",
    "        self.probands = not_mothers.difference(self.ped_df['father'])\n",
    "\n",
    "        climbers = self.probands\n",
    "        times = np.zeros(len(self.ped_df['ind']))\n",
    "        t = 0\n",
    "        while len(climbers) > 0:\n",
    "            next_climbers = set()\n",
    "            for c in tqdm(climbers, leave=False, desc=\"Setting time {}\".format(t)):\n",
    "                idx = ind_dict[c]\n",
    "                time = times[idx]\n",
    "                if t > time:\n",
    "                    times[idx] = t\n",
    "\n",
    "                mother = self.ped_df['mother'][idx]\n",
    "                father = self.ped_df['father'][idx]\n",
    "                if mother != 0:\n",
    "                    next_climbers.add(mother)\n",
    "                if father != 0:\n",
    "                    next_climbers.add(father)\n",
    "\n",
    "            climbers = set(next_climbers)\n",
    "            t += 1\n",
    "        \n",
    "        self.ped_df['time'] = times\n",
    "        \n",
    "    def build_cohorts(self):\n",
    "        \"\"\"\n",
    "        Collects individuals into cohorts of identical times\n",
    "        \"\"\"\n",
    "        for i, row in tqdm(self.ped_df.iterrows(),\n",
    "                           total=self.ped_df.shape[0],\n",
    "                           desc='Building cohorts'):\n",
    "            if row.mother == 0 and row.father == 0:\n",
    "                self.founder_cohorts[row.time].append(int(row.ind))\n",
    "\n",
    "            # Node cohorts contain both founders and internal nodes\n",
    "            self.node_cohorts[row.time].append((row.ind))\n",
    "            \n",
    "    def get_wf_parents(self, n, N, min_ID, monogamous=True):\n",
    "        \"\"\"\n",
    "        Draws new parents for unconnected recent founders from a randomly-mating\n",
    "        Wright-Fisher population\n",
    "        \"\"\"\n",
    "        if monogamous is not True:\n",
    "            raise NotImplementedError\n",
    "            \n",
    "        num_couples = N / 2\n",
    "        mothers = np.arange(min_ID,\n",
    "                            min_ID + num_couples,\n",
    "                            dtype=int\n",
    "                           ).reshape(-1, 1)\n",
    "        fathers = np.arange(min_ID + num_couples,\n",
    "                            min_ID + (num_couples * 2),\n",
    "                            dtype=int\n",
    "                           ).reshape(-1, 1)\n",
    "        \n",
    "        if monogamous is True:\n",
    "            np.random.shuffle(fathers)\n",
    "            couple_indices = np.random.randint(0, num_couples, size=n)\n",
    "            couples = np.concatenate([mothers, fathers], axis=1)[couple_indices]\n",
    "            \n",
    "        return couples\n",
    "    \n",
    "    def complete_pedigree(self, N=100, reconnection_rate=0.05, max_gen_diff=1):\n",
    "        \"\"\"\n",
    "        Draws new connections for recent founders from parents within max_gen_diff\n",
    "        of the recent founder's time.\n",
    "        \"\"\"\n",
    "        assert(len(self.founder_cohorts) > 0)\n",
    "        assert(len(self.node_cohorts) > 0)\n",
    "        \n",
    "        max_time = int(np.max(self.ped_df['time']))\n",
    "        max_ID = np.max(self.ped_df['ind'])\n",
    "\n",
    "        self.new_ped_rows = []  \n",
    "        for time in tqdm(range(max_time), desc='Drawing new connections'):\n",
    "            founders = self.founder_cohorts[time]\n",
    "            if len(set(founders)) != len(founders):\n",
    "                print(\"Error at time\", time)\n",
    "                print(founders)\n",
    "                break\n",
    "            if len(founders) == 0:\n",
    "                continue\n",
    "\n",
    "            possible_parents = []\n",
    "            for i in range(1, max_gen_diff + 1):\n",
    "                possible_parents.extend(self.node_cohorts[time + i])\n",
    "            assert(len(possible_parents) == len(set(possible_parents)))\n",
    "\n",
    "            # TODO: Might be a problem here - in full QC pedigree seems too many\n",
    "            #       reconnections drawn.\n",
    "            num_to_reconnect = np.random.binomial(len(founders), reconnection_rate)\n",
    "            np.random.shuffle(founders)\n",
    "            to_reconnect = founders[:num_to_reconnect]\n",
    "            not_reconnected = founders[num_to_reconnect:]\n",
    "            \n",
    "            new_parents = self.get_wf_parents(len(not_reconnected), N, max_ID)\n",
    "            max_ID = np.max(new_parents)\n",
    "            for founder, parents in zip(not_reconnected, new_parents):\n",
    "                mother, father = parents\n",
    "                row = [founder, mother, father, time]\n",
    "                self.new_ped_rows.append(row)\n",
    "                \n",
    "            # Add new parents to next founder generation\n",
    "            self.founder_cohorts[time + 1].extend(set(list(new_parents.ravel())))\n",
    "                \n",
    "            for founder in to_reconnect:\n",
    "                mother, father = np.random.choice(possible_parents, size=2)\n",
    "                row = [founder, mother, father, time]\n",
    "                self.new_ped_rows.append(row)\n",
    "                \n",
    "    def collect_rows(self):\n",
    "        \"\"\"\n",
    "        Sorts original and new individuals into unchanged/updated/new categories,\n",
    "        then combines them into a new array\n",
    "        \"\"\"\n",
    "        new_df = pd.DataFrame(self.new_ped_rows,\n",
    "                              columns=['ind', 'father', 'mother', 'time']\n",
    "                             ).set_index('ind').sort_index()\n",
    "        original_df = self.ped_df.set_index('ind').sort_index()\n",
    "\n",
    "        self.merged_rows = []\n",
    "        self.unchanged_rows = []\n",
    "        self.new_rows = []\n",
    "        new_iter = new_df.iterrows()\n",
    "        new_founder, new_row = next(new_iter)\n",
    "        \n",
    "        # Replace reconnected founder rows\n",
    "        for ind, row in original_df.iterrows():\n",
    "            if new_founder == ind:\n",
    "                self.merged_rows.append(\n",
    "                    [new_founder,\n",
    "                     int(new_row.father),\n",
    "                     int(new_row.mother),\n",
    "                     new_row.time]\n",
    "                )\n",
    "                new_founder, new_row = next(new_iter)\n",
    "            else:\n",
    "                self.unchanged_rows.append(\n",
    "                    [ind,\n",
    "                     int(row.father),\n",
    "                     int(row.mother),\n",
    "                     row.time]\n",
    "                )\n",
    "                \n",
    "        # Add new individuals\n",
    "        for founder, row in new_iter:\n",
    "            self.new_rows.append(\n",
    "                [founder,\n",
    "                 int(row.father),\n",
    "                 int(row.mother),\n",
    "                 row.time]\n",
    "            )\n",
    "            \n",
    "        assert(len(self.unchanged_rows) + len(self.merged_rows) == self.ped_df.shape[0])\n",
    "        \n",
    "        self.new_ped = self.unchanged_rows + self.merged_rows + self.new_rows\n",
    "            \n",
    "    def write_filled_ped(self, path):\n",
    "        with open(os.path.expanduser(path), 'w') as f:\n",
    "            f.write('ind\\tfather\\tmother\\ttime\\n')\n",
    "            for row in self.new_ped:\n",
    "                f.write('\\t'.join([str(x) for x in row]) + '\\n')\n",
    "                \n"
   ]
  },
  {
   "cell_type": "code",
   "execution_count": 360,
   "metadata": {},
   "outputs": [
    {
     "name": "stderr",
     "output_type": "stream",
     "text": [
      "Building cohorts: 100%|██████████| 3423179/3423179 [03:07<00:00, 18225.47it/s]\n"
     ]
    }
   ],
   "source": [
    "P = PedFiller.read_ped('/Users/dnelson/project/anc_finder/data/BALasc_probands1930.txt', sep='\\t')\n",
    "\n",
    "P.partial_order_times()\n",
    "P.build_cohorts()\n",
    "P.complete_pedigree()\n",
    "P.collect_rows()\n",
    "\n",
    "# new_df = pd.DataFrame(P.new_ped_rows, columns=['ind', 'father', 'mother', 'time']).set_index('ind')\n",
    "# original_df = P.ped_df.set_index('ind')\n",
    "\n",
    "# original_founders = original_df[(original_df.mother == 0) & (original_df.father == 0)]\n",
    "# original_nodes = original_df[(original_df.mother != 0) | (original_df.father != 0)]\n",
    "\n",
    "# original_founders = original_founders.sort_index()\n",
    "# new_df = new_df.sort_index()"
   ]
  },
  {
   "cell_type": "code",
   "execution_count": 361,
   "metadata": {},
   "outputs": [],
   "source": [
    "P.write_filled_ped('~/temp/filled_BALasc_probands1930.txt')"
   ]
  },
  {
   "cell_type": "code",
   "execution_count": 368,
   "metadata": {},
   "outputs": [
    {
     "data": {
      "text/plain": [
       "354410"
      ]
     },
     "execution_count": 368,
     "metadata": {},
     "output_type": "execute_result"
    }
   ],
   "source": [
    "len(P.merged_rows)"
   ]
  },
  {
   "cell_type": "code",
   "execution_count": 367,
   "metadata": {},
   "outputs": [
    {
     "data": {
      "text/plain": [
       "356008"
      ]
     },
     "execution_count": 367,
     "metadata": {},
     "output_type": "execute_result"
    }
   ],
   "source": [
    "len(P.new_ped_rows)"
   ]
  },
  {
   "cell_type": "code",
   "execution_count": 365,
   "metadata": {},
   "outputs": [
    {
     "name": "stdout",
     "output_type": "stream",
     "text": [
      "4.0 16087\n",
      "3.0 30526\n",
      "2.0 70156\n",
      "1.0 210543\n",
      "5.0 8520\n",
      "6.0 3827\n",
      "8.0 1844\n",
      "7.0 2156\n",
      "9.0 2162\n",
      "12.0 1500\n",
      "11.0 1486\n",
      "10.0 1894\n",
      "13.0 1928\n",
      "14.0 2176\n",
      "15.0 821\n",
      "16.0 267\n",
      "17.0 115\n",
      "18.0 92\n",
      "0 0\n"
     ]
    }
   ],
   "source": [
    "for k, v in P.founder_cohorts.items():\n",
    "    print(k, len(v))"
   ]
  },
  {
   "cell_type": "code",
   "execution_count": 300,
   "metadata": {},
   "outputs": [
    {
     "ename": "StopIteration",
     "evalue": "",
     "output_type": "error",
     "traceback": [
      "\u001b[0;31m---------------------------------------------------------------------------\u001b[0m",
      "\u001b[0;31mStopIteration\u001b[0m                             Traceback (most recent call last)",
      "\u001b[0;32m<ipython-input-300-77a6d344a722>\u001b[0m in \u001b[0;36m<module>\u001b[0;34m()\u001b[0m\n\u001b[1;32m     10\u001b[0m         \u001b[0mmerged_rows\u001b[0m\u001b[0;34m.\u001b[0m\u001b[0mappend\u001b[0m\u001b[0;34m(\u001b[0m\u001b[0mnew_founder\u001b[0m\u001b[0;34m)\u001b[0m\u001b[0;34m\u001b[0m\u001b[0m\n\u001b[1;32m     11\u001b[0m \u001b[0;34m\u001b[0m\u001b[0m\n\u001b[0;32m---> 12\u001b[0;31m         \u001b[0mfounder\u001b[0m\u001b[0;34m,\u001b[0m \u001b[0mrow\u001b[0m \u001b[0;34m=\u001b[0m \u001b[0mnext\u001b[0m\u001b[0;34m(\u001b[0m\u001b[0moriginal_iter\u001b[0m\u001b[0;34m)\u001b[0m\u001b[0;34m\u001b[0m\u001b[0m\n\u001b[0m\u001b[1;32m     13\u001b[0m         \u001b[0mnew_founder\u001b[0m\u001b[0;34m,\u001b[0m \u001b[0mnew_row\u001b[0m \u001b[0;34m=\u001b[0m \u001b[0mnext\u001b[0m\u001b[0;34m(\u001b[0m\u001b[0mnew_iter\u001b[0m\u001b[0;34m)\u001b[0m\u001b[0;34m\u001b[0m\u001b[0m\n\u001b[1;32m     14\u001b[0m     \u001b[0;32melse\u001b[0m\u001b[0;34m:\u001b[0m\u001b[0;34m\u001b[0m\u001b[0m\n",
      "\u001b[0;31mStopIteration\u001b[0m: "
     ]
    }
   ],
   "source": [
    "original_iter = original_founders.iterrows()\n",
    "new_iter = new_df.iterrows()\n",
    "\n",
    "merged_rows = []\n",
    "unchanged_rows = []\n",
    "founder, row = next(original_iter)\n",
    "new_founder, new_row = next(new_iter)\n",
    "while True:\n",
    "    if new_founder == founder:\n",
    "        merged_rows.append(new_founder)\n",
    "        \n",
    "        founder, row = next(original_iter)\n",
    "        new_founder, new_row = next(new_iter)\n",
    "    else:\n",
    "        unchanged_rows.append([founder, row.father, row.mother, row.time])\n",
    "        founder, row = next(original_iter)\n",
    "\n",
    "    \n",
    "    "
   ]
  },
  {
   "cell_type": "code",
   "execution_count": 301,
   "metadata": {},
   "outputs": [
    {
     "data": {
      "text/plain": [
       "[[18525, 0.0, 0.0, 17.0],\n",
       " [18526, 0.0, 0.0, 17.0],\n",
       " [18527, 0.0, 0.0, 17.0],\n",
       " [18528, 0.0, 0.0, 17.0],\n",
       " [18539, 0.0, 0.0, 17.0],\n",
       " [18540, 0.0, 0.0, 17.0],\n",
       " [65396, 0.0, 0.0, 17.0],\n",
       " [65397, 0.0, 0.0, 17.0],\n",
       " [76422, 0.0, 0.0, 17.0],\n",
       " [76423, 0.0, 0.0, 17.0]]"
      ]
     },
     "execution_count": 301,
     "metadata": {},
     "output_type": "execute_result"
    }
   ],
   "source": [
    "unchanged_rows"
   ]
  },
  {
   "cell_type": "code",
   "execution_count": 302,
   "metadata": {},
   "outputs": [
    {
     "data": {
      "text/plain": [
       "7389"
      ]
     },
     "execution_count": 302,
     "metadata": {},
     "output_type": "execute_result"
    }
   ],
   "source": [
    "len(merged_rows)"
   ]
  },
  {
   "cell_type": "code",
   "execution_count": 303,
   "metadata": {},
   "outputs": [
    {
     "data": {
      "text/plain": [
       "[18525,\n",
       " 18526,\n",
       " 18527,\n",
       " 18528,\n",
       " 18539,\n",
       " 18540,\n",
       " 65396,\n",
       " 65397,\n",
       " 76422,\n",
       " 76423,\n",
       " 901891,\n",
       " 901892,\n",
       " 901893,\n",
       " 901894,\n",
       " 901895,\n",
       " 901896,\n",
       " 901897,\n",
       " 901898,\n",
       " 901899,\n",
       " 901900,\n",
       " 901901,\n",
       " 901902,\n",
       " 901903,\n",
       " 901904,\n",
       " 901905,\n",
       " 901906,\n",
       " 901907,\n",
       " 901908,\n",
       " 901909,\n",
       " 901910,\n",
       " 901911,\n",
       " 901912,\n",
       " 901914,\n",
       " 901915,\n",
       " 901916,\n",
       " 901917,\n",
       " 901919,\n",
       " 901920,\n",
       " 901921,\n",
       " 901922,\n",
       " 901923,\n",
       " 901924,\n",
       " 901925,\n",
       " 901926,\n",
       " 901927,\n",
       " 901928,\n",
       " 901929,\n",
       " 901930,\n",
       " 901931,\n",
       " 901932,\n",
       " 901933,\n",
       " 901934,\n",
       " 901935,\n",
       " 901936,\n",
       " 901937,\n",
       " 901938,\n",
       " 901939,\n",
       " 901940,\n",
       " 901941,\n",
       " 901942,\n",
       " 901943,\n",
       " 901944,\n",
       " 901945,\n",
       " 901946,\n",
       " 901947,\n",
       " 901948,\n",
       " 901949,\n",
       " 901950,\n",
       " 901951,\n",
       " 901952,\n",
       " 901953,\n",
       " 901954,\n",
       " 901955,\n",
       " 901956,\n",
       " 901957,\n",
       " 901958,\n",
       " 901959,\n",
       " 901961,\n",
       " 901962,\n",
       " 901963,\n",
       " 901964,\n",
       " 901965,\n",
       " 901966,\n",
       " 901967,\n",
       " 901968,\n",
       " 901969,\n",
       " 901970,\n",
       " 901971,\n",
       " 901973,\n",
       " 901974,\n",
       " 901975,\n",
       " 901976,\n",
       " 901977,\n",
       " 901978,\n",
       " 901979,\n",
       " 901980,\n",
       " 901981,\n",
       " 901982,\n",
       " 901983,\n",
       " 901984,\n",
       " 901985,\n",
       " 901986,\n",
       " 901987,\n",
       " 901988,\n",
       " 901989,\n",
       " 901990]"
      ]
     },
     "execution_count": 303,
     "metadata": {},
     "output_type": "execute_result"
    }
   ],
   "source": [
    "P.founder_cohorts[17]"
   ]
  },
  {
   "cell_type": "code",
   "execution_count": 76,
   "metadata": {},
   "outputs": [
    {
     "data": {
      "text/html": [
       "<div>\n",
       "<style scoped>\n",
       "    .dataframe tbody tr th:only-of-type {\n",
       "        vertical-align: middle;\n",
       "    }\n",
       "\n",
       "    .dataframe tbody tr th {\n",
       "        vertical-align: top;\n",
       "    }\n",
       "\n",
       "    .dataframe thead th {\n",
       "        text-align: right;\n",
       "    }\n",
       "</style>\n",
       "<table border=\"1\" class=\"dataframe\">\n",
       "  <thead>\n",
       "    <tr style=\"text-align: right;\">\n",
       "      <th></th>\n",
       "      <th>father</th>\n",
       "      <th>mother</th>\n",
       "      <th>sex</th>\n",
       "      <th>time</th>\n",
       "    </tr>\n",
       "    <tr>\n",
       "      <th>ind</th>\n",
       "      <th></th>\n",
       "      <th></th>\n",
       "      <th></th>\n",
       "      <th></th>\n",
       "    </tr>\n",
       "  </thead>\n",
       "  <tbody>\n",
       "    <tr>\n",
       "      <td>10086</td>\n",
       "      <td>0</td>\n",
       "      <td>0</td>\n",
       "      <td>1</td>\n",
       "      <td>9.0</td>\n",
       "    </tr>\n",
       "    <tr>\n",
       "      <td>10087</td>\n",
       "      <td>0</td>\n",
       "      <td>0</td>\n",
       "      <td>2</td>\n",
       "      <td>9.0</td>\n",
       "    </tr>\n",
       "    <tr>\n",
       "      <td>10102</td>\n",
       "      <td>0</td>\n",
       "      <td>0</td>\n",
       "      <td>1</td>\n",
       "      <td>7.0</td>\n",
       "    </tr>\n",
       "    <tr>\n",
       "      <td>10103</td>\n",
       "      <td>0</td>\n",
       "      <td>0</td>\n",
       "      <td>2</td>\n",
       "      <td>7.0</td>\n",
       "    </tr>\n",
       "    <tr>\n",
       "      <td>10128</td>\n",
       "      <td>0</td>\n",
       "      <td>0</td>\n",
       "      <td>1</td>\n",
       "      <td>8.0</td>\n",
       "    </tr>\n",
       "  </tbody>\n",
       "</table>\n",
       "</div>"
      ],
      "text/plain": [
       "       father  mother  sex  time\n",
       "ind                             \n",
       "10086       0       0    1   9.0\n",
       "10087       0       0    2   9.0\n",
       "10102       0       0    1   7.0\n",
       "10103       0       0    2   7.0\n",
       "10128       0       0    1   8.0"
      ]
     },
     "execution_count": 76,
     "metadata": {},
     "output_type": "execute_result"
    }
   ],
   "source": [
    "original_founders.head()"
   ]
  },
  {
   "cell_type": "code",
   "execution_count": 77,
   "metadata": {},
   "outputs": [
    {
     "data": {
      "text/html": [
       "<div>\n",
       "<style scoped>\n",
       "    .dataframe tbody tr th:only-of-type {\n",
       "        vertical-align: middle;\n",
       "    }\n",
       "\n",
       "    .dataframe tbody tr th {\n",
       "        vertical-align: top;\n",
       "    }\n",
       "\n",
       "    .dataframe thead th {\n",
       "        text-align: right;\n",
       "    }\n",
       "</style>\n",
       "<table border=\"1\" class=\"dataframe\">\n",
       "  <thead>\n",
       "    <tr style=\"text-align: right;\">\n",
       "      <th></th>\n",
       "      <th>father</th>\n",
       "      <th>mother</th>\n",
       "      <th>time</th>\n",
       "    </tr>\n",
       "    <tr>\n",
       "      <th>ind</th>\n",
       "      <th></th>\n",
       "      <th></th>\n",
       "      <th></th>\n",
       "    </tr>\n",
       "  </thead>\n",
       "  <tbody>\n",
       "    <tr>\n",
       "      <td>10086</td>\n",
       "      <td>901211.0</td>\n",
       "      <td>901250.0</td>\n",
       "      <td>9</td>\n",
       "    </tr>\n",
       "    <tr>\n",
       "      <td>10087</td>\n",
       "      <td>901195.0</td>\n",
       "      <td>901241.0</td>\n",
       "      <td>9</td>\n",
       "    </tr>\n",
       "    <tr>\n",
       "      <td>10102</td>\n",
       "      <td>900996.0</td>\n",
       "      <td>901055.0</td>\n",
       "      <td>7</td>\n",
       "    </tr>\n",
       "    <tr>\n",
       "      <td>10103</td>\n",
       "      <td>901004.0</td>\n",
       "      <td>901077.0</td>\n",
       "      <td>7</td>\n",
       "    </tr>\n",
       "    <tr>\n",
       "      <td>10128</td>\n",
       "      <td>901101.0</td>\n",
       "      <td>901170.0</td>\n",
       "      <td>8</td>\n",
       "    </tr>\n",
       "  </tbody>\n",
       "</table>\n",
       "</div>"
      ],
      "text/plain": [
       "         father    mother  time\n",
       "ind                            \n",
       "10086  901211.0  901250.0     9\n",
       "10087  901195.0  901241.0     9\n",
       "10102  900996.0  901055.0     7\n",
       "10103  901004.0  901077.0     7\n",
       "10128  901101.0  901170.0     8"
      ]
     },
     "execution_count": 77,
     "metadata": {},
     "output_type": "execute_result"
    }
   ],
   "source": [
    "new_df.head()"
   ]
  },
  {
   "cell_type": "code",
   "execution_count": null,
   "metadata": {
    "collapsed": true
   },
   "outputs": [],
   "source": []
  },
  {
   "cell_type": "code",
   "execution_count": 70,
   "metadata": {},
   "outputs": [
    {
     "data": {
      "text/plain": [
       "(10086, father    0.0\n",
       " mother    0.0\n",
       " sex       1.0\n",
       " time      9.0\n",
       " Name: 10086, dtype: float64)"
      ]
     },
     "execution_count": 70,
     "metadata": {},
     "output_type": "execute_result"
    }
   ],
   "source": [
    "next(a)"
   ]
  },
  {
   "cell_type": "code",
   "execution_count": 47,
   "metadata": {},
   "outputs": [
    {
     "data": {
      "text/html": [
       "<div>\n",
       "<style scoped>\n",
       "    .dataframe tbody tr th:only-of-type {\n",
       "        vertical-align: middle;\n",
       "    }\n",
       "\n",
       "    .dataframe tbody tr th {\n",
       "        vertical-align: top;\n",
       "    }\n",
       "\n",
       "    .dataframe thead th {\n",
       "        text-align: right;\n",
       "    }\n",
       "</style>\n",
       "<table border=\"1\" class=\"dataframe\">\n",
       "  <thead>\n",
       "    <tr style=\"text-align: right;\">\n",
       "      <th></th>\n",
       "      <th>father</th>\n",
       "      <th>mother</th>\n",
       "      <th>time</th>\n",
       "    </tr>\n",
       "    <tr>\n",
       "      <th>ind</th>\n",
       "      <th></th>\n",
       "      <th></th>\n",
       "      <th></th>\n",
       "    </tr>\n",
       "  </thead>\n",
       "  <tbody>\n",
       "    <tr>\n",
       "      <td>863186</td>\n",
       "      <td>900554.0</td>\n",
       "      <td>900594.0</td>\n",
       "      <td>2</td>\n",
       "    </tr>\n",
       "    <tr>\n",
       "      <td>861893</td>\n",
       "      <td>900529.0</td>\n",
       "      <td>900572.0</td>\n",
       "      <td>2</td>\n",
       "    </tr>\n",
       "    <tr>\n",
       "      <td>136980</td>\n",
       "      <td>900551.0</td>\n",
       "      <td>900588.0</td>\n",
       "      <td>2</td>\n",
       "    </tr>\n",
       "    <tr>\n",
       "      <td>861894</td>\n",
       "      <td>900514.0</td>\n",
       "      <td>900556.0</td>\n",
       "      <td>2</td>\n",
       "    </tr>\n",
       "    <tr>\n",
       "      <td>454426</td>\n",
       "      <td>900510.0</td>\n",
       "      <td>900574.0</td>\n",
       "      <td>2</td>\n",
       "    </tr>\n",
       "  </tbody>\n",
       "</table>\n",
       "</div>"
      ],
      "text/plain": [
       "          father    mother  time\n",
       "ind                             \n",
       "863186  900554.0  900594.0     2\n",
       "861893  900529.0  900572.0     2\n",
       "136980  900551.0  900588.0     2\n",
       "861894  900514.0  900556.0     2\n",
       "454426  900510.0  900574.0     2"
      ]
     },
     "execution_count": 47,
     "metadata": {},
     "output_type": "execute_result"
    }
   ],
   "source": [
    "new_df.head()"
   ]
  },
  {
   "cell_type": "code",
   "execution_count": 50,
   "metadata": {},
   "outputs": [
    {
     "data": {
      "text/plain": [
       "True"
      ]
     },
     "execution_count": 50,
     "metadata": {},
     "output_type": "execute_result"
    }
   ],
   "source": [
    "10086 in new_df.index"
   ]
  },
  {
   "cell_type": "code",
   "execution_count": 26,
   "metadata": {},
   "outputs": [
    {
     "data": {
      "text/html": [
       "<div>\n",
       "<style scoped>\n",
       "    .dataframe tbody tr th:only-of-type {\n",
       "        vertical-align: middle;\n",
       "    }\n",
       "\n",
       "    .dataframe tbody tr th {\n",
       "        vertical-align: top;\n",
       "    }\n",
       "\n",
       "    .dataframe thead th {\n",
       "        text-align: right;\n",
       "    }\n",
       "</style>\n",
       "<table border=\"1\" class=\"dataframe\">\n",
       "  <thead>\n",
       "    <tr style=\"text-align: right;\">\n",
       "      <th></th>\n",
       "      <th>ind</th>\n",
       "      <th>father</th>\n",
       "      <th>mother</th>\n",
       "      <th>sex</th>\n",
       "      <th>time</th>\n",
       "    </tr>\n",
       "  </thead>\n",
       "  <tbody>\n",
       "    <tr>\n",
       "      <td>0</td>\n",
       "      <td>10086</td>\n",
       "      <td>0</td>\n",
       "      <td>0</td>\n",
       "      <td>1</td>\n",
       "      <td>9.0</td>\n",
       "    </tr>\n",
       "    <tr>\n",
       "      <td>1</td>\n",
       "      <td>10087</td>\n",
       "      <td>0</td>\n",
       "      <td>0</td>\n",
       "      <td>2</td>\n",
       "      <td>9.0</td>\n",
       "    </tr>\n",
       "    <tr>\n",
       "      <td>2</td>\n",
       "      <td>10102</td>\n",
       "      <td>0</td>\n",
       "      <td>0</td>\n",
       "      <td>1</td>\n",
       "      <td>7.0</td>\n",
       "    </tr>\n",
       "    <tr>\n",
       "      <td>3</td>\n",
       "      <td>10103</td>\n",
       "      <td>0</td>\n",
       "      <td>0</td>\n",
       "      <td>2</td>\n",
       "      <td>7.0</td>\n",
       "    </tr>\n",
       "    <tr>\n",
       "      <td>4</td>\n",
       "      <td>10128</td>\n",
       "      <td>0</td>\n",
       "      <td>0</td>\n",
       "      <td>1</td>\n",
       "      <td>8.0</td>\n",
       "    </tr>\n",
       "  </tbody>\n",
       "</table>\n",
       "</div>"
      ],
      "text/plain": [
       "     ind  father  mother  sex  time\n",
       "0  10086       0       0    1   9.0\n",
       "1  10087       0       0    2   9.0\n",
       "2  10102       0       0    1   7.0\n",
       "3  10103       0       0    2   7.0\n",
       "4  10128       0       0    1   8.0"
      ]
     },
     "execution_count": 26,
     "metadata": {},
     "output_type": "execute_result"
    }
   ],
   "source": [
    "P.ped_df.head()"
   ]
  },
  {
   "cell_type": "code",
   "execution_count": null,
   "metadata": {
    "collapsed": true
   },
   "outputs": [],
   "source": []
  },
  {
   "cell_type": "code",
   "execution_count": null,
   "metadata": {
    "collapsed": true
   },
   "outputs": [],
   "source": []
  },
  {
   "cell_type": "code",
   "execution_count": null,
   "metadata": {
    "collapsed": true
   },
   "outputs": [],
   "source": []
  },
  {
   "cell_type": "code",
   "execution_count": null,
   "metadata": {
    "collapsed": true
   },
   "outputs": [],
   "source": []
  },
  {
   "cell_type": "code",
   "execution_count": null,
   "metadata": {
    "collapsed": true
   },
   "outputs": [],
   "source": []
  },
  {
   "cell_type": "code",
   "execution_count": null,
   "metadata": {
    "collapsed": true
   },
   "outputs": [],
   "source": []
  },
  {
   "cell_type": "code",
   "execution_count": 15,
   "metadata": {
    "collapsed": true
   },
   "outputs": [],
   "source": [
    "cohorts = {}\n",
    "for i in range(20):\n",
    "    cohorts[i] = df['mother'][(df['cohort'] == i) & (df['mother'] != 0)]"
   ]
  },
  {
   "cell_type": "code",
   "execution_count": 16,
   "metadata": {},
   "outputs": [
    {
     "data": {
      "text/plain": [
       "[1504150,\n",
       " 615427,\n",
       " 339214,\n",
       " 215890,\n",
       " 143180,\n",
       " 93538,\n",
       " 59021,\n",
       " 37927,\n",
       " 24690,\n",
       " 15764,\n",
       " 9445,\n",
       " 5384,\n",
       " 2989,\n",
       " 1585,\n",
       " 457,\n",
       " 96,\n",
       " 9,\n",
       " 1,\n",
       " 0,\n",
       " 0]"
      ]
     },
     "execution_count": 16,
     "metadata": {},
     "output_type": "execute_result"
    }
   ],
   "source": [
    "[len(v) for v in cohorts.values()]"
   ]
  },
  {
   "cell_type": "code",
   "execution_count": 17,
   "metadata": {
    "collapsed": true
   },
   "outputs": [],
   "source": [
    "naive_partner = dict(zip(df['mother'], df['father']))"
   ]
  },
  {
   "cell_type": "code",
   "execution_count": 18,
   "metadata": {},
   "outputs": [
    {
     "data": {
      "text/plain": [
       "1868793"
      ]
     },
     "execution_count": 18,
     "metadata": {},
     "output_type": "execute_result"
    }
   ],
   "source": [
    "naive_partner[8232207]"
   ]
  },
  {
   "cell_type": "code",
   "execution_count": 19,
   "metadata": {},
   "outputs": [
    {
     "name": "stderr",
     "output_type": "stream",
     "text": [
      "100%|██████████| 3423179/3423179 [06:56<00:00, 8221.20it/s] \n"
     ]
    }
   ],
   "source": [
    "max_time = 12\n",
    "ped_list = []\n",
    "num_assigned = 0\n",
    "for i, row in tqdm(df.iterrows(), total=df.shape[0]):\n",
    "    mother = row.mother\n",
    "    father = row.father\n",
    "    if row.mother == 0 and row.cohort <= max_time:\n",
    "        num_assigned += 1\n",
    "        parent_choices = np.concatenate([cohorts[t] for t in range(int(row['first']), int(row['last'])+1)])\n",
    "        try:\n",
    "            mother = np.random.choice(parent_choices)\n",
    "        except:\n",
    "            print(i)\n",
    "            print(row)\n",
    "            raise\n",
    "        father = naive_partner[mother]\n",
    "        \n",
    "    ped_list.append([row.ind, mother, father])\n",
    "    "
   ]
  },
  {
   "cell_type": "code",
   "execution_count": null,
   "metadata": {
    "collapsed": true
   },
   "outputs": [],
   "source": []
  },
  {
   "cell_type": "code",
   "execution_count": 20,
   "metadata": {},
   "outputs": [
    {
     "data": {
      "text/plain": [
       "349601"
      ]
     },
     "execution_count": 20,
     "metadata": {},
     "output_type": "execute_result"
    }
   ],
   "source": [
    "num_assigned"
   ]
  },
  {
   "cell_type": "code",
   "execution_count": 21,
   "metadata": {},
   "outputs": [
    {
     "name": "stderr",
     "output_type": "stream",
     "text": [
      "100%|██████████| 3423179/3423179 [00:08<00:00, 394751.93it/s]\n"
     ]
    }
   ],
   "source": [
    "with open('/Users/dnelson/project/pedigree_msp/data/BALSAC/BALasc_probands1930_12gens_reconnected.txt', 'w') as f:\n",
    "    f.write('ind\\tfather\\tmother\\n')\n",
    "    for row in tqdm(ped_list, total=len(ped_list)):\n",
    "        f.write('\\t'.join([str(x) for x in row]) + '\\n')"
   ]
  },
  {
   "cell_type": "code",
   "execution_count": 22,
   "metadata": {},
   "outputs": [
    {
     "data": {
      "text/plain": [
       "[[2340939, 2331548, 2331549],\n",
       " [2750947, 2331548, 2385356],\n",
       " [2331548, 8232298, 2381228]]"
      ]
     },
     "execution_count": 22,
     "metadata": {},
     "output_type": "execute_result"
    }
   ],
   "source": [
    "[r for r in ped_list if 2331548 in r]"
   ]
  },
  {
   "cell_type": "code",
   "execution_count": 23,
   "metadata": {},
   "outputs": [
    {
     "data": {
      "text/plain": [
       "[[1104914, 2333034, 2333035], [1104916, 1104914, 1104915]]"
      ]
     },
     "execution_count": 23,
     "metadata": {},
     "output_type": "execute_result"
    }
   ],
   "source": [
    "[r for r in ped_list if 1104914 in r]"
   ]
  },
  {
   "cell_type": "code",
   "execution_count": 25,
   "metadata": {},
   "outputs": [
    {
     "data": {
      "text/plain": [
       "Counter({0: 1504150,\n",
       "         1: 825970,\n",
       "         2: 409270,\n",
       "         3: 246316,\n",
       "         4: 159167,\n",
       "         5: 101958,\n",
       "         6: 62748,\n",
       "         7: 39983,\n",
       "         8: 26434,\n",
       "         9: 17826,\n",
       "         10: 11239,\n",
       "         11: 6770,\n",
       "         12: 4389,\n",
       "         13: 3413,\n",
       "         14: 2533,\n",
       "         15: 817,\n",
       "         16: 176,\n",
       "         17: 18,\n",
       "         18: 2})"
      ]
     },
     "execution_count": 25,
     "metadata": {},
     "output_type": "execute_result"
    }
   ],
   "source": [
    "Counter(df['cohort'].values)"
   ]
  },
  {
   "cell_type": "code",
   "execution_count": null,
   "metadata": {
    "collapsed": true
   },
   "outputs": [],
   "source": []
  }
 ],
 "metadata": {
  "kernelspec": {
   "display_name": "Python 3",
   "language": "python",
   "name": "python3"
  },
  "language_info": {
   "codemirror_mode": {
    "name": "ipython",
    "version": 3
   },
   "file_extension": ".py",
   "mimetype": "text/x-python",
   "name": "python",
   "nbconvert_exporter": "python",
   "pygments_lexer": "ipython3",
   "version": "3.6.3"
  }
 },
 "nbformat": 4,
 "nbformat_minor": 2
}
